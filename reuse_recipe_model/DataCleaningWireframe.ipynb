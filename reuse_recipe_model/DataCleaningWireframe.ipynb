{
 "cells": [
  {
   "cell_type": "code",
   "execution_count": 1,
   "id": "04f20bf7",
   "metadata": {},
   "outputs": [],
   "source": [
    "from clorm.clingo import Control\n",
    "from clorm import Predicate, ConstantField, IntegerField\n",
    "\n",
    "ctrl = Control()\n",
    "ctrl.load(\"recipe_model_v4.pl\")\n",
    "#ctrl.add_facts(db)"
   ]
  },
  {
   "cell_type": "code",
   "execution_count": 16,
   "id": "8ed3efdb",
   "metadata": {},
   "outputs": [],
   "source": [
    "class Process(Predicate):\n",
    "    pid=ConstantField\n",
    "    name=ConstantField"
   ]
  },
  {
   "cell_type": "code",
   "execution_count": 18,
   "id": "e2b5ad90",
   "metadata": {},
   "outputs": [],
   "source": [
    "ctrl = Control(unifier=[Process])\n",
    "ctrl.load(\"recipe_model_v4.pl\")"
   ]
  },
  {
   "cell_type": "code",
   "execution_count": 20,
   "id": "76f21138",
   "metadata": {},
   "outputs": [
    {
     "name": "stderr",
     "output_type": "stream",
     "text": [
      "recipe_model_v4.pl:314:16-19: info: global variable in tuple of aggregate element:\n",
      "  RId\n",
      "\n"
     ]
    }
   ],
   "source": [
    "ctrl.ground([(\"base\",[])])"
   ]
  },
  {
   "cell_type": "code",
   "execution_count": 23,
   "id": "59053682",
   "metadata": {},
   "outputs": [],
   "source": [
    "from clorm import FactBase\n",
    "\n",
    "class Driver(Predicate):\n",
    "    name=ConstantField\n",
    "\n",
    "class Item(Predicate):\n",
    "    name=ConstantField\n",
    "\n",
    "class Assignment(Predicate):\n",
    "    item=ConstantField\n",
    "    driver=ConstantField\n",
    "    time=IntegerField\n",
    "\n",
    "ctrl = Control(unifier=[Driver,Item,Assignment])\n",
    "ctrl.load(\"quickstart.pl\")\n",
    "    \n",
    "    \n",
    "drivers = [ Driver(name=n) for n in [\"dave\", \"morri\", \"michael\" ] ]\n",
    "items = [ Item(name=\"item{}\".format(i)) for i in range(1,6) ]\n",
    "instance = FactBase(drivers + items)"
   ]
  },
  {
   "cell_type": "code",
   "execution_count": 25,
   "id": "c974a385",
   "metadata": {},
   "outputs": [],
   "source": [
    "ctrl.add_facts(instance)\n",
    "ctrl.ground([(\"base\",[])])"
   ]
  },
  {
   "cell_type": "code",
   "execution_count": 26,
   "id": "12d7070a",
   "metadata": {},
   "outputs": [],
   "source": [
    "solution=None\n",
    "def on_model(model):\n",
    "    global solution     # Note: use `nonlocal` keyword depending on scope\n",
    "    solution = model.facts(atoms=True)\n",
    "\n",
    "ctrl.solve(on_model=on_model)\n",
    "if not solution:\n",
    "    raise ValueError(\"No solution found\")\n"
   ]
  },
  {
   "cell_type": "code",
   "execution_count": 27,
   "id": "50602049",
   "metadata": {},
   "outputs": [],
   "source": [
    "from clorm import ph1_\n",
    "\n",
    "query=solution.query(Assignment)\\\n",
    "              .where(Assignment.driver == ph1_)\\\n",
    "              .order_by(Assignment.time)\n"
   ]
  },
  {
   "cell_type": "code",
   "execution_count": 28,
   "id": "bc8cc435",
   "metadata": {},
   "outputs": [
    {
     "name": "stdout",
     "output_type": "stream",
     "text": [
      "Driver dave must deliver: \n",
      "\t Item item5 at time 1\n",
      "\t Item item4 at time 2\n",
      "Driver morri must deliver: \n",
      "\t Item item1 at time 1\n",
      "\t Item item2 at time 2\n",
      "\t Item item3 at time 3\n",
      "Driver michael is not working today\n"
     ]
    }
   ],
   "source": [
    "for d in drivers:\n",
    "    assignments = list(query.bind(d.name).all())\n",
    "    if not assignments:\n",
    "        print(\"Driver {} is not working today\".format(d.name))\n",
    "    else:\n",
    "        print(\"Driver {} must deliver: \".format(d.name))\n",
    "        for a in assignments:\n",
    "            print(\"\\t Item {} at time {}\".format(a.item, a.time))\n"
   ]
  },
  {
   "cell_type": "code",
   "execution_count": 29,
   "id": "a5ee2f41",
   "metadata": {},
   "outputs": [],
   "source": [
    "import pandas as pd"
   ]
  },
  {
   "cell_type": "code",
   "execution_count": 31,
   "id": "478f5348",
   "metadata": {},
   "outputs": [],
   "source": [
    "import pyparsing as pp"
   ]
  },
  {
   "cell_type": "code",
   "execution_count": 32,
   "id": "2bbf0731",
   "metadata": {},
   "outputs": [],
   "source": [
    "#relationship will refer to 'track' in all of your examples\n",
    "relationship = pp.Word(pp.alphas).setResultsName('relationship')\n",
    "\n",
    "number = pp.Word(pp.nums + '.')\n",
    "variable = pp.Word(pp.alphas)\n",
    "# an argument to a relationship can be either a number or a variable\n",
    "argument = number | variable\n",
    "\n",
    "# arguments are a delimited list of 'argument' surrounded by parenthesis\n",
    "arguments= (pp.Suppress('(') + pp.delimitedList(argument) +\n",
    "            pp.Suppress(')')).setResultsName('arguments')\n",
    "\n",
    "# a fact is composed of a relationship and it's arguments \n",
    "# (I'm aware it's actually more complicated than this\n",
    "# it's just a simplifying assumption)\n",
    "fact = (relationship + arguments).setResultsName('facts', listAllMatches=True)\n",
    "\n",
    "# a sentence is a fact plus a period\n",
    "sentence = fact + pp.Suppress('.')\n",
    "\n",
    "# self explanatory\n",
    "prolog_sentences = pp.OneOrMore(sentence)\n"
   ]
  },
  {
   "cell_type": "code",
   "execution_count": 35,
   "id": "23e52dd5",
   "metadata": {},
   "outputs": [],
   "source": [
    "facts  = \"\"\n",
    "with open(\"recipe_model_v4_output.pl\",\"r\") as file:\n",
    "    for l in file:\n",
    "        if l.strip().startswith(\"%\"):\n",
    "            continue\n",
    "        \n",
    "        facts += l.strip() + \"\\n\""
   ]
  },
  {
   "cell_type": "code",
   "execution_count": 36,
   "id": "9a6fb1f1",
   "metadata": {},
   "outputs": [],
   "source": [
    "#facts"
   ]
  },
  {
   "cell_type": "code",
   "execution_count": 37,
   "id": "ce4ce751",
   "metadata": {},
   "outputs": [],
   "source": [
    "from clingo.symbol import Number\n",
    "from clingo.control import Control\n",
    "\n",
    "def on_model(m):\n",
    "    #print(str(m).split(\" \"))\n",
    "    return(str(m))\n",
    "ctl = Control()\n",
    "ctl.add(\"base\", [], facts)"
   ]
  },
  {
   "cell_type": "code",
   "execution_count": 38,
   "id": "fae8a286",
   "metadata": {},
   "outputs": [
    {
     "name": "stderr",
     "output_type": "stream",
     "text": [
      "<block>:234:12-15: info: global variable in tuple of aggregate element:\n",
      "  RId\n",
      "\n"
     ]
    }
   ],
   "source": [
    "ctl.ground([(\"base\", [])])\n",
    "solver = ctl.solve(on_model=on_model,yield_=True)"
   ]
  },
  {
   "cell_type": "code",
   "execution_count": 39,
   "id": "c50b82ea",
   "metadata": {},
   "outputs": [],
   "source": [
    "output = []\n",
    "for x in solver:\n",
    "    output.append(x)"
   ]
  },
  {
   "cell_type": "code",
   "execution_count": 40,
   "id": "caaa1463",
   "metadata": {},
   "outputs": [],
   "source": [
    "df_output = {}\n",
    "df_output_str = {}\n",
    "for s in x.context.symbolic_atoms.signatures:\n",
    "    #print(s)\n",
    "    df_output[(s[0],s[1])] = []\n",
    "    df_output_str[(s[0],s[1])] = []\n",
    "    for y in x.context.symbolic_atoms.by_signature(s[0],s[1]):\n",
    "        temp_tuple = [y.symbol.name]\n",
    "        temp_tuple = temp_tuple + [str(z) for z in y.symbol.arguments]\n",
    "        df_output[(s[0],s[1])].append(y.symbol)\n",
    "        df_output_str[(s[0],s[1])].append(temp_tuple)"
   ]
  },
  {
   "cell_type": "code",
   "execution_count": 41,
   "id": "698677bb",
   "metadata": {},
   "outputs": [
    {
     "data": {
      "text/plain": [
       "[('column_schema', 3, True),\n",
       " ('parameter', 3, True),\n",
       " ('process', 2, True),\n",
       " ('process_blueprint', 4, True),\n",
       " ('workflow_step', 3, True),\n",
       " ('step_input_schema', 3, True),\n",
       " ('workflow_input_violation', 3, True),\n",
       " ('step_output_schema', 3, True),\n",
       " ('workflow_output_violation', 3, True),\n",
       " ('dq_problem', 2, True),\n",
       " ('step_dq_problem', 3, True),\n",
       " ('dq_problem_violation', 3, True),\n",
       " ('workflow_input', 5, True),\n",
       " ('output_process', 2, True),\n",
       " ('inject_workflow_step', 1, True),\n",
       " ('inject_violation', 6, True),\n",
       " ('input_process', 2, True),\n",
       " ('recipe', 4, True),\n",
       " ('recipe_input_sink', 2, True),\n",
       " ('recipe_output_sink', 2, True),\n",
       " ('reuse_recipe', 1, True),\n",
       " ('reuse_violation', 4, True),\n",
       " ('inject_violation_checking', 6, True),\n",
       " ('select_workflow_step', 4, True),\n",
       " ('injected_parameter', 4, True),\n",
       " ('process_schema', 5, True),\n",
       " ('workflow_path', 4, True),\n",
       " ('example_flow', 4, True),\n",
       " ('column', 4, True),\n",
       " ('dataset', 2, True),\n",
       " ('array', 2, True),\n",
       " ('parameter', 4, True),\n",
       " ('update_workflow_step', 2, True)]"
      ]
     },
     "execution_count": 41,
     "metadata": {},
     "output_type": "execute_result"
    }
   ],
   "source": [
    "x.context.symbolic_atoms.signatures"
   ]
  },
  {
   "cell_type": "code",
   "execution_count": 42,
   "id": "f9964e5f",
   "metadata": {},
   "outputs": [
    {
     "data": {
      "text/plain": [
       "[['step_input_schema',\n",
       "  'column_state(c11,1)',\n",
       "  'p1',\n",
       "  'column_schema(cs1,name,full_name)'],\n",
       " ['step_input_schema',\n",
       "  'column_state(c11,1)',\n",
       "  'p1',\n",
       "  'column_schema(cs1,data_type,text)']]"
      ]
     },
     "execution_count": 42,
     "metadata": {},
     "output_type": "execute_result"
    }
   ],
   "source": [
    "df_output_str[(\"step_input_schema\",3)]"
   ]
  },
  {
   "cell_type": "code",
   "execution_count": 43,
   "id": "f23eb514",
   "metadata": {},
   "outputs": [
    {
     "data": {
      "text/plain": [
       "[['output_process', 'p1', 'cs1'],\n",
       " ['output_process', 'p1', 'cs2'],\n",
       " ['output_process', 'p1', 'cs3'],\n",
       " ['output_process', 'p2', 'cs4'],\n",
       " ['output_process', 'p3', 'cs4'],\n",
       " ['output_process', 'p4', 'cs4'],\n",
       " ['output_process', 'p5', 'cs4'],\n",
       " ['output_process', 'p6', 'cs5'],\n",
       " ['output_process', 'p7', 'cs7']]"
      ]
     },
     "execution_count": 43,
     "metadata": {},
     "output_type": "execute_result"
    }
   ],
   "source": [
    "df_output_str[(\"output_process\",2)]"
   ]
  },
  {
   "cell_type": "code",
   "execution_count": 44,
   "id": "cd9cad42",
   "metadata": {},
   "outputs": [
    {
     "data": {
      "text/plain": [
       "[['process', 'p1', 'split_name'],\n",
       " ['process', 'p2', 'upper_case'],\n",
       " ['process', 'p3', 'rename_col'],\n",
       " ['process', 'p4', 'merge_col'],\n",
       " ['process', 'p5', 'normalize_char'],\n",
       " ['process', 'p6', 'normalize_date'],\n",
       " ['process', 'p7', 'fixed_ssn']]"
      ]
     },
     "execution_count": 44,
     "metadata": {},
     "output_type": "execute_result"
    }
   ],
   "source": [
    "df_output_str[(\"process\",2)]"
   ]
  },
  {
   "cell_type": "code",
   "execution_count": 45,
   "id": "e832f76f",
   "metadata": {},
   "outputs": [
    {
     "data": {
      "text/plain": [
       "[['column_schema', 'cs1', 'name', 'full_name'],\n",
       " ['column_schema', 'cs1', 'data_type', 'text'],\n",
       " ['column_schema', 'cs2', 'name', 'first_name'],\n",
       " ['column_schema', 'cs2', 'data_type', 'text'],\n",
       " ['column_schema', 'cs3', 'name', 'last_name'],\n",
       " ['column_schema', 'cs3', 'data_type', 'text'],\n",
       " ['column_schema', 'cs6', 'name', 'ssn'],\n",
       " ['column_schema', 'cs6', 'data_type', 'text'],\n",
       " ['column_schema', 'cs7', 'name', 'ssn'],\n",
       " ['column_schema', 'cs7', 'data_type', 'number'],\n",
       " ['column_schema', 'cs4', 'data_type', 'text'],\n",
       " ['column_schema', 'cs5', 'data_type', 'number']]"
      ]
     },
     "execution_count": 45,
     "metadata": {},
     "output_type": "execute_result"
    }
   ],
   "source": [
    "df_output_str[(\"column_schema\",3)]"
   ]
  },
  {
   "cell_type": "code",
   "execution_count": 46,
   "id": "307dfd00",
   "metadata": {},
   "outputs": [],
   "source": [
    "# visualize using graphviz yw layout\n",
    "\n",
    "\n",
    "nodes_def = \"\"\"\n",
    "digraph \"[stackcollapse]\" {\n",
    "node [style=filled fillcolor=\"#f8f8f8\"]\n",
    "\"\"\"\n",
    "\n",
    "edge_def = \"\"\n",
    "\n",
    "# workflow template gv format\n",
    "\n",
    "header = \"\"\"\n",
    "/* Start of top-level graph */\n",
    "digraph Workflow {\n",
    "rankdir=TB\n",
    "\n",
    "/* Start of double cluster for drawing box around nodes in workflow */\n",
    "subgraph cluster_workflow_box_outer { label=\"\"; penwidth=0\n",
    "subgraph cluster_workflow_box_inner { label=\"\"; penwidth=0\n",
    "\"\"\"\n",
    "\n",
    "single_process = \"\"\"\n",
    "/* Style for nodes representing atomic programs in workflow */\n",
    "node[shape=box style=filled fillcolor=\"#CCFFCC\" peripheries=1 fontname=Helvetica]\n",
    "\n",
    "/* Nodes representing atomic programs in workflow */\n",
    "\"\"\"\n",
    "#state_4 [shape=record rankdir=LR label=\"{<f0> step 4 (to_date) | grel\\:value.replace(/\\\\/i,'') | 16492 cells changed}\"];\n",
    "\n",
    "\n",
    "side_b_process = \"\"\"\n",
    "node[shape=box style=filled fillcolor=\"#CCCCFF\" peripheries=1 fontname=Helvetica]\n",
    "\"\"\"\n",
    "#state_5 [shape=record rankdir=LR label=\"{<f0> state_5 |<f1> core/mass-edit\\nclustering\\ngroup clustering 4 processes}\"];\n",
    "\n",
    "side_b_data = \"\"\"\n",
    "node[shape=box style=\"rounded,filled\" fillcolor=\"#FFDDDD\" peripheries=1 fontname=Helvetica]\n",
    "\"\"\"\n",
    "\n",
    "side_a_data = \"\"\"\n",
    "node[shape=box style=\"rounded,filled\" fillcolor=\"#CCFFFF\" peripheries=1 fontname=Helvetica]\n",
    "\"\"\"\n",
    "\n",
    "\n",
    "freq_pattern_nodes = \"\"\"\n",
    "node[shape=box style=filled fillcolor=\"#CCFFFF\" peripheries=1 fontname=Helvetica]\n",
    "\"\"\"\n",
    "#state_5 [shape=record rankdir=LR label=\"{<f0> state_5 |<f1> core/mass-edit\\nclustering\\ngroup clustering 4 processes}\"];\n",
    "\n",
    "column_nodes = \"\"\"\n",
    "/* Style for nodes representing non-parameter data channels in workflow */\n",
    "node[shape=box style=\"rounded,filled\" fillcolor=\"#FFFFCC\" peripheries=1 fontname=Helvetica]\n",
    "\n",
    "/* Nodes for non-parameter data channels in workflow */\n",
    "\"\"\"\n",
    "#\"col12_0-date\" [shape=record rankdir=LR label=\"{<f0> date_0 }\"]\n",
    "\n",
    "parameters_nodes = \"\"\"\n",
    "/* Style for nodes representing parameter channels in workflow */\n",
    "node[shape=box style=\"rounded,filled\" fillcolor=\"#FCFCFC\" peripheries=1 fontname=Helvetica]\n",
    "\n",
    "/* Nodes representing parameter channels in workflow */\n",
    "\"\"\"\n",
    "\n",
    "edges = \"\"\"\n",
    "/* Edges representing connections between programs and channels */\n",
    "\"\"\"\n",
    "#\"col12_0-date\" -> state_4\n",
    "\n",
    "\n",
    "footer = \"\"\"\n",
    "/* End of double cluster for drawing box around nodes in workflow */\n",
    "}}\n",
    "\n",
    "/* End of top-level graph */\n",
    "}\n",
    "\"\"\"\n",
    "\n",
    "# process nodes\n",
    "for p in df_output_str[(\"process\",2)]:\n",
    "    single_process+='''\n",
    "    \"{pid}\" [shape=record rankdir=LR label=\"{{<f0> {pid} ({process_name}) }}\"];\n",
    "    '''.format(pid=p[1],process_name=p[2])\n",
    "\n",
    "# schema nodes\n",
    "for cs in df_output_str[(\"column_schema\",3)]:    \n",
    "    column_nodes+=\"\"\"\n",
    "    \"{node_name}\" [shape=record rankdir=LR label=\"{{<f0> {label} }}\"]\n",
    "    \"\"\".format(node_name=cs[1],label=cs[1])\n",
    "    parameters_nodes+=\"\"\"\n",
    "    \"{node_name}\" [shape=record rankdir=LR label=\"{{<f0> {label} }}\"]\n",
    "    \"\"\".format(node_name=cs[1]+\"_\"+cs[2],label=cs[3])\n",
    "    edges+=\"\"\"\n",
    "        {input} -> {output} [label=\"{data}\" weight=14 color=\"#b26e37\" tooltip=\"\" labeltooltip=\"\"]    \n",
    "    \"\"\".format(input=cs[1]+\"_\"+cs[2],output=cs[1],data=cs[2])   \n",
    "\n",
    "# edge input output\n",
    "for inp in df_output_str[(\"input_process\",2)]:                    \n",
    "    edges+=\"\"\"\n",
    "        {input} -> {output} [label=\"{data}\" weight=14 color=\"#b26e37\" tooltip=\"\" labeltooltip=\"\"]    \n",
    "    \"\"\".format(input=inp[2],output=inp[1],data=\"\")            \n",
    "\n",
    "for out in df_output_str[(\"output_process\",2)]:                    \n",
    "    edges+=\"\"\"\n",
    "        {input} -> {output} [label=\"{data}\" weight=14 color=\"#b26e37\" tooltip=\"\" labeltooltip=\"\"]    \n",
    "    \"\"\".format(input=out[1],output=out[2],data=\"\")            \n",
    "\n",
    "                        \n",
    "\n",
    "gv_string = header+single_process+column_nodes+parameters_nodes+side_b_process+side_a_data+side_b_data+freq_pattern_nodes+edges+footer\n",
    "\n"
   ]
  },
  {
   "cell_type": "code",
   "execution_count": 47,
   "id": "c558acdc",
   "metadata": {},
   "outputs": [],
   "source": [
    "from IPython.display import Image\n",
    "def generate_pdf(gv_string,filename=\"temp\"):\n",
    "    input = filename+\".gv\"\n",
    "    with open(input,\"w\") as file:\n",
    "        file.write(gv_string)\n",
    "    output = filename+\".png\"    \n",
    "    !dot -Tpng -o $output $input \n",
    "    return Image(filename=output) "
   ]
  },
  {
   "cell_type": "code",
   "execution_count": 48,
   "id": "bc2296a9",
   "metadata": {},
   "outputs": [
    {
     "data": {
      "image/png": "[encoded data removed]",
      "text/plain": [
       "<IPython.core.display.Image object>"
      ]
     },
     "execution_count": 48,
     "metadata": {},
     "output_type": "execute_result"
    }
   ],
   "source": [
    "generate_pdf(gv_string,\"process_model\")"
   ]
  },
  {
   "cell_type": "code",
   "execution_count": 145,
   "id": "522936c0",
   "metadata": {},
   "outputs": [
    {
     "data": {
      "text/plain": [
       "[['column_schema', 'cs11', 'name', 'full_name'],\n",
       " ['column_schema', 'cs11', 'data_type', 'text'],\n",
       " ['column_schema', 'cs12', 'name', 'first_name'],\n",
       " ['column_schema', 'cs12', 'data_type', 'text'],\n",
       " ['column_schema', 'cs13', 'name', 'last_name'],\n",
       " ['column_schema', 'cs13', 'data_type', 'text'],\n",
       " ['column_schema', 'cs13_1', 'name', 'ssn'],\n",
       " ['column_schema', 'cs13_1', 'data_type', 'number'],\n",
       " ['column_schema', 'cs14', 'data_type', 'text'],\n",
       " ['column_schema', 'cs15', 'data_type', 'number']]"
      ]
     },
     "execution_count": 145,
     "metadata": {},
     "output_type": "execute_result"
    }
   ],
   "source": [
    "df_output_str[(\"column_schema\",3)]"
   ]
  },
  {
   "cell_type": "code",
   "execution_count": 101,
   "id": "130a0b55",
   "metadata": {},
   "outputs": [
    {
     "data": {
      "text/plain": [
       "[('column_schema', 3, True),\n",
       " ('parameter', 3, True),\n",
       " ('process', 2, True),\n",
       " ('process_blueprint', 4, True),\n",
       " ('workflow_step', 3, True),\n",
       " ('step_input_schema', 3, True),\n",
       " ('workflow_input_violation', 3, True),\n",
       " ('step_output_schema', 3, True),\n",
       " ('workflow_output_violation', 3, True),\n",
       " ('dq_problem', 2, True),\n",
       " ('step_dq_problem', 3, True),\n",
       " ('dq_problem_violation', 3, True),\n",
       " ('workflow_input', 5, True),\n",
       " ('output_process', 2, True),\n",
       " ('inject_workflow_step', 1, True),\n",
       " ('inject_violation', 6, True),\n",
       " ('input_process', 2, True),\n",
       " ('recipe', 4, True),\n",
       " ('recipe_input_sink', 2, True),\n",
       " ('recipe_output_sink', 2, True),\n",
       " ('reuse_recipe', 1, True),\n",
       " ('reuse_violation', 4, True),\n",
       " ('inject_violation_checking', 6, True),\n",
       " ('select_workflow_step', 4, True),\n",
       " ('injected_parameter', 4, True),\n",
       " ('process_schema', 5, True),\n",
       " ('workflow_path', 4, True),\n",
       " ('example_flow', 4, True),\n",
       " ('column', 4, True),\n",
       " ('dataset', 2, True),\n",
       " ('array', 2, True),\n",
       " ('parameter', 4, True),\n",
       " ('update_workflow_step', 2, True)]"
      ]
     },
     "execution_count": 101,
     "metadata": {},
     "output_type": "execute_result"
    }
   ],
   "source": [
    "x.context.symbolic_atoms.signatures"
   ]
  },
  {
   "cell_type": "code",
   "execution_count": 106,
   "id": "afd3ae26",
   "metadata": {},
   "outputs": [
    {
     "name": "stdout",
     "output_type": "stream",
     "text": [
      "column_schema(cs11,name,full_name)\n",
      "column_schema(cs11,data_type,text)\n",
      "column_schema(cs12,name,first_name)\n",
      "column_schema(cs12,data_type,text)\n",
      "column_schema(cs13,name,last_name)\n",
      "column_schema(cs13,data_type,text)\n",
      "column_schema(cs13_1,name,ssn)\n",
      "column_schema(cs13_1,data_type,number)\n",
      "column_schema(cs14,data_type,text)\n",
      "column_schema(cs15,data_type,number)\n"
     ]
    }
   ],
   "source": [
    "for y in x.context.symbolic_atoms.by_signature(\"column_schema\",3):\n",
    "    print(y.symbol)"
   ]
  },
  {
   "cell_type": "code",
   "execution_count": 107,
   "id": "25b59209",
   "metadata": {},
   "outputs": [
    {
     "name": "stdout",
     "output_type": "stream",
     "text": [
      "workflow_step(column_state(c11,1),p1,column_state(c11,2))\n",
      "workflow_step(column_state(c11,1),p1,column_state(c12,1))\n",
      "workflow_step(column_state(c11,1),p1,column_state(c13,1))\n",
      "workflow_step(column_state(c12,1),p1,column_state(c12,2))\n",
      "workflow_step(column_state(c12,1),p6,column_state(c12,2))\n",
      "workflow_step(column_state(c12,1),p6,column_state(c13_1,1))\n"
     ]
    }
   ],
   "source": [
    "for y in x.context.symbolic_atoms.by_signature(\"workflow_step\",3):\n",
    "    print(y.symbol)"
   ]
  },
  {
   "cell_type": "code",
   "execution_count": 108,
   "id": "05e3f57f",
   "metadata": {},
   "outputs": [
    {
     "name": "stdout",
     "output_type": "stream",
     "text": [
      "step_input_schema(column_state(c11,1),p1,column_schema(cs11,name,full_name))\n",
      "step_input_schema(column_state(c11,1),p1,column_schema(cs11,data_type,text))\n",
      "step_input_schema(column_state(c12,1),p1,column_schema(cs12,name,first_name))\n",
      "step_input_schema(column_state(c12,1),p1,column_schema(cs12,data_type,text))\n",
      "step_input_schema(column_state(c12,1),p6,column_schema(cs12,name,first_name))\n",
      "step_input_schema(column_state(c12,1),p6,column_schema(cs12,data_type,text))\n"
     ]
    }
   ],
   "source": [
    "for y in x.context.symbolic_atoms.by_signature(\"step_input_schema\",3):\n",
    "    print(y.symbol)"
   ]
  },
  {
   "cell_type": "code",
   "execution_count": 129,
   "id": "b80059b7",
   "metadata": {},
   "outputs": [
    {
     "data": {
      "text/plain": [
       "'step_input_schema'"
      ]
     },
     "execution_count": 129,
     "metadata": {},
     "output_type": "execute_result"
    }
   ],
   "source": [
    "y.symbol.name"
   ]
  },
  {
   "cell_type": "code",
   "execution_count": 122,
   "id": "8c72c4e8",
   "metadata": {},
   "outputs": [
    {
     "data": {
      "text/plain": [
       "'column_state(c12,1)'"
      ]
     },
     "execution_count": 122,
     "metadata": {},
     "output_type": "execute_result"
    }
   ],
   "source": [
    "str(y.symbol.arguments[0])"
   ]
  },
  {
   "cell_type": "code",
   "execution_count": 123,
   "id": "b8f0a405",
   "metadata": {},
   "outputs": [
    {
     "data": {
      "text/plain": [
       "'p6'"
      ]
     },
     "execution_count": 123,
     "metadata": {},
     "output_type": "execute_result"
    }
   ],
   "source": [
    "str(y.symbol.arguments[1])"
   ]
  },
  {
   "cell_type": "code",
   "execution_count": 124,
   "id": "3f060fa5",
   "metadata": {},
   "outputs": [
    {
     "data": {
      "text/plain": [
       "'column_schema(cs12,data_type,text)'"
      ]
     },
     "execution_count": 124,
     "metadata": {},
     "output_type": "execute_result"
    }
   ],
   "source": [
    "str(y.symbol.arguments[2])"
   ]
  },
  {
   "cell_type": "code",
   "execution_count": 70,
   "id": "c24573e2",
   "metadata": {},
   "outputs": [
    {
     "name": "stdout",
     "output_type": "stream",
     "text": [
      "workflow_input_violation(column_state(c12,1),p1,column_schema(cs11,name,full_name)) workflow_output_violation(column_state(c12,1),p1,column_schema(cs11,name,full_name)) workflow_output_violation(column_state(c12,1),p1,column_schema(cs13,name,last_name)) dq_problem_violation(column_state(c11,1),p1,null_value) dq_problem_violation(column_state(c12,1),p6,date_format_error)\n"
     ]
    }
   ],
   "source": [
    "test = ctl.solve(on_model=on_model)"
   ]
  },
  {
   "cell_type": "code",
   "execution_count": 72,
   "id": "e9a618d0",
   "metadata": {},
   "outputs": [
    {
     "data": {
      "text/plain": [
       "False"
      ]
     },
     "execution_count": 72,
     "metadata": {},
     "output_type": "execute_result"
    }
   ],
   "source": [
    "test.unknown"
   ]
  },
  {
   "cell_type": "code",
   "execution_count": 44,
   "id": "ea1e69a6",
   "metadata": {},
   "outputs": [
    {
     "ename": "ParseException",
     "evalue": "Expected \")\", found '1'  (at char 9), (line:1, col:10)",
     "output_type": "error",
     "traceback": [
      "\u001b[0;31m---------------------------------------------------------------------------\u001b[0m",
      "\u001b[0;31mParseException\u001b[0m                            Traceback (most recent call last)",
      "\u001b[0;32m/tmp/ipykernel_173628/4123674497.py\u001b[0m in \u001b[0;36m<module>\u001b[0;34m\u001b[0m\n\u001b[0;32m----> 1\u001b[0;31m \u001b[0mresult\u001b[0m \u001b[0;34m=\u001b[0m \u001b[0mprolog_sentences\u001b[0m\u001b[0;34m.\u001b[0m\u001b[0mparseString\u001b[0m\u001b[0;34m(\u001b[0m\u001b[0mfacts\u001b[0m\u001b[0;34m)\u001b[0m\u001b[0;34m\u001b[0m\u001b[0;34m\u001b[0m\u001b[0m\n\u001b[0m",
      "\u001b[0;32m~/anaconda3/envs/jupyter/lib/python3.7/site-packages/pyparsing.py\u001b[0m in \u001b[0;36mparseString\u001b[0;34m(self, instring, parseAll)\u001b[0m\n\u001b[1;32m   1953\u001b[0m                 \u001b[0;32mif\u001b[0m \u001b[0mgetattr\u001b[0m\u001b[0;34m(\u001b[0m\u001b[0mexc\u001b[0m\u001b[0;34m,\u001b[0m \u001b[0;34m'__traceback__'\u001b[0m\u001b[0;34m,\u001b[0m \u001b[0;32mNone\u001b[0m\u001b[0;34m)\u001b[0m \u001b[0;32mis\u001b[0m \u001b[0;32mnot\u001b[0m \u001b[0;32mNone\u001b[0m\u001b[0;34m:\u001b[0m\u001b[0;34m\u001b[0m\u001b[0;34m\u001b[0m\u001b[0m\n\u001b[1;32m   1954\u001b[0m                     \u001b[0mexc\u001b[0m\u001b[0;34m.\u001b[0m\u001b[0m__traceback__\u001b[0m \u001b[0;34m=\u001b[0m \u001b[0mself\u001b[0m\u001b[0;34m.\u001b[0m\u001b[0m_trim_traceback\u001b[0m\u001b[0;34m(\u001b[0m\u001b[0mexc\u001b[0m\u001b[0;34m.\u001b[0m\u001b[0m__traceback__\u001b[0m\u001b[0;34m)\u001b[0m\u001b[0;34m\u001b[0m\u001b[0;34m\u001b[0m\u001b[0m\n\u001b[0;32m-> 1955\u001b[0;31m                 \u001b[0;32mraise\u001b[0m \u001b[0mexc\u001b[0m\u001b[0;34m\u001b[0m\u001b[0;34m\u001b[0m\u001b[0m\n\u001b[0m\u001b[1;32m   1956\u001b[0m         \u001b[0;32melse\u001b[0m\u001b[0;34m:\u001b[0m\u001b[0;34m\u001b[0m\u001b[0;34m\u001b[0m\u001b[0m\n\u001b[1;32m   1957\u001b[0m             \u001b[0;32mreturn\u001b[0m \u001b[0mtokens\u001b[0m\u001b[0;34m\u001b[0m\u001b[0;34m\u001b[0m\u001b[0m\n",
      "\u001b[0;32m~/anaconda3/envs/jupyter/lib/python3.7/site-packages/pyparsing.py\u001b[0m in \u001b[0;36mparseImpl\u001b[0;34m(self, instring, loc, doActions)\u001b[0m\n\u001b[1;32m   2897\u001b[0m         \u001b[0;32mif\u001b[0m \u001b[0minstring\u001b[0m\u001b[0;34m[\u001b[0m\u001b[0mloc\u001b[0m\u001b[0;34m]\u001b[0m \u001b[0;34m==\u001b[0m \u001b[0mself\u001b[0m\u001b[0;34m.\u001b[0m\u001b[0mfirstMatchChar\u001b[0m\u001b[0;34m:\u001b[0m\u001b[0;34m\u001b[0m\u001b[0;34m\u001b[0m\u001b[0m\n\u001b[1;32m   2898\u001b[0m             \u001b[0;32mreturn\u001b[0m \u001b[0mloc\u001b[0m \u001b[0;34m+\u001b[0m \u001b[0;36m1\u001b[0m\u001b[0;34m,\u001b[0m \u001b[0mself\u001b[0m\u001b[0;34m.\u001b[0m\u001b[0mmatch\u001b[0m\u001b[0;34m\u001b[0m\u001b[0;34m\u001b[0m\u001b[0m\n\u001b[0;32m-> 2899\u001b[0;31m         \u001b[0;32mraise\u001b[0m \u001b[0mParseException\u001b[0m\u001b[0;34m(\u001b[0m\u001b[0minstring\u001b[0m\u001b[0;34m,\u001b[0m \u001b[0mloc\u001b[0m\u001b[0;34m,\u001b[0m \u001b[0mself\u001b[0m\u001b[0;34m.\u001b[0m\u001b[0merrmsg\u001b[0m\u001b[0;34m,\u001b[0m \u001b[0mself\u001b[0m\u001b[0;34m)\u001b[0m\u001b[0;34m\u001b[0m\u001b[0;34m\u001b[0m\u001b[0m\n\u001b[0m\u001b[1;32m   2900\u001b[0m \u001b[0;34m\u001b[0m\u001b[0m\n\u001b[1;32m   2901\u001b[0m \u001b[0m_L\u001b[0m \u001b[0;34m=\u001b[0m \u001b[0mLiteral\u001b[0m\u001b[0;34m\u001b[0m\u001b[0;34m\u001b[0m\u001b[0m\n",
      "\u001b[0;31mParseException\u001b[0m: Expected \")\", found '1'  (at char 9), (line:1, col:10)"
     ]
    }
   ],
   "source": [
    "result = prolog_sentences.parseString(facts)"
   ]
  },
  {
   "cell_type": "code",
   "execution_count": 40,
   "id": "299bec85",
   "metadata": {},
   "outputs": [
    {
     "data": {
      "text/plain": [
       "(['track', '1', '2.0', '4000', '3', '300', 'track', '2', '1.0', '9000', '5', '500', 'track', '3', '7.0', '9000', '2', '200'], {'relationship': ['track', 'track', 'track'], 'arguments': [(['1', '2.0', '4000', '3', '300'], {}), (['2', '1.0', '9000', '5', '500'], {}), (['3', '7.0', '9000', '2', '200'], {})], 'facts': [(['track', '1', '2.0', '4000', '3', '300'], {}), (['track', '2', '1.0', '9000', '5', '500'], {}), (['track', '3', '7.0', '9000', '2', '200'], {})]})"
      ]
     },
     "execution_count": 40,
     "metadata": {},
     "output_type": "execute_result"
    }
   ],
   "source": [
    "result"
   ]
  },
  {
   "cell_type": "code",
   "execution_count": 35,
   "id": "01f9827e",
   "metadata": {},
   "outputs": [
    {
     "name": "stdout",
     "output_type": "stream",
     "text": [
      "['track', '1', '2.0', '4000', '3', '300']\n"
     ]
    },
    {
     "ename": "KeyError",
     "evalue": "'relationship'",
     "output_type": "error",
     "traceback": [
      "\u001b[0;31m---------------------------------------------------------------------------\u001b[0m",
      "\u001b[0;31mKeyError\u001b[0m                                  Traceback (most recent call last)",
      "\u001b[0;32m/tmp/ipykernel_173628/909149491.py\u001b[0m in \u001b[0;36m<module>\u001b[0;34m\u001b[0m\n\u001b[1;32m      8\u001b[0m \u001b[0;31m# outputs ['1', '2.0', '4000', '3', '300']\u001b[0m\u001b[0;34m\u001b[0m\u001b[0;34m\u001b[0m\u001b[0;34m\u001b[0m\u001b[0m\n\u001b[1;32m      9\u001b[0m \u001b[0;34m\u001b[0m\u001b[0m\n\u001b[0;32m---> 10\u001b[0;31m \u001b[0mprint\u001b[0m\u001b[0;34m(\u001b[0m\u001b[0mresult\u001b[0m\u001b[0;34m[\u001b[0m\u001b[0;34m'facts'\u001b[0m\u001b[0;34m]\u001b[0m\u001b[0;34m[\u001b[0m\u001b[0;36m1\u001b[0m\u001b[0;34m]\u001b[0m\u001b[0;34m[\u001b[0m\u001b[0;34m'relationship'\u001b[0m\u001b[0;34m]\u001b[0m\u001b[0;34m)\u001b[0m\u001b[0;34m\u001b[0m\u001b[0;34m\u001b[0m\u001b[0m\n\u001b[0m\u001b[1;32m     11\u001b[0m \u001b[0;31m# outputs 'track'\u001b[0m\u001b[0;34m\u001b[0m\u001b[0;34m\u001b[0m\u001b[0;34m\u001b[0m\u001b[0m\n\u001b[1;32m     12\u001b[0m \u001b[0;34m\u001b[0m\u001b[0m\n",
      "\u001b[0;32m~/anaconda3/envs/jupyter/lib/python3.7/site-packages/pyparsing.py\u001b[0m in \u001b[0;36m__getitem__\u001b[0;34m(self, i)\u001b[0m\n\u001b[1;32m    596\u001b[0m         \u001b[0;32melse\u001b[0m\u001b[0;34m:\u001b[0m\u001b[0;34m\u001b[0m\u001b[0;34m\u001b[0m\u001b[0m\n\u001b[1;32m    597\u001b[0m             \u001b[0;32mif\u001b[0m \u001b[0mi\u001b[0m \u001b[0;32mnot\u001b[0m \u001b[0;32min\u001b[0m \u001b[0mself\u001b[0m\u001b[0;34m.\u001b[0m\u001b[0m__accumNames\u001b[0m\u001b[0;34m:\u001b[0m\u001b[0;34m\u001b[0m\u001b[0;34m\u001b[0m\u001b[0m\n\u001b[0;32m--> 598\u001b[0;31m                 \u001b[0;32mreturn\u001b[0m \u001b[0mself\u001b[0m\u001b[0;34m.\u001b[0m\u001b[0m__tokdict\u001b[0m\u001b[0;34m[\u001b[0m\u001b[0mi\u001b[0m\u001b[0;34m]\u001b[0m\u001b[0;34m[\u001b[0m\u001b[0;34m-\u001b[0m\u001b[0;36m1\u001b[0m\u001b[0;34m]\u001b[0m\u001b[0;34m[\u001b[0m\u001b[0;36m0\u001b[0m\u001b[0;34m]\u001b[0m\u001b[0;34m\u001b[0m\u001b[0;34m\u001b[0m\u001b[0m\n\u001b[0m\u001b[1;32m    599\u001b[0m             \u001b[0;32melse\u001b[0m\u001b[0;34m:\u001b[0m\u001b[0;34m\u001b[0m\u001b[0;34m\u001b[0m\u001b[0m\n\u001b[1;32m    600\u001b[0m                 \u001b[0;32mreturn\u001b[0m \u001b[0mParseResults\u001b[0m\u001b[0;34m(\u001b[0m\u001b[0;34m[\u001b[0m\u001b[0mv\u001b[0m\u001b[0;34m[\u001b[0m\u001b[0;36m0\u001b[0m\u001b[0;34m]\u001b[0m \u001b[0;32mfor\u001b[0m \u001b[0mv\u001b[0m \u001b[0;32min\u001b[0m \u001b[0mself\u001b[0m\u001b[0;34m.\u001b[0m\u001b[0m__tokdict\u001b[0m\u001b[0;34m[\u001b[0m\u001b[0mi\u001b[0m\u001b[0;34m]\u001b[0m\u001b[0;34m]\u001b[0m\u001b[0;34m)\u001b[0m\u001b[0;34m\u001b[0m\u001b[0;34m\u001b[0m\u001b[0m\n",
      "\u001b[0;31mKeyError\u001b[0m: 'relationship'"
     ]
    }
   ],
   "source": [
    "test=\"\"\"track(1, 2.0, 4000, 3, 300).\n",
    "track(2, 1.0, 9000, 5, 500).\n",
    "track(3, 7.0, 9000, 2, 200).\"\"\"\n",
    "\n",
    "result = prolog_sentences.parseString(test)\n",
    "\n",
    "print(result['facts'][0])\n",
    "# outputs ['1', '2.0', '4000', '3', '300']\n",
    "\n",
    "print(result['facts'][1]['relationship'])\n",
    "# outputs 'track'\n",
    "\n",
    "print(result['facts'][2]['arguments'][1])\n"
   ]
  },
  {
   "cell_type": "code",
   "execution_count": null,
   "id": "711eef09",
   "metadata": {},
   "outputs": [],
   "source": []
  },
  {
   "cell_type": "code",
   "execution_count": null,
   "id": "943379f4",
   "metadata": {},
   "outputs": [],
   "source": []
  }
 ],
 "metadata": {
  "kernelspec": {
   "display_name": "Python 3 (ipykernel)",
   "language": "python",
   "name": "python3"
  },
  "language_info": {
   "codemirror_mode": {
    "name": "ipython",
    "version": 3
   },
   "file_extension": ".py",
   "mimetype": "text/x-python",
   "name": "python",
   "nbconvert_exporter": "python",
   "pygments_lexer": "ipython3",
   "version": "3.7.7"
  }
 },
 "nbformat": 4,
 "nbformat_minor": 5
}
