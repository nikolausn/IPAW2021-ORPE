{
 "cells": [
  {
   "cell_type": "code",
   "execution_count": 2,
   "id": "23e52dd5",
   "metadata": {},
   "outputs": [],
   "source": [
    "facts  = \"\"\n",
    "with open(\"recipe_model_v4_output.pl\",\"r\") as file:\n",
    "    for l in file:\n",
    "        if l.strip().startswith(\"%\"):\n",
    "            continue\n",
    "        \n",
    "        facts += l.strip() + \"\\n\""
   ]
  },
  {
   "cell_type": "code",
   "execution_count": 3,
   "id": "94412ca6",
   "metadata": {},
   "outputs": [
    {
     "name": "stdout",
     "output_type": "stream",
     "text": [
      "clingo version 5.5.0\r\n",
      "Reading from recipe_model_v4_output.pl\r\n",
      "recipe_model_v4_output.pl:328:16-19: info: global variable in tuple of aggregate element:\r\n",
      "  RId\r\n",
      "\r\n",
      "Solving...\r\n",
      "Answer: 1\r\n",
      "column_schema(cs1,name,full_name) column_schema(cs1,data_type,text) column_schema(cs2,name,first_name) column_schema(cs2,data_type,text) column_schema(cs3,name,last_name) column_schema(cs3,data_type,text) column_schema(cs6,name,ssn) column_schema(cs6,data_type,text) column_schema(cs7,name,ssn) column_schema(cs7,data_type,number) column_schema(cs4,data_type,text) column_schema(cs5,data_type,number) parameter(p1,input,column_schema(cs11)) parameter(p1,dq_problem,null_value) parameter(p1,output,column_schema(cs11)) parameter(p1,output,column_schema(cs12)) parameter(p1,output,column_schema(cs13)) parameter(p5,input,column_schema(cs14)) parameter(p5,dq_problem,unknown_char) parameter(p5,output,column_schema(cs14)) parameter(p6,input,column_schema(cs14)) parameter(p6,dq_problem,date_format_error) parameter(p6,output,column_schema(cs15)) process(p1,split_name) process(p2,upper_case) process(p3,rename_col) process(p4,merge_col) process(p5,normalize_char) process(p6,normalize_date) process(p7,fixed_ssn) process_blueprint(p1,split_name,dq_problem,null_value) process_blueprint(p5,normalize_char,dq_problem,unknown_char) process_blueprint(p6,normalize_date,dq_problem,date_format_error) step_input_schema(column_state(c1,1),p1,column_schema(cs1,name,full_name)) step_input_schema(column_state(c1,1),p1,column_schema(cs1,data_type,text)) step_input_schema(column_state(c2,1),p1,column_schema(cs2,name,first_name)) step_input_schema(column_state(c2,1),p1,column_schema(cs2,data_type,text)) step_input_schema(column_state(c2,1),p6,column_schema(cs2,name,first_name)) step_input_schema(column_state(c2,1),p6,column_schema(cs2,data_type,text)) step_input_schema(column_state(c3,1),p6,column_schema(cs3,name,last_name)) step_input_schema(column_state(c3,1),p6,column_schema(cs3,data_type,text)) step_output_schema(column_state(c1,1),p1,column_schema(cs1,name,full_name)) step_output_schema(column_state(c1,1),p1,column_schema(cs1,data_type,text)) step_output_schema(column_state(c1,1),p1,column_schema(cs2,name,first_name)) step_output_schema(column_state(c1,1),p1,column_schema(cs2,data_type,text)) step_output_schema(column_state(c2,1),p1,column_schema(cs2,name,first_name)) step_output_schema(column_state(c2,1),p1,column_schema(cs2,data_type,text)) step_output_schema(column_state(c2,1),p6,column_schema(cs2,name,first_name)) step_output_schema(column_state(c2,1),p6,column_schema(cs2,data_type,text)) step_output_schema(column_state(c1,1),p1,column_schema(cs3,name,last_name)) step_output_schema(column_state(c1,1),p1,column_schema(cs3,data_type,text)) step_output_schema(column_state(c3,1),p6,column_schema(cs3,name,last_name)) step_output_schema(column_state(c3,1),p6,column_schema(cs3,data_type,text)) step_output_schema(column_state(c2,1),p6,column_schema(cs5,data_type,number)) dq_problem(c12,null_value) dq_problem(c12,unknown_char) dq_problem_violation(column_state(c1,1),p1,null_value) dq_problem_violation(column_state(c2,1),p1,null_value) dq_problem_violation(column_state(c2,1),p6,date_format_error) dq_problem_violation(column_state(c3,1),p6,date_format_error) workflow_input(p1,column_state(c1,1),column_state(c1,2),name,name) workflow_input(p1,column_state(c1,1),column_state(c1,2),name,data_type) workflow_input(p1,column_state(c1,1),column_state(c2,1),name,name) workflow_input(p1,column_state(c1,1),column_state(c2,1),name,data_type) workflow_input(p1,column_state(c1,1),column_state(c3,1),name,name) workflow_input(p1,column_state(c1,1),column_state(c3,1),name,data_type) workflow_input(p1,column_state(c1,1),column_state(c1,2),data_type,name) workflow_input(p1,column_state(c1,1),column_state(c1,2),data_type,data_type) workflow_input(p1,column_state(c1,1),column_state(c2,1),data_type,name) workflow_input(p1,column_state(c1,1),column_state(c2,1),data_type,data_type) workflow_input(p1,column_state(c1,1),column_state(c3,1),data_type,name) workflow_input(p1,column_state(c1,1),column_state(c3,1),data_type,data_type) workflow_input(p1,column_state(c2,1),column_state(c2,2),name,name) workflow_input(p1,column_state(c2,1),column_state(c2,2),name,data_type) workflow_input(p6,column_state(c2,1),column_state(c2,3),name,name) workflow_input(p6,column_state(c2,1),column_state(c2,3),name,data_type) workflow_input(p6,column_state(c2,1),column_state(c5,2),name,data_type) workflow_input(p1,column_state(c2,1),column_state(c2,2),data_type,name) workflow_input(p1,column_state(c2,1),column_state(c2,2),data_type,data_type) workflow_input(p6,column_state(c2,1),column_state(c2,3),data_type,name) workflow_input(p6,column_state(c2,1),column_state(c2,3),data_type,data_type) workflow_input(p6,column_state(c2,1),column_state(c5,2),data_type,data_type) workflow_input(p6,column_state(c3,1),column_state(c3,2),name,name) workflow_input(p6,column_state(c3,1),column_state(c3,2),name,data_type) workflow_input(p6,column_state(c3,1),column_state(c3,2),data_type,name) workflow_input(p6,column_state(c3,1),column_state(c3,2),data_type,data_type) output_process(p1,cs1) output_process(p1,cs2) output_process(p1,cs3) output_process(p2,cs4) output_process(p3,cs4) output_process(p4,cs4) output_process(p5,cs4) output_process(p6,cs5) output_process(p7,cs7) inject_workflow_step(workflow_step(column_state(c1,2),p3)) inject_workflow_step(workflow_step(column_state(c1,1),p3)) inject_violation(p3,p1,p1,column_state(c2,1),data_type,name) inject_violation(p3,p1,p6,column_state(c2,1),data_type,name) inject_violation(p3,p1,p6,column_state(c3,1),data_type,name) input_process(p1,cs1) input_process(p2,cs1) input_process(p3,cs4) input_process(p4,cs2) input_process(p4,cs3) input_process(p5,cs4) input_process(p6,cs4) input_process(p7,cs6) recipe(r1,1,p2,0) recipe(r1,2,p1,1) recipe(r1,3,p4,2) recipe(r2,1,p3,0) recipe(r2,2,p5,1) recipe(r2,3,p6,2) recipe_input_sink(r1,cs1) recipe_input_sink(r1,cs2) recipe_input_sink(r1,cs3) recipe_input_sink(r2,cs4) recipe_output_sink(r1,cs4) recipe_output_sink(r1,cs1) recipe_output_sink(r1,cs2) recipe_output_sink(r1,cs3) recipe_output_sink(r2,cs4) recipe_output_sink(r2,cs5) reuse_recipe(recipe(column_state(c8,1),r1)) reuse_recipe(recipe(column_state(c9,1),r1)) reuse_recipe(recipe(column_state(c10,2),r2)) reuse_recipe(recipe(column_state(c11,2),r1)) reuse_violation(column_state(c8,1),r1,data_type,name) reuse_violation(column_state(c8,1),r1,name,data_type) reuse_violation(column_state(c9,1),r1,data_type,name) reuse_violation(column_state(c9,1),r1,name,data_type) reuse_violation(column_state(c10,2),r2,data_type,name) reuse_violation(column_state(c11,2),r1,data_type,name) reuse_violation(column_state(c11,2),r1,name,data_type) select_workflow_step(p1,column_state(c1,1),column_state(c2,1),name) select_workflow_step(p1,column_state(c1,1),column_state(c2,1),data_type) select_workflow_step(p1,column_state(c1,1),column_state(c3,1),name) select_workflow_step(p1,column_state(c1,1),column_state(c3,1),data_type) process_schema(p1,cs1,name,cs1,name) process_schema(p1,cs1,name,cs1,data_type) process_schema(p1,cs1,name,cs2,name) process_schema(p1,cs1,name,cs2,data_type) process_schema(p1,cs1,name,cs3,name) process_schema(p1,cs1,name,cs3,data_type) process_schema(p1,cs1,data_type,cs1,name) process_schema(p1,cs1,data_type,cs1,data_type) process_schema(p1,cs1,data_type,cs2,name) process_schema(p1,cs1,data_type,cs2,data_type) process_schema(p1,cs1,data_type,cs3,name) process_schema(p1,cs1,data_type,cs3,data_type) process_schema(p2,cs1,name,cs4,data_type) process_schema(p2,cs1,data_type,cs4,data_type) process_schema(p3,cs4,data_type,cs4,data_type) process_schema(p4,cs2,name,cs4,data_type) process_schema(p4,cs2,data_type,cs4,data_type) process_schema(p4,cs3,name,cs4,data_type) process_schema(p4,cs3,data_type,cs4,data_type) process_schema(p5,cs4,data_type,cs4,data_type) process_schema(p6,cs4,data_type,cs5,data_type) process_schema(p7,cs6,name,cs7,name) process_schema(p7,cs6,name,cs7,data_type) process_schema(p7,cs6,data_type,cs7,name) process_schema(p7,cs6,data_type,cs7,data_type) workflow_step(1,column_state(c1,1),p1,column_state(c1,2)) workflow_step(1,column_state(c1,1),p1,column_state(c2,1)) workflow_step(1,column_state(c1,1),p1,column_state(c3,1)) workflow_step(2,column_state(c2,1),p1,column_state(c2,2)) workflow_step(3,column_state(c2,1),p6,column_state(c2,3)) workflow_step(4,column_state(c2,1),p6,column_state(c5,2)) workflow_step(4,column_state(c3,1),p6,column_state(c3,2)) workflow_path(column_state(c1,1),column_state(c1,2),2,cons(column_state(c1,1),2,cons(column_state(c1,2),1,empty))) workflow_path(column_state(c1,1),column_state(c2,1),2,cons(column_state(c1,1),2,cons(column_state(c2,1),1,empty))) workflow_path(column_state(c1,1),column_state(c3,1),2,cons(column_state(c1,1),2,cons(column_state(c3,1),1,empty))) workflow_path(column_state(c2,1),column_state(c2,2),2,cons(column_state(c2,1),2,cons(column_state(c2,2),1,empty))) workflow_path(column_state(c2,1),column_state(c2,3),2,cons(column_state(c2,1),2,cons(column_state(c2,3),1,empty))) workflow_path(column_state(c2,1),column_state(c5,2),2,cons(column_state(c2,1),2,cons(column_state(c5,2),1,empty))) workflow_path(column_state(c3,1),column_state(c3,2),2,cons(column_state(c3,1),2,cons(column_state(c3,2),1,empty))) workflow_path(column_state(c1,1),column_state(c3,2),3,cons(column_state(c1,1),3,cons(column_state(c3,1),2,cons(column_state(c3,2),1,empty)))) workflow_path(column_state(c1,1),column_state(c5,2),3,cons(column_state(c1,1),3,cons(column_state(c2,1),2,cons(column_state(c5,2),1,empty)))) workflow_path(column_state(c1,1),column_state(c2,3),3,cons(column_state(c1,1),3,cons(column_state(c2,1),2,cons(column_state(c2,3),1,empty)))) workflow_path(column_state(c1,1),column_state(c2,2),3,cons(column_state(c1,1),3,cons(column_state(c2,1),2,cons(column_state(c2,2),1,empty)))) column(c1,a1,cs1,0) column(c2,a1,cs2,c1) column(c3,a1,cs3,c2) column(c4,a1,cs4,c3) column(c5,a1,cs5,c4) column(c6,a1,cs6,c5) column(c7,a1,cs7,c6) column(c8,a2,cs1,0) column(c9,a2,cs2,c8) column(c10,a2,cs1,c9) column(c11,a2,cs1,c10) column(c1,a3,cs1,0) column(c2,a3,cs2,c1) column(c3,a3,cs3,c2) column(c3,a4,cs3,none) column(c4,a4,cs4,0) column(c5,a4,cs5,c4) dataset(d1,dataset_1) dataset(d2,dataset_2) array(a1,d1) array(a2,d2) parameter(1,p1,col_input,col_schema(cs1)) parameter(2,p1,col_input,col_schema(cs3)) parameter(3,p1,col_output,col_schema(cs7)) parameter(4,p1,dq_problem,null_value) parameter(5,p1,dq_problem,unknown_char) update_workflow_step(workflow_step(column_state(c1,1),p2),p3)\r\n",
      "SATISFIABLE\r\n",
      "\r\n",
      "Models       : 1\r\n",
      "Calls        : 1\r\n",
      "Time         : 0.006s (Solving: 0.00s 1st Model: 0.00s Unsat: 0.00s)\r\n",
      "CPU Time     : 0.006s\r\n"
     ]
    }
   ],
   "source": [
    "!clingo recipe_model_v4_output.pl"
   ]
  },
  {
   "cell_type": "code",
   "execution_count": 4,
   "id": "9a6fb1f1",
   "metadata": {},
   "outputs": [],
   "source": [
    "#facts"
   ]
  },
  {
   "cell_type": "code",
   "execution_count": 5,
   "id": "ce4ce751",
   "metadata": {},
   "outputs": [],
   "source": [
    "from clingo.symbol import Number\n",
    "from clingo.control import Control\n",
    "\n",
    "ctl = Control()\n",
    "ctl.add(\"base\", [], facts)"
   ]
  },
  {
   "cell_type": "code",
   "execution_count": 6,
   "id": "fae8a286",
   "metadata": {},
   "outputs": [
    {
     "name": "stderr",
     "output_type": "stream",
     "text": [
      "<block>:236:12-15: info: global variable in tuple of aggregate element:\n",
      "  RId\n",
      "\n"
     ]
    }
   ],
   "source": [
    "ctl.ground([(\"base\", [])])\n",
    "solver = ctl.solve(yield_=True)"
   ]
  },
  {
   "cell_type": "code",
   "execution_count": 7,
   "id": "c6fec83e",
   "metadata": {},
   "outputs": [],
   "source": [
    "x = list(solver)[0]"
   ]
  },
  {
   "cell_type": "code",
   "execution_count": 8,
   "id": "caaa1463",
   "metadata": {},
   "outputs": [],
   "source": [
    "# df_output is raw function\n",
    "# df_output_str is stringify version\n",
    "df_output = {}\n",
    "df_output_str = {}\n",
    "for s in x.context.symbolic_atoms.signatures:\n",
    "    #print(s)\n",
    "    df_output[(s[0],s[1])] = []\n",
    "    df_output_str[(s[0],s[1])] = []\n",
    "    for y in x.context.symbolic_atoms.by_signature(s[0],s[1]):\n",
    "        temp_tuple = [y.symbol.name]\n",
    "        temp_tuple = temp_tuple + [str(z) for z in y.symbol.arguments]\n",
    "        df_output[(s[0],s[1])].append(y.symbol)\n",
    "        df_output_str[(s[0],s[1])].append(temp_tuple)"
   ]
  },
  {
   "cell_type": "code",
   "execution_count": 10,
   "id": "698677bb",
   "metadata": {},
   "outputs": [
    {
     "data": {
      "text/plain": [
       "[('column_schema', 3, True),\n",
       " ('parameter', 3, True),\n",
       " ('process', 2, True),\n",
       " ('process_blueprint', 4, True),\n",
       " ('step_input_schema', 3, True),\n",
       " ('workflow_input_violation', 3, True),\n",
       " ('step_output_schema', 3, True),\n",
       " ('workflow_output_violation', 3, True),\n",
       " ('dq_problem', 2, True),\n",
       " ('step_dq_problem', 3, True),\n",
       " ('dq_problem_violation', 3, True),\n",
       " ('workflow_input', 5, True),\n",
       " ('output_process', 2, True),\n",
       " ('inject_workflow_step', 1, True),\n",
       " ('inject_violation', 6, True),\n",
       " ('input_process', 2, True),\n",
       " ('recipe', 4, True),\n",
       " ('recipe_input_sink', 2, True),\n",
       " ('recipe_output_sink', 2, True),\n",
       " ('reuse_recipe', 1, True),\n",
       " ('reuse_violation', 4, True),\n",
       " ('inject_violation_checking', 6, True),\n",
       " ('select_workflow_step', 4, True),\n",
       " ('injected_parameter', 4, True),\n",
       " ('process_schema', 5, True),\n",
       " ('workflow_step', 4, True),\n",
       " ('workflow_path', 4, True),\n",
       " ('example_flow', 4, True),\n",
       " ('column', 4, True),\n",
       " ('dataset', 2, True),\n",
       " ('array', 2, True),\n",
       " ('parameter', 4, True),\n",
       " ('update_workflow_step', 2, True)]"
      ]
     },
     "execution_count": 10,
     "metadata": {},
     "output_type": "execute_result"
    }
   ],
   "source": [
    "x.context.symbolic_atoms.signatures"
   ]
  },
  {
   "cell_type": "code",
   "execution_count": 159,
   "id": "f9964e5f",
   "metadata": {},
   "outputs": [
    {
     "data": {
      "text/html": [
       "<div>\n",
       "<style scoped>\n",
       "    .dataframe tbody tr th:only-of-type {\n",
       "        vertical-align: middle;\n",
       "    }\n",
       "\n",
       "    .dataframe tbody tr th {\n",
       "        vertical-align: top;\n",
       "    }\n",
       "\n",
       "    .dataframe thead th {\n",
       "        text-align: right;\n",
       "    }\n",
       "</style>\n",
       "<table border=\"1\" class=\"dataframe\">\n",
       "  <thead>\n",
       "    <tr style=\"text-align: right;\">\n",
       "      <th></th>\n",
       "      <th>0</th>\n",
       "      <th>1</th>\n",
       "      <th>2</th>\n",
       "      <th>3</th>\n",
       "    </tr>\n",
       "  </thead>\n",
       "  <tbody>\n",
       "    <tr>\n",
       "      <th>0</th>\n",
       "      <td>step_input_schema</td>\n",
       "      <td>column_state(c1,1)</td>\n",
       "      <td>p1</td>\n",
       "      <td>column_schema(cs1,name,full_name)</td>\n",
       "    </tr>\n",
       "    <tr>\n",
       "      <th>1</th>\n",
       "      <td>step_input_schema</td>\n",
       "      <td>column_state(c1,1)</td>\n",
       "      <td>p1</td>\n",
       "      <td>column_schema(cs1,data_type,text)</td>\n",
       "    </tr>\n",
       "    <tr>\n",
       "      <th>2</th>\n",
       "      <td>step_input_schema</td>\n",
       "      <td>column_state(c2,1)</td>\n",
       "      <td>p1</td>\n",
       "      <td>column_schema(cs2,name,first_name)</td>\n",
       "    </tr>\n",
       "    <tr>\n",
       "      <th>3</th>\n",
       "      <td>step_input_schema</td>\n",
       "      <td>column_state(c2,1)</td>\n",
       "      <td>p1</td>\n",
       "      <td>column_schema(cs2,data_type,text)</td>\n",
       "    </tr>\n",
       "    <tr>\n",
       "      <th>4</th>\n",
       "      <td>step_input_schema</td>\n",
       "      <td>column_state(c2,1)</td>\n",
       "      <td>p6</td>\n",
       "      <td>column_schema(cs2,name,first_name)</td>\n",
       "    </tr>\n",
       "    <tr>\n",
       "      <th>5</th>\n",
       "      <td>step_input_schema</td>\n",
       "      <td>column_state(c2,1)</td>\n",
       "      <td>p6</td>\n",
       "      <td>column_schema(cs2,data_type,text)</td>\n",
       "    </tr>\n",
       "    <tr>\n",
       "      <th>6</th>\n",
       "      <td>step_input_schema</td>\n",
       "      <td>column_state(c3,1)</td>\n",
       "      <td>p6</td>\n",
       "      <td>column_schema(cs3,name,last_name)</td>\n",
       "    </tr>\n",
       "    <tr>\n",
       "      <th>7</th>\n",
       "      <td>step_input_schema</td>\n",
       "      <td>column_state(c3,1)</td>\n",
       "      <td>p6</td>\n",
       "      <td>column_schema(cs3,data_type,text)</td>\n",
       "    </tr>\n",
       "  </tbody>\n",
       "</table>\n",
       "</div>"
      ],
      "text/plain": [
       "                   0                   1   2  \\\n",
       "0  step_input_schema  column_state(c1,1)  p1   \n",
       "1  step_input_schema  column_state(c1,1)  p1   \n",
       "2  step_input_schema  column_state(c2,1)  p1   \n",
       "3  step_input_schema  column_state(c2,1)  p1   \n",
       "4  step_input_schema  column_state(c2,1)  p6   \n",
       "5  step_input_schema  column_state(c2,1)  p6   \n",
       "6  step_input_schema  column_state(c3,1)  p6   \n",
       "7  step_input_schema  column_state(c3,1)  p6   \n",
       "\n",
       "                                    3  \n",
       "0   column_schema(cs1,name,full_name)  \n",
       "1   column_schema(cs1,data_type,text)  \n",
       "2  column_schema(cs2,name,first_name)  \n",
       "3   column_schema(cs2,data_type,text)  \n",
       "4  column_schema(cs2,name,first_name)  \n",
       "5   column_schema(cs2,data_type,text)  \n",
       "6   column_schema(cs3,name,last_name)  \n",
       "7   column_schema(cs3,data_type,text)  "
      ]
     },
     "execution_count": 159,
     "metadata": {},
     "output_type": "execute_result"
    }
   ],
   "source": [
    "import pandas as pd\n",
    "pd.DataFrame(df_output_str[(\"step_input_schema\",3)])"
   ]
  },
  {
   "cell_type": "code",
   "execution_count": 165,
   "id": "2413c68d",
   "metadata": {},
   "outputs": [
    {
     "data": {
      "text/html": [
       "<div>\n",
       "<style scoped>\n",
       "    .dataframe tbody tr th:only-of-type {\n",
       "        vertical-align: middle;\n",
       "    }\n",
       "\n",
       "    .dataframe tbody tr th {\n",
       "        vertical-align: top;\n",
       "    }\n",
       "\n",
       "    .dataframe thead th {\n",
       "        text-align: right;\n",
       "    }\n",
       "</style>\n",
       "<table border=\"1\" class=\"dataframe\">\n",
       "  <thead>\n",
       "    <tr style=\"text-align: right;\">\n",
       "      <th></th>\n",
       "      <th>0</th>\n",
       "      <th>1</th>\n",
       "      <th>2</th>\n",
       "      <th>3</th>\n",
       "      <th>4</th>\n",
       "    </tr>\n",
       "  </thead>\n",
       "  <tbody>\n",
       "    <tr>\n",
       "      <th>0</th>\n",
       "      <td>workflow_step</td>\n",
       "      <td>1</td>\n",
       "      <td>column_state(c1,1)</td>\n",
       "      <td>p1</td>\n",
       "      <td>column_state(c1,2)</td>\n",
       "    </tr>\n",
       "    <tr>\n",
       "      <th>1</th>\n",
       "      <td>workflow_step</td>\n",
       "      <td>1</td>\n",
       "      <td>column_state(c1,1)</td>\n",
       "      <td>p1</td>\n",
       "      <td>column_state(c2,1)</td>\n",
       "    </tr>\n",
       "    <tr>\n",
       "      <th>2</th>\n",
       "      <td>workflow_step</td>\n",
       "      <td>1</td>\n",
       "      <td>column_state(c1,1)</td>\n",
       "      <td>p1</td>\n",
       "      <td>column_state(c3,1)</td>\n",
       "    </tr>\n",
       "    <tr>\n",
       "      <th>3</th>\n",
       "      <td>workflow_step</td>\n",
       "      <td>2</td>\n",
       "      <td>column_state(c2,1)</td>\n",
       "      <td>p1</td>\n",
       "      <td>column_state(c2,2)</td>\n",
       "    </tr>\n",
       "    <tr>\n",
       "      <th>4</th>\n",
       "      <td>workflow_step</td>\n",
       "      <td>3</td>\n",
       "      <td>column_state(c2,1)</td>\n",
       "      <td>p6</td>\n",
       "      <td>column_state(c2,3)</td>\n",
       "    </tr>\n",
       "    <tr>\n",
       "      <th>5</th>\n",
       "      <td>workflow_step</td>\n",
       "      <td>4</td>\n",
       "      <td>column_state(c2,1)</td>\n",
       "      <td>p6</td>\n",
       "      <td>column_state(c5,2)</td>\n",
       "    </tr>\n",
       "    <tr>\n",
       "      <th>6</th>\n",
       "      <td>workflow_step</td>\n",
       "      <td>4</td>\n",
       "      <td>column_state(c3,1)</td>\n",
       "      <td>p6</td>\n",
       "      <td>column_state(c3,2)</td>\n",
       "    </tr>\n",
       "  </tbody>\n",
       "</table>\n",
       "</div>"
      ],
      "text/plain": [
       "               0  1                   2   3                   4\n",
       "0  workflow_step  1  column_state(c1,1)  p1  column_state(c1,2)\n",
       "1  workflow_step  1  column_state(c1,1)  p1  column_state(c2,1)\n",
       "2  workflow_step  1  column_state(c1,1)  p1  column_state(c3,1)\n",
       "3  workflow_step  2  column_state(c2,1)  p1  column_state(c2,2)\n",
       "4  workflow_step  3  column_state(c2,1)  p6  column_state(c2,3)\n",
       "5  workflow_step  4  column_state(c2,1)  p6  column_state(c5,2)\n",
       "6  workflow_step  4  column_state(c3,1)  p6  column_state(c3,2)"
      ]
     },
     "execution_count": 165,
     "metadata": {},
     "output_type": "execute_result"
    }
   ],
   "source": [
    "import pandas as pd\n",
    "pd.DataFrame(df_output_str[(\"workflow_step\",4)])"
   ]
  }
 ],
 "metadata": {
  "kernelspec": {
   "display_name": "Python 3 (ipykernel)",
   "language": "python",
   "name": "python3"
  },
  "language_info": {
   "codemirror_mode": {
    "name": "ipython",
    "version": 3
   },
   "file_extension": ".py",
   "mimetype": "text/x-python",
   "name": "python",
   "nbconvert_exporter": "python",
   "pygments_lexer": "ipython3",
   "version": "3.7.7"
  }
 },
 "nbformat": 4,
 "nbformat_minor": 5
}
