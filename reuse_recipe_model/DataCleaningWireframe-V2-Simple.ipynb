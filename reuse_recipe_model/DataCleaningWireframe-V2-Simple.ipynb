{
 "cells": [
  {
   "cell_type": "code",
   "execution_count": 2,
   "id": "23e52dd5",
   "metadata": {},
   "outputs": [],
   "source": [
    "facts  = \"\"\n",
    "with open(\"recipe_model_wireframe_simple.pl\",\"r\") as file:\n",
    "    for l in file:\n",
    "        #if l.strip().startswith(\"%\"):\n",
    "        #    continue\n",
    "        \n",
    "        facts += l.strip() + \"\\n\""
   ]
  },
  {
   "cell_type": "code",
   "execution_count": 7,
   "id": "6521c14b",
   "metadata": {},
   "outputs": [
    {
     "name": "stdout",
     "output_type": "stream",
     "text": [
      "clingo version 5.5.0\r\n",
      "Reading from recipe_model_wireframe_simple.pl\r\n",
      "Solving...\r\n",
      "Answer: 1\r\n",
      "accumulated_dq_problem(column_state(c1,2),lemmatize_char) accumulated_dq_problem(column_state(c1,1),lower_case) accumulated_dq_problem(column_state(c1,1),lemmatize_char)\r\n",
      "SATISFIABLE\r\n",
      "\r\n",
      "Models       : 1\r\n",
      "Calls        : 1\r\n",
      "Time         : 0.003s (Solving: 0.00s 1st Model: 0.00s Unsat: 0.00s)\r\n",
      "CPU Time     : 0.003s\r\n"
     ]
    }
   ],
   "source": [
    "!clingo recipe_model_wireframe_simple.pl"
   ]
  },
  {
   "cell_type": "code",
   "execution_count": 4,
   "id": "9a6fb1f1",
   "metadata": {},
   "outputs": [],
   "source": [
    "#facts"
   ]
  },
  {
   "cell_type": "code",
   "execution_count": 8,
   "id": "ce4ce751",
   "metadata": {},
   "outputs": [],
   "source": [
    "from clingo.symbol import Number\n",
    "from clingo.control import Control\n",
    "\n",
    "ctl = Control()\n",
    "ctl.add(\"base\", [], facts)"
   ]
  },
  {
   "cell_type": "code",
   "execution_count": 9,
   "id": "fae8a286",
   "metadata": {},
   "outputs": [],
   "source": [
    "ctl.ground([(\"base\", [])])\n",
    "solver = ctl.solve(yield_=True)"
   ]
  },
  {
   "cell_type": "code",
   "execution_count": 10,
   "id": "c50b82ea",
   "metadata": {},
   "outputs": [],
   "source": [
    "output = []\n",
    "for x in solver:\n",
    "    output.append(x)"
   ]
  },
  {
   "cell_type": "code",
   "execution_count": 11,
   "id": "caaa1463",
   "metadata": {},
   "outputs": [],
   "source": [
    "df_output = {}\n",
    "df_output_str = {}\n",
    "for s in x.context.symbolic_atoms.signatures:\n",
    "    #print(s)\n",
    "    df_output[(s[0],s[1])] = []\n",
    "    df_output_str[(s[0],s[1])] = []\n",
    "    for y in x.context.symbolic_atoms.by_signature(s[0],s[1]):\n",
    "        temp_tuple = [y.symbol.name]\n",
    "        temp_tuple = temp_tuple + [str(z) for z in y.symbol.arguments]\n",
    "        df_output[(s[0],s[1])].append(y.symbol)\n",
    "        df_output_str[(s[0],s[1])].append(temp_tuple)"
   ]
  },
  {
   "cell_type": "code",
   "execution_count": 12,
   "id": "698677bb",
   "metadata": {},
   "outputs": [
    {
     "data": {
      "text/plain": [
       "[('column_schema', 3, True),\n",
       " ('workflow_step', 4, True),\n",
       " ('step_input_schema', 4, True),\n",
       " ('workflow_input_violation', 4, True),\n",
       " ('step_input_blueprint', 4, True),\n",
       " ('step_input_satisfiable', 6, True),\n",
       " ('step_output_schema', 4, True),\n",
       " ('workflow_output_violation', 4, True),\n",
       " ('dq_problem', 2, True),\n",
       " ('step_dq_problem', 3, True),\n",
       " ('dq_problem_violation', 3, True),\n",
       " ('process', 2, True),\n",
       " ('dq_proxy', 3, True),\n",
       " ('recipe_edge', 3, True),\n",
       " ('recipe_path', 4, True),\n",
       " ('process_edge', 4, True),\n",
       " ('column_edge', 3, True),\n",
       " ('column_path', 3, True),\n",
       " ('select_path', 3, True),\n",
       " ('accumulated_dq_handling', 2, True),\n",
       " ('accumulated_dq_problem', 2, True),\n",
       " ('column', 4, True),\n",
       " ('input_process', 3, True),\n",
       " ('output_process', 3, True),\n",
       " ('parameter', 4, True)]"
      ]
     },
     "execution_count": 12,
     "metadata": {},
     "output_type": "execute_result"
    }
   ],
   "source": [
    "x.context.symbolic_atoms.signatures"
   ]
  },
  {
   "cell_type": "code",
   "execution_count": 13,
   "id": "f9964e5f",
   "metadata": {},
   "outputs": [
    {
     "data": {
      "text/html": [
       "<div>\n",
       "<style scoped>\n",
       "    .dataframe tbody tr th:only-of-type {\n",
       "        vertical-align: middle;\n",
       "    }\n",
       "\n",
       "    .dataframe tbody tr th {\n",
       "        vertical-align: top;\n",
       "    }\n",
       "\n",
       "    .dataframe thead th {\n",
       "        text-align: right;\n",
       "    }\n",
       "</style>\n",
       "<table border=\"1\" class=\"dataframe\">\n",
       "  <thead>\n",
       "    <tr style=\"text-align: right;\">\n",
       "      <th></th>\n",
       "      <th>0</th>\n",
       "      <th>1</th>\n",
       "      <th>2</th>\n",
       "      <th>3</th>\n",
       "      <th>4</th>\n",
       "    </tr>\n",
       "  </thead>\n",
       "  <tbody>\n",
       "    <tr>\n",
       "      <th>0</th>\n",
       "      <td>step_input_schema</td>\n",
       "      <td>1</td>\n",
       "      <td>column_state(c1,1)</td>\n",
       "      <td>p1</td>\n",
       "      <td>column_schema(cs1,name,full_name)</td>\n",
       "    </tr>\n",
       "    <tr>\n",
       "      <th>1</th>\n",
       "      <td>step_input_schema</td>\n",
       "      <td>2</td>\n",
       "      <td>column_state(c1,2)</td>\n",
       "      <td>p2</td>\n",
       "      <td>column_schema(cs1,name,full_name)</td>\n",
       "    </tr>\n",
       "    <tr>\n",
       "      <th>2</th>\n",
       "      <td>step_input_schema</td>\n",
       "      <td>1</td>\n",
       "      <td>column_state(c1,1)</td>\n",
       "      <td>p1</td>\n",
       "      <td>column_schema(cs1,data_type,text)</td>\n",
       "    </tr>\n",
       "    <tr>\n",
       "      <th>3</th>\n",
       "      <td>step_input_schema</td>\n",
       "      <td>2</td>\n",
       "      <td>column_state(c1,2)</td>\n",
       "      <td>p2</td>\n",
       "      <td>column_schema(cs1,data_type,text)</td>\n",
       "    </tr>\n",
       "  </tbody>\n",
       "</table>\n",
       "</div>"
      ],
      "text/plain": [
       "                   0  1                   2   3  \\\n",
       "0  step_input_schema  1  column_state(c1,1)  p1   \n",
       "1  step_input_schema  2  column_state(c1,2)  p2   \n",
       "2  step_input_schema  1  column_state(c1,1)  p1   \n",
       "3  step_input_schema  2  column_state(c1,2)  p2   \n",
       "\n",
       "                                   4  \n",
       "0  column_schema(cs1,name,full_name)  \n",
       "1  column_schema(cs1,name,full_name)  \n",
       "2  column_schema(cs1,data_type,text)  \n",
       "3  column_schema(cs1,data_type,text)  "
      ]
     },
     "execution_count": 13,
     "metadata": {},
     "output_type": "execute_result"
    }
   ],
   "source": [
    "import pandas as pd\n",
    "pd.DataFrame(df_output_str[(\"step_input_schema\",4)])"
   ]
  },
  {
   "cell_type": "code",
   "execution_count": 14,
   "id": "e2ee8c0d",
   "metadata": {},
   "outputs": [
    {
     "data": {
      "text/html": [
       "<div>\n",
       "<style scoped>\n",
       "    .dataframe tbody tr th:only-of-type {\n",
       "        vertical-align: middle;\n",
       "    }\n",
       "\n",
       "    .dataframe tbody tr th {\n",
       "        vertical-align: top;\n",
       "    }\n",
       "\n",
       "    .dataframe thead th {\n",
       "        text-align: right;\n",
       "    }\n",
       "</style>\n",
       "<table border=\"1\" class=\"dataframe\">\n",
       "  <thead>\n",
       "    <tr style=\"text-align: right;\">\n",
       "      <th></th>\n",
       "      <th>0</th>\n",
       "      <th>1</th>\n",
       "      <th>2</th>\n",
       "      <th>3</th>\n",
       "      <th>4</th>\n",
       "    </tr>\n",
       "  </thead>\n",
       "  <tbody>\n",
       "    <tr>\n",
       "      <th>0</th>\n",
       "      <td>workflow_step</td>\n",
       "      <td>1</td>\n",
       "      <td>column_state(c1,1)</td>\n",
       "      <td>p1</td>\n",
       "      <td>column_state(c1,2)</td>\n",
       "    </tr>\n",
       "    <tr>\n",
       "      <th>1</th>\n",
       "      <td>workflow_step</td>\n",
       "      <td>2</td>\n",
       "      <td>column_state(c1,2)</td>\n",
       "      <td>p2</td>\n",
       "      <td>column_state(c1,3)</td>\n",
       "    </tr>\n",
       "  </tbody>\n",
       "</table>\n",
       "</div>"
      ],
      "text/plain": [
       "               0  1                   2   3                   4\n",
       "0  workflow_step  1  column_state(c1,1)  p1  column_state(c1,2)\n",
       "1  workflow_step  2  column_state(c1,2)  p2  column_state(c1,3)"
      ]
     },
     "execution_count": 14,
     "metadata": {},
     "output_type": "execute_result"
    }
   ],
   "source": [
    "import pandas as pd\n",
    "pd.DataFrame(df_output_str[(\"workflow_step\",4)])"
   ]
  },
  {
   "cell_type": "code",
   "execution_count": 15,
   "id": "126e2acb",
   "metadata": {},
   "outputs": [
    {
     "data": {
      "text/html": [
       "<div>\n",
       "<style scoped>\n",
       "    .dataframe tbody tr th:only-of-type {\n",
       "        vertical-align: middle;\n",
       "    }\n",
       "\n",
       "    .dataframe tbody tr th {\n",
       "        vertical-align: top;\n",
       "    }\n",
       "\n",
       "    .dataframe thead th {\n",
       "        text-align: right;\n",
       "    }\n",
       "</style>\n",
       "<table border=\"1\" class=\"dataframe\">\n",
       "  <thead>\n",
       "    <tr style=\"text-align: right;\">\n",
       "      <th></th>\n",
       "    </tr>\n",
       "  </thead>\n",
       "  <tbody>\n",
       "  </tbody>\n",
       "</table>\n",
       "</div>"
      ],
      "text/plain": [
       "Empty DataFrame\n",
       "Columns: []\n",
       "Index: []"
      ]
     },
     "execution_count": 15,
     "metadata": {},
     "output_type": "execute_result"
    }
   ],
   "source": [
    "import pandas as pd\n",
    "pd.DataFrame(df_output_str[(\"workflow_input_violation\",4)])"
   ]
  },
  {
   "cell_type": "code",
   "execution_count": 16,
   "id": "126196a0",
   "metadata": {},
   "outputs": [
    {
     "data": {
      "text/html": [
       "<div>\n",
       "<style scoped>\n",
       "    .dataframe tbody tr th:only-of-type {\n",
       "        vertical-align: middle;\n",
       "    }\n",
       "\n",
       "    .dataframe tbody tr th {\n",
       "        vertical-align: top;\n",
       "    }\n",
       "\n",
       "    .dataframe thead th {\n",
       "        text-align: right;\n",
       "    }\n",
       "</style>\n",
       "<table border=\"1\" class=\"dataframe\">\n",
       "  <thead>\n",
       "    <tr style=\"text-align: right;\">\n",
       "      <th></th>\n",
       "    </tr>\n",
       "  </thead>\n",
       "  <tbody>\n",
       "  </tbody>\n",
       "</table>\n",
       "</div>"
      ],
      "text/plain": [
       "Empty DataFrame\n",
       "Columns: []\n",
       "Index: []"
      ]
     },
     "execution_count": 16,
     "metadata": {},
     "output_type": "execute_result"
    }
   ],
   "source": [
    "import pandas as pd\n",
    "pd.DataFrame(df_output_str[(\"workflow_output_violation\",4)])"
   ]
  },
  {
   "cell_type": "code",
   "execution_count": 17,
   "id": "1601efef",
   "metadata": {},
   "outputs": [
    {
     "data": {
      "text/plain": [
       "[Function('step_input_schema', [Number(1), Function('column_state', [Function('c1', [], True), Number(1)], True), Function('p1', [], True), Function('column_schema', [Function('cs1', [], True), Function('name', [], True), Function('full_name', [], True)], True)], True),\n",
       " Function('step_input_schema', [Number(2), Function('column_state', [Function('c1', [], True), Number(2)], True), Function('p2', [], True), Function('column_schema', [Function('cs1', [], True), Function('name', [], True), Function('full_name', [], True)], True)], True),\n",
       " Function('step_input_schema', [Number(1), Function('column_state', [Function('c1', [], True), Number(1)], True), Function('p1', [], True), Function('column_schema', [Function('cs1', [], True), Function('data_type', [], True), Function('text', [], True)], True)], True),\n",
       " Function('step_input_schema', [Number(2), Function('column_state', [Function('c1', [], True), Number(2)], True), Function('p2', [], True), Function('column_schema', [Function('cs1', [], True), Function('data_type', [], True), Function('text', [], True)], True)], True)]"
      ]
     },
     "execution_count": 17,
     "metadata": {},
     "output_type": "execute_result"
    }
   ],
   "source": [
    "df_output[(\"step_input_schema\",4)]"
   ]
  },
  {
   "cell_type": "code",
   "execution_count": 18,
   "id": "f23eb514",
   "metadata": {},
   "outputs": [
    {
     "data": {
      "text/plain": [
       "[['output_process', 'p1', '1', 'cs1'], ['output_process', 'p2', '1', 'cs1']]"
      ]
     },
     "execution_count": 18,
     "metadata": {},
     "output_type": "execute_result"
    }
   ],
   "source": [
    "df_output_str[(\"output_process\",3)]"
   ]
  },
  {
   "cell_type": "code",
   "execution_count": 19,
   "id": "cd9cad42",
   "metadata": {},
   "outputs": [
    {
     "data": {
      "text/plain": [
       "[['process', 'p1', 'lower_case'], ['process', 'p2', 'lemmatize_char']]"
      ]
     },
     "execution_count": 19,
     "metadata": {},
     "output_type": "execute_result"
    }
   ],
   "source": [
    "df_output_str[(\"process\",2)]"
   ]
  },
  {
   "cell_type": "code",
   "execution_count": 20,
   "id": "e832f76f",
   "metadata": {},
   "outputs": [
    {
     "data": {
      "text/plain": [
       "[['column_schema', 'cs1', 'name', 'full_name'],\n",
       " ['column_schema', 'cs1', 'data_type', 'text']]"
      ]
     },
     "execution_count": 20,
     "metadata": {},
     "output_type": "execute_result"
    }
   ],
   "source": [
    "df_output_str[(\"column_schema\",3)]"
   ]
  },
  {
   "cell_type": "code",
   "execution_count": 21,
   "id": "307dfd00",
   "metadata": {},
   "outputs": [],
   "source": [
    "# visualize using graphviz yw layout\n",
    "\n",
    "nodes_def = \"\"\"\n",
    "digraph \"[stackcollapse]\" {\n",
    "node [style=filled fillcolor=\"#f8f8f8\"]\n",
    "\"\"\"\n",
    "\n",
    "edge_def = \"\"\n",
    "\n",
    "# workflow template gv format\n",
    "\n",
    "header = \"\"\"\n",
    "/* Start of top-level graph */\n",
    "digraph Workflow {\n",
    "rankdir=TB\n",
    "\n",
    "/* Start of double cluster for drawing box around nodes in workflow */\n",
    "subgraph cluster_workflow_box_outer { label=\"\"; penwidth=0\n",
    "subgraph cluster_workflow_box_inner { label=\"\"; penwidth=0\n",
    "\"\"\"\n",
    "\n",
    "single_process = \"\"\"\n",
    "/* Style for nodes representing atomic programs in workflow */\n",
    "node[shape=box style=filled fillcolor=\"#CCFFCC\" peripheries=1 fontname=Helvetica]\n",
    "\n",
    "/* Nodes representing atomic programs in workflow */\n",
    "\"\"\"\n",
    "#state_4 [shape=record rankdir=LR label=\"{<f0> step 4 (to_date) | grel\\:value.replace(/\\\\/i,'') | 16492 cells changed}\"];\n",
    "\n",
    "\n",
    "side_b_process = \"\"\"\n",
    "node[shape=box style=filled fillcolor=\"#CCCCFF\" peripheries=1 fontname=Helvetica]\n",
    "\"\"\"\n",
    "#state_5 [shape=record rankdir=LR label=\"{<f0> state_5 |<f1> core/mass-edit\\nclustering\\ngroup clustering 4 processes}\"];\n",
    "\n",
    "side_b_data = \"\"\"\n",
    "node[shape=box style=\"rounded,filled\" fillcolor=\"#FFDDDD\" peripheries=1 fontname=Helvetica]\n",
    "\"\"\"\n",
    "\n",
    "side_a_data = \"\"\"\n",
    "node[shape=box style=\"rounded,filled\" fillcolor=\"#CCFFFF\" peripheries=1 fontname=Helvetica]\n",
    "\"\"\"\n",
    "\n",
    "\n",
    "freq_pattern_nodes = \"\"\"\n",
    "node[shape=box style=filled fillcolor=\"#CCFFFF\" peripheries=1 fontname=Helvetica]\n",
    "\"\"\"\n",
    "#state_5 [shape=record rankdir=LR label=\"{<f0> state_5 |<f1> core/mass-edit\\nclustering\\ngroup clustering 4 processes}\"];\n",
    "\n",
    "column_nodes = \"\"\"\n",
    "/* Style for nodes representing non-parameter data channels in workflow */\n",
    "node[shape=box style=\"rounded,filled\" fillcolor=\"#FFFFCC\" peripheries=1 fontname=Helvetica]\n",
    "\n",
    "/* Nodes for non-parameter data channels in workflow */\n",
    "\"\"\"\n",
    "#\"col12_0-date\" [shape=record rankdir=LR label=\"{<f0> date_0 }\"]\n",
    "\n",
    "parameters_nodes = \"\"\"\n",
    "/* Style for nodes representing parameter channels in workflow */\n",
    "node[shape=box style=\"rounded,filled\" fillcolor=\"#FCFCFC\" peripheries=1 fontname=Helvetica]\n",
    "\n",
    "/* Nodes representing parameter channels in workflow */\n",
    "\"\"\"\n",
    "\n",
    "edges = \"\"\"\n",
    "/* Edges representing connections between programs and channels */\n",
    "\"\"\"\n",
    "#\"col12_0-date\" -> state_4\n",
    "\n",
    "\n",
    "footer = \"\"\"\n",
    "/* End of double cluster for drawing box around nodes in workflow */\n",
    "}}\n",
    "\n",
    "/* End of top-level graph */\n",
    "}\n",
    "\"\"\"\n",
    "\n",
    "# process nodes\n",
    "for p in df_output_str[(\"process\",2)]:\n",
    "    single_process+='''\n",
    "    \"{pid}\" [shape=record rankdir=LR label=\"{{<f0> {pid} ({process_name}) }}\"];\n",
    "    '''.format(pid=p[1],process_name=p[2])\n",
    "\n",
    "# schema nodes\n",
    "for cs in df_output_str[(\"column_schema\",3)]:    \n",
    "    column_nodes+=\"\"\"\n",
    "    \"{node_name}\" [shape=record rankdir=LR label=\"{{<f0> {label} }}\"]\n",
    "    \"\"\".format(node_name=cs[1],label=cs[1])\n",
    "    parameters_nodes+=\"\"\"\n",
    "    \"{node_name}\" [shape=record rankdir=LR label=\"{{<f0> {label} }}\"]\n",
    "    \"\"\".format(node_name=cs[1]+\"_\"+cs[2],label=cs[3])\n",
    "    edges+=\"\"\"\n",
    "        {input} -> {output} [label=\"{data}\" weight=14 color=\"#b26e37\" tooltip=\"\" labeltooltip=\"\"]    \n",
    "    \"\"\".format(input=cs[1],output=cs[1]+\"_\"+cs[2],data=cs[2])   \n",
    "\n",
    "# edge input output\n",
    "for inp in df_output_str[(\"input_process\",3)]:                    \n",
    "    edges+=\"\"\"\n",
    "        {input} -> {output} [label=\"{data}\" weight=14 color=\"#b26e37\" tooltip=\"\" labeltooltip=\"\"]    \n",
    "    \"\"\".format(input=inp[3],output=inp[1],data=\"\")            \n",
    "\n",
    "for out in df_output_str[(\"output_process\",3)]:                    \n",
    "    edges+=\"\"\"\n",
    "        {input} -> {output} [label=\"{data}\" weight=14 color=\"#b26e37\" tooltip=\"\" labeltooltip=\"\"]    \n",
    "    \"\"\".format(input=out[1],output=out[3],data=\"\")            \n",
    "\n",
    "                        \n",
    "\n",
    "gv_string = header+single_process+column_nodes+parameters_nodes+side_b_process+side_a_data+side_b_data+freq_pattern_nodes+edges+footer\n",
    "\n"
   ]
  },
  {
   "cell_type": "code",
   "execution_count": 22,
   "id": "c6c10162",
   "metadata": {},
   "outputs": [
    {
     "name": "stdout",
     "output_type": "stream",
     "text": [
      "\n",
      "/* Start of top-level graph */\n",
      "digraph Workflow {\n",
      "rankdir=TB\n",
      "\n",
      "/* Start of double cluster for drawing box around nodes in workflow */\n",
      "subgraph cluster_workflow_box_outer { label=\"\"; penwidth=0\n",
      "subgraph cluster_workflow_box_inner { label=\"\"; penwidth=0\n",
      "\n",
      "/* Style for nodes representing atomic programs in workflow */\n",
      "node[shape=box style=filled fillcolor=\"#CCFFCC\" peripheries=1 fontname=Helvetica]\n",
      "\n",
      "/* Nodes representing atomic programs in workflow */\n",
      "\n",
      "    \"p1\" [shape=record rankdir=LR label=\"{<f0> p1 (lower_case) }\"];\n",
      "    \n",
      "    \"p2\" [shape=record rankdir=LR label=\"{<f0> p2 (lemmatize_char) }\"];\n",
      "    \n",
      "/* Style for nodes representing non-parameter data channels in workflow */\n",
      "node[shape=box style=\"rounded,filled\" fillcolor=\"#FFFFCC\" peripheries=1 fontname=Helvetica]\n",
      "\n",
      "/* Nodes for non-parameter data channels in workflow */\n",
      "\n",
      "    \"cs1\" [shape=record rankdir=LR label=\"{<f0> cs1 }\"]\n",
      "    \n",
      "    \"cs1\" [shape=record rankdir=LR label=\"{<f0> cs1 }\"]\n",
      "    \n",
      "/* Style for nodes representing parameter channels in workflow */\n",
      "node[shape=box style=\"rounded,filled\" fillcolor=\"#FCFCFC\" peripheries=1 fontname=Helvetica]\n",
      "\n",
      "/* Nodes representing parameter channels in workflow */\n",
      "\n",
      "    \"cs1_name\" [shape=record rankdir=LR label=\"{<f0> full_name }\"]\n",
      "    \n",
      "    \"cs1_data_type\" [shape=record rankdir=LR label=\"{<f0> text }\"]\n",
      "    \n",
      "node[shape=box style=filled fillcolor=\"#CCCCFF\" peripheries=1 fontname=Helvetica]\n",
      "\n",
      "node[shape=box style=\"rounded,filled\" fillcolor=\"#CCFFFF\" peripheries=1 fontname=Helvetica]\n",
      "\n",
      "node[shape=box style=\"rounded,filled\" fillcolor=\"#FFDDDD\" peripheries=1 fontname=Helvetica]\n",
      "\n",
      "node[shape=box style=filled fillcolor=\"#CCFFFF\" peripheries=1 fontname=Helvetica]\n",
      "\n",
      "/* Edges representing connections between programs and channels */\n",
      "\n",
      "        cs1 -> cs1_name [label=\"name\" weight=14 color=\"#b26e37\" tooltip=\"\" labeltooltip=\"\"]    \n",
      "    \n",
      "        cs1 -> cs1_data_type [label=\"data_type\" weight=14 color=\"#b26e37\" tooltip=\"\" labeltooltip=\"\"]    \n",
      "    \n",
      "        cs1 -> p1 [label=\"\" weight=14 color=\"#b26e37\" tooltip=\"\" labeltooltip=\"\"]    \n",
      "    \n",
      "        cs1 -> p2 [label=\"\" weight=14 color=\"#b26e37\" tooltip=\"\" labeltooltip=\"\"]    \n",
      "    \n",
      "        p1 -> cs1 [label=\"\" weight=14 color=\"#b26e37\" tooltip=\"\" labeltooltip=\"\"]    \n",
      "    \n",
      "        p2 -> cs1 [label=\"\" weight=14 color=\"#b26e37\" tooltip=\"\" labeltooltip=\"\"]    \n",
      "    \n",
      "/* End of double cluster for drawing box around nodes in workflow */\n",
      "}}\n",
      "\n",
      "/* End of top-level graph */\n",
      "}\n",
      "\n"
     ]
    }
   ],
   "source": [
    "print(gv_string)"
   ]
  },
  {
   "cell_type": "code",
   "execution_count": 23,
   "id": "c558acdc",
   "metadata": {},
   "outputs": [],
   "source": [
    "from IPython.display import Image\n",
    "def generate_pdf(gv_string,filename=\"temp\"):\n",
    "    input = filename+\".gv\"\n",
    "    with open(input,\"w\") as file:\n",
    "        file.write(gv_string)\n",
    "    output = filename+\".png\"    \n",
    "    !dot -Tpng -o $output $input \n",
    "    return Image(filename=output) "
   ]
  },
  {
   "cell_type": "code",
   "execution_count": 24,
   "id": "bc2296a9",
   "metadata": {},
   "outputs": [
    {
     "data": {
      "image/png": "[encoded data removed]",
      "text/plain": [
       "<IPython.core.display.Image object>"
      ]
     },
     "execution_count": 24,
     "metadata": {},
     "output_type": "execute_result"
    }
   ],
   "source": [
    "generate_pdf(gv_string,\"process_model\")"
   ]
  },
  {
   "cell_type": "markdown",
   "id": "6e89fcee",
   "metadata": {},
   "source": [
    "# workflow step (wireframe)"
   ]
  },
  {
   "cell_type": "code",
   "execution_count": 25,
   "id": "f295c8f9",
   "metadata": {},
   "outputs": [
    {
     "data": {
      "text/plain": [
       "[['workflow_step', '1', 'column_state(c1,1)', 'p1', 'column_state(c1,2)'],\n",
       " ['workflow_step', '2', 'column_state(c1,2)', 'p2', 'column_state(c1,3)']]"
      ]
     },
     "execution_count": 25,
     "metadata": {},
     "output_type": "execute_result"
    }
   ],
   "source": [
    "df_output_str[(\"workflow_step\",4)]"
   ]
  },
  {
   "cell_type": "code",
   "execution_count": 26,
   "id": "24a215c1",
   "metadata": {},
   "outputs": [],
   "source": [
    "# visualize using graphviz yw layout\n",
    "\n",
    "nodes_def = \"\"\"\n",
    "digraph \"[stackcollapse]\" {\n",
    "node [style=filled fillcolor=\"#f8f8f8\"]\n",
    "\"\"\"\n",
    "\n",
    "edge_def = \"\"\n",
    "\n",
    "# workflow template gv format\n",
    "\n",
    "header = \"\"\"\n",
    "/* Start of top-level graph */\n",
    "digraph Workflow {\n",
    "rankdir=TB\n",
    "\n",
    "/* Start of double cluster for drawing box around nodes in workflow */\n",
    "subgraph cluster_workflow_box_outer { label=\"\"; penwidth=0\n",
    "subgraph cluster_workflow_box_inner { label=\"\"; penwidth=0\n",
    "\"\"\"\n",
    "\n",
    "single_process = \"\"\"\n",
    "/* Style for nodes representing atomic programs in workflow */\n",
    "node[shape=box style=filled fillcolor=\"#CCFFCC\" peripheries=1 fontname=Helvetica]\n",
    "\n",
    "/* Nodes representing atomic programs in workflow */\n",
    "\"\"\"\n",
    "#state_4 [shape=record rankdir=LR label=\"{<f0> step 4 (to_date) | grel\\:value.replace(/\\\\/i,'') | 16492 cells changed}\"];\n",
    "\n",
    "\n",
    "side_b_process = \"\"\"\n",
    "node[shape=box style=filled fillcolor=\"#CCCCFF\" peripheries=1 fontname=Helvetica]\n",
    "\"\"\"\n",
    "#state_5 [shape=record rankdir=LR label=\"{<f0> state_5 |<f1> core/mass-edit\\nclustering\\ngroup clustering 4 processes}\"];\n",
    "\n",
    "side_b_data = \"\"\"\n",
    "node[shape=box style=\"rounded,filled\" fillcolor=\"#FFDDDD\" peripheries=1 fontname=Helvetica]\n",
    "\"\"\"\n",
    "\n",
    "side_a_data = \"\"\"\n",
    "node[shape=box style=\"rounded,filled\" fillcolor=\"#CCFFFF\" peripheries=1 fontname=Helvetica]\n",
    "\"\"\"\n",
    "\n",
    "freq_pattern_nodes = \"\"\"\n",
    "node[shape=box style=filled fillcolor=\"#CCFFFF\" peripheries=1 fontname=Helvetica]\n",
    "\"\"\"\n",
    "#state_5 [shape=record rankdir=LR label=\"{<f0> state_5 |<f1> core/mass-edit\\nclustering\\ngroup clustering 4 processes}\"];\n",
    "\n",
    "column_nodes = \"\"\"\n",
    "/* Style for nodes representing non-parameter data channels in workflow */\n",
    "node[shape=box style=\"rounded,filled\" fillcolor=\"#FFFFCC\" peripheries=1 fontname=Helvetica]\n",
    "\n",
    "/* Nodes for non-parameter data channels in workflow */\n",
    "\"\"\"\n",
    "#\"col12_0-date\" [shape=record rankdir=LR label=\"{<f0> date_0 }\"]\n",
    "\n",
    "parameters_nodes = \"\"\"\n",
    "/* Style for nodes representing parameter channels in workflow */\n",
    "node[shape=box style=\"rounded,filled\" fillcolor=\"#FCFCFC\" peripheries=1 fontname=Helvetica]\n",
    "\n",
    "/* Nodes representing parameter channels in workflow */\n",
    "\"\"\"\n",
    "\n",
    "edges = \"\"\"\n",
    "/* Edges representing connections between programs and channels */\n",
    "\"\"\"\n",
    "#\"col12_0-date\" -> state_4\n",
    "\n",
    "\n",
    "footer = \"\"\"\n",
    "/* End of double cluster for drawing box around nodes in workflow */\n",
    "}}\n",
    "\n",
    "/* End of top-level graph */\n",
    "}\n",
    "\"\"\"\n",
    "\n",
    "node_col = set()\n",
    "node_step = set()\n",
    "node_edges = set()\n",
    "\n",
    "for s,fn in zip(df_output_str[(\"workflow_step\",4)],df_output[(\"workflow_step\",4)]):\n",
    "    if s[2] not in node_col:\n",
    "        column_nodes+=\"\"\"\n",
    "        \"{node_name}\" [shape=record rankdir=LR label=\"{{<f0> {label} }}\"]\n",
    "        \"\"\".format(node_name=s[2],label=s[2])\n",
    "        node_col.add(s[2])\n",
    "        \n",
    "\n",
    "    if s[4] not in node_col:\n",
    "        column_nodes+=\"\"\"\n",
    "        \"{node_name}\" [shape=record rankdir=LR label=\"{{<f0> {label} }}\"]\n",
    "        \"\"\".format(node_name=s[4],label=s[4])\n",
    "        node_col.add(s[4])\n",
    "        \n",
    "        \n",
    "    if s[1]+\"_\"+s[3] not in node_step:\n",
    "        single_process+='''\n",
    "        \"{pid}\" [shape=record rankdir=LR label=\"{{<f0> step {step_id} ({process_name}) }}\"];\n",
    "        '''.format(pid=s[1]+\"_\"+s[3],step_id=s[1],process_name=s[3])\n",
    "        node_step.add(s[1]+\"_\"+s[3])\n",
    "        \n",
    "    \n",
    "    if s[2]+\"_\"+s[1]+\"_\"+s[3] not in node_edges:\n",
    "        edges+=\"\"\"\n",
    "            \"{input}\" -> \"{output}\" [label=\"{data}\" weight=14 color=\"#b26e37\" tooltip=\"\" labeltooltip=\"\"]    \n",
    "        \"\"\".format(input=s[2],output=s[1]+\"_\"+s[3],data=\"\")\n",
    "        node_edges.add(s[2]+\"_\"+s[1]+\"_\"+s[3])\n",
    "    \n",
    "    if s[1]+\"_\"+s[3]+\"_\"+s[4] not in node_edges:\n",
    "        edges+=\"\"\"\n",
    "            \"{input}\" -> \"{output}\" [label=\"{data}\" weight=14 color=\"#b26e37\" tooltip=\"\" labeltooltip=\"\"]    \n",
    "        \"\"\".format(input=s[1]+\"_\"+s[3],output=s[4],data=\"\") \n",
    "        node_edges.add(s[1]+\"_\"+s[3]+\"_\"+s[4])\n",
    "        \n",
    "gv_string = header+single_process+column_nodes+parameters_nodes+side_b_process+side_a_data+side_b_data+freq_pattern_nodes+edges+footer"
   ]
  },
  {
   "cell_type": "code",
   "execution_count": 27,
   "id": "be1ed006",
   "metadata": {},
   "outputs": [
    {
     "name": "stdout",
     "output_type": "stream",
     "text": [
      "\n",
      "/* Start of top-level graph */\n",
      "digraph Workflow {\n",
      "rankdir=TB\n",
      "\n",
      "/* Start of double cluster for drawing box around nodes in workflow */\n",
      "subgraph cluster_workflow_box_outer { label=\"\"; penwidth=0\n",
      "subgraph cluster_workflow_box_inner { label=\"\"; penwidth=0\n",
      "\n",
      "/* Style for nodes representing atomic programs in workflow */\n",
      "node[shape=box style=filled fillcolor=\"#CCFFCC\" peripheries=1 fontname=Helvetica]\n",
      "\n",
      "/* Nodes representing atomic programs in workflow */\n",
      "\n",
      "        \"1_p1\" [shape=record rankdir=LR label=\"{<f0> step 1 (p1) }\"];\n",
      "        \n",
      "        \"2_p2\" [shape=record rankdir=LR label=\"{<f0> step 2 (p2) }\"];\n",
      "        \n",
      "/* Style for nodes representing non-parameter data channels in workflow */\n",
      "node[shape=box style=\"rounded,filled\" fillcolor=\"#FFFFCC\" peripheries=1 fontname=Helvetica]\n",
      "\n",
      "/* Nodes for non-parameter data channels in workflow */\n",
      "\n",
      "        \"column_state(c1,1)\" [shape=record rankdir=LR label=\"{<f0> column_state(c1,1) }\"]\n",
      "        \n",
      "        \"column_state(c1,2)\" [shape=record rankdir=LR label=\"{<f0> column_state(c1,2) }\"]\n",
      "        \n",
      "        \"column_state(c1,3)\" [shape=record rankdir=LR label=\"{<f0> column_state(c1,3) }\"]\n",
      "        \n",
      "/* Style for nodes representing parameter channels in workflow */\n",
      "node[shape=box style=\"rounded,filled\" fillcolor=\"#FCFCFC\" peripheries=1 fontname=Helvetica]\n",
      "\n",
      "/* Nodes representing parameter channels in workflow */\n",
      "\n",
      "node[shape=box style=filled fillcolor=\"#CCCCFF\" peripheries=1 fontname=Helvetica]\n",
      "\n",
      "node[shape=box style=\"rounded,filled\" fillcolor=\"#CCFFFF\" peripheries=1 fontname=Helvetica]\n",
      "\n",
      "node[shape=box style=\"rounded,filled\" fillcolor=\"#FFDDDD\" peripheries=1 fontname=Helvetica]\n",
      "\n",
      "node[shape=box style=filled fillcolor=\"#CCFFFF\" peripheries=1 fontname=Helvetica]\n",
      "\n",
      "/* Edges representing connections between programs and channels */\n",
      "\n",
      "            \"column_state(c1,1)\" -> \"1_p1\" [label=\"\" weight=14 color=\"#b26e37\" tooltip=\"\" labeltooltip=\"\"]    \n",
      "        \n",
      "            \"1_p1\" -> \"column_state(c1,2)\" [label=\"\" weight=14 color=\"#b26e37\" tooltip=\"\" labeltooltip=\"\"]    \n",
      "        \n",
      "            \"column_state(c1,2)\" -> \"2_p2\" [label=\"\" weight=14 color=\"#b26e37\" tooltip=\"\" labeltooltip=\"\"]    \n",
      "        \n",
      "            \"2_p2\" -> \"column_state(c1,3)\" [label=\"\" weight=14 color=\"#b26e37\" tooltip=\"\" labeltooltip=\"\"]    \n",
      "        \n",
      "/* End of double cluster for drawing box around nodes in workflow */\n",
      "}}\n",
      "\n",
      "/* End of top-level graph */\n",
      "}\n",
      "\n"
     ]
    }
   ],
   "source": [
    "print(gv_string)"
   ]
  },
  {
   "cell_type": "code",
   "execution_count": 28,
   "id": "6301fb1c",
   "metadata": {},
   "outputs": [
    {
     "data": {
      "image/png": "[encoded data removed]",
      "text/plain": [
       "<IPython.core.display.Image object>"
      ]
     },
     "execution_count": 28,
     "metadata": {},
     "output_type": "execute_result"
    }
   ],
   "source": [
    "generate_pdf(gv_string,\"workflow_step\")"
   ]
  },
  {
   "cell_type": "code",
   "execution_count": 29,
   "id": "f8998753",
   "metadata": {},
   "outputs": [],
   "source": [
    "# visualize using graphviz yw layout\n",
    "\n",
    "nodes_def = \"\"\"\n",
    "digraph \"[stackcollapse]\" {\n",
    "node [style=filled fillcolor=\"#f8f8f8\"]\n",
    "\"\"\"\n",
    "\n",
    "edge_def = \"\"\n",
    "\n",
    "# workflow template gv format\n",
    "\n",
    "header = \"\"\"\n",
    "/* Start of top-level graph */\n",
    "digraph Workflow {\n",
    "rankdir=TB\n",
    "\n",
    "/* Start of double cluster for drawing box around nodes in workflow */\n",
    "subgraph cluster_workflow_box_outer { label=\"\"; penwidth=0\n",
    "subgraph cluster_workflow_box_inner { label=\"\"; penwidth=0\n",
    "\"\"\"\n",
    "\n",
    "single_process = \"\"\"\n",
    "/* Style for nodes representing atomic programs in workflow */\n",
    "node[shape=box style=filled fillcolor=\"#CCFFCC\" peripheries=1 fontname=Helvetica]\n",
    "\n",
    "/* Nodes representing atomic programs in workflow */\n",
    "\"\"\"\n",
    "#state_4 [shape=record rankdir=LR label=\"{<f0> step 4 (to_date) | grel\\:value.replace(/\\\\/i,'') | 16492 cells changed}\"];\n",
    "\n",
    "\n",
    "side_b_process = \"\"\"\n",
    "node[shape=box style=filled fillcolor=\"#CCCCFF\" peripheries=1 fontname=Helvetica]\n",
    "\"\"\"\n",
    "#state_5 [shape=record rankdir=LR label=\"{<f0> state_5 |<f1> core/mass-edit\\nclustering\\ngroup clustering 4 processes}\"];\n",
    "\n",
    "side_b_data = \"\"\"\n",
    "node[shape=box style=\"rounded,filled\" fillcolor=\"#FFDDDD\" peripheries=1 fontname=Helvetica]\n",
    "\"\"\"\n",
    "\n",
    "side_a_data = \"\"\"\n",
    "node[shape=box style=\"rounded,filled\" fillcolor=\"#CCFFFF\" peripheries=1 fontname=Helvetica]\n",
    "\"\"\"\n",
    "\n",
    "\n",
    "freq_pattern_nodes = \"\"\"\n",
    "node[shape=box style=filled fillcolor=\"#CCFFFF\" peripheries=1 fontname=Helvetica]\n",
    "\"\"\"\n",
    "#state_5 [shape=record rankdir=LR label=\"{<f0> state_5 |<f1> core/mass-edit\\nclustering\\ngroup clustering 4 processes}\"];\n",
    "\n",
    "column_nodes = \"\"\"\n",
    "/* Style for nodes representing non-parameter data channels in workflow */\n",
    "node[shape=box style=\"rounded,filled\" fillcolor=\"#FFFFCC\" peripheries=1 fontname=Helvetica]\n",
    "\n",
    "/* Nodes for non-parameter data channels in workflow */\n",
    "\"\"\"\n",
    "#\"col12_0-date\" [shape=record rankdir=LR label=\"{<f0> date_0 }\"]\n",
    "\n",
    "column_schema_nodes = \"\"\"\n",
    "/* Style for nodes representing non-parameter data channels in workflow */\n",
    "node[shape=box style=\"rounded,filled,dashed\" fillcolor=\"#FFFFCC\" peripheries=1 fontname=Helvetica]\n",
    "\"\"\"\n",
    "\n",
    "parameters_nodes = \"\"\"\n",
    "/* Style for nodes representing parameter channels in workflow */\n",
    "node[shape=box style=\"rounded,filled,dashed\" fillcolor=\"#FCFCFC\" peripheries=1 fontname=Helvetica]\n",
    "\n",
    "/* Nodes representing parameter channels in workflow */\n",
    "\"\"\"\n",
    "\n",
    "edges = \"\"\"\n",
    "/* Edges representing connections between programs and channels */\n",
    "\"\"\"\n",
    "#\"col12_0-date\" -> state_4\n",
    "\n",
    "\n",
    "footer = \"\"\"\n",
    "/* End of double cluster for drawing box around nodes in workflow */\n",
    "}}\n",
    "\n",
    "/* End of top-level graph */\n",
    "}\n",
    "\"\"\"\n",
    "\n",
    "# process nodes\n",
    "for p in df_output_str[(\"process\",2)]:\n",
    "    freq_pattern_nodes+='''\n",
    "    \"{pid}\" [shape=record rankdir=LR label=\"{{<f0> {pid} ({process_name}) }}\"];\n",
    "    '''.format(pid=p[1],process_name=p[2])\n",
    "\n",
    "# schema nodes\n",
    "for cs in df_output_str[(\"column_schema\",3)]:    \n",
    "    column_schema_nodes+=\"\"\"\n",
    "    \"{node_name}\" [shape=record rankdir=LR label=\"{{<f0> {label} }}\"]\n",
    "    \"\"\".format(node_name=cs[1],label=cs[1])\n",
    "    parameters_nodes+=\"\"\"\n",
    "    \"{node_name}\" [shape=record rankdir=LR label=\"{{<f0> {label} }}\"]\n",
    "    \"\"\".format(node_name=cs[1]+\"_\"+cs[2],label=cs[3])\n",
    "    edges+=\"\"\"\n",
    "        {input} -> {output} [label=\"{data}\" weight=14 color=\"#b26e37\" tooltip=\"\" labeltooltip=\"\"]    \n",
    "    \"\"\".format(input=cs[1],output=cs[1]+\"_\"+cs[2],data=cs[2])   \n",
    "\n",
    "# edge input output\n",
    "for inp in df_output_str[(\"input_process\",3)]:                    \n",
    "    edges+=\"\"\"\n",
    "        {input} -> {output} [label=\"{data}\" weight=14 color=\"#b26e37\" tooltip=\"\" labeltooltip=\"\"]    \n",
    "    \"\"\".format(input=inp[3],output=inp[1],data=\"\")            \n",
    "\n",
    "for out in df_output_str[(\"output_process\",3)]:                    \n",
    "    edges+=\"\"\"\n",
    "        {input} -> {output} [label=\"{data}\" weight=14 color=\"#b26e37\" tooltip=\"\" labeltooltip=\"\"]    \n",
    "    \"\"\".format(input=out[1],output=out[3],data=\"\")            \n",
    "\n",
    "\n",
    "node_col = set()\n",
    "node_step = set()\n",
    "node_edges = set()\n",
    "\n",
    "cl_sc_map = {}\n",
    "for cl in df_output_str[(\"column\",4)]:\n",
    "    cl_sc_map[cl[1]] = cl[3]\n",
    "\n",
    "for s,fn in zip(df_output_str[(\"workflow_step\",4)],df_output[(\"workflow_step\",4)]):\n",
    "    if s[2] not in node_col:\n",
    "        column_nodes+=\"\"\"\n",
    "        \"{node_name}\" [shape=record rankdir=LR label=\"{{<f0> {label} }}\"]\n",
    "        \"\"\".format(node_name=s[2],label=s[2])\n",
    "        node_col.add(s[2])\n",
    "        \n",
    "        #print(fn.)\n",
    "        edges+=\"\"\"\n",
    "            \"{input}\" -> \"{output}\" [label=\"{data}\" weight=14 color=\"#b26e37\" tooltip=\"\" labeltooltip=\"\" style=\"dashed\"]    \n",
    "        \"\"\".format(input=s[2],output=cl_sc_map[fn.arguments[1].arguments[0].name],data=\"associatedWith\")\n",
    "        node_edges.add(s[2]+\"_\"+cl_sc_map[fn.arguments[1].arguments[0].name])\n",
    "        \n",
    "    if s[4] not in node_col:\n",
    "        column_nodes+=\"\"\"\n",
    "        \"{node_name}\" [shape=record rankdir=LR label=\"{{<f0> {label} }}\"]\n",
    "        \"\"\".format(node_name=s[4],label=s[4])\n",
    "        node_col.add(s[4])\n",
    "        \n",
    "        edges+=\"\"\"\n",
    "            \"{input}\" -> \"{output}\" [label=\"{data}\" weight=14 color=\"#b26e37\" tooltip=\"\" labeltooltip=\"\" style=\"dashed\"]    \n",
    "        \"\"\".format(input=s[4],output=cl_sc_map[fn.arguments[3].arguments[0].name],data=\"associatedWith\")\n",
    "        node_edges.add(s[4]+\"_\"+cl_sc_map[fn.arguments[3].arguments[0].name])\n",
    "        \n",
    "    if s[1]+\"_\"+s[3] not in node_step:\n",
    "        single_process+='''\n",
    "        \"{pid}\" [shape=record rankdir=LR label=\"{{<f0> step {step_id} ({process_name}) }}\"];\n",
    "        '''.format(pid=s[1]+\"_\"+s[3],step_id=s[1],process_name=s[3])\n",
    "        node_step.add(s[1]+\"_\"+s[3])\n",
    "        \n",
    "        edges+=\"\"\"\n",
    "        \"{input}\" -> \"{output}\" [label=\"{data}\" weight=14 color=\"#b26e37\" tooltip=\"\" labeltooltip=\"\" style=\"dashed\"]    \n",
    "        \"\"\".format(input=s[1]+\"_\"+s[3],output=s[3],data=\"associatedWith\")\n",
    "        node_edges.add(s[1]+\"_\"+s[3]+\"_\"+s[3])\n",
    "    \n",
    "    if s[2]+\"_\"+s[1]+\"_\"+s[3] not in node_edges:\n",
    "        edges+=\"\"\"\n",
    "            \"{input}\" -> \"{output}\" [label=\"{data}\" weight=14 color=\"#b26e37\" tooltip=\"\" labeltooltip=\"\"]    \n",
    "        \"\"\".format(input=s[2],output=s[1]+\"_\"+s[3],data=\"\")\n",
    "        node_edges.add(s[2]+\"_\"+s[1]+\"_\"+s[3])\n",
    "    \n",
    "    if s[1]+\"_\"+s[3]+\"_\"+s[4] not in node_edges:\n",
    "        edges+=\"\"\"\n",
    "            \"{input}\" -> \"{output}\" [label=\"{data}\" weight=14 color=\"#b26e37\" tooltip=\"\" labeltooltip=\"\"]    \n",
    "        \"\"\".format(input=s[1]+\"_\"+s[3],output=s[4],data=\"\") \n",
    "        node_edges.add(s[1]+\"_\"+s[3]+\"_\"+s[4])\n",
    "            \n",
    "            \n",
    "            \n",
    "gv_string = header+single_process+column_nodes+parameters_nodes+side_b_process+side_a_data+side_b_data+freq_pattern_nodes+edges+footer\n",
    "\n"
   ]
  },
  {
   "cell_type": "code",
   "execution_count": 30,
   "id": "94506129",
   "metadata": {},
   "outputs": [
    {
     "data": {
      "text/plain": [
       "'c1'"
      ]
     },
     "execution_count": 30,
     "metadata": {},
     "output_type": "execute_result"
    }
   ],
   "source": [
    "fn.arguments[1].arguments[0].name"
   ]
  },
  {
   "cell_type": "code",
   "execution_count": 31,
   "id": "4beedcb1",
   "metadata": {},
   "outputs": [
    {
     "data": {
      "image/png": "[encoded data removed]",
      "text/plain": [
       "<IPython.core.display.Image object>"
      ]
     },
     "execution_count": 31,
     "metadata": {},
     "output_type": "execute_result"
    }
   ],
   "source": [
    "generate_pdf(gv_string,\"workflow_step\")"
   ]
  },
  {
   "cell_type": "code",
   "execution_count": 36,
   "id": "1f96bfbc",
   "metadata": {},
   "outputs": [],
   "source": [
    "# visualize using graphviz yw layout\n",
    "\n",
    "nodes_def = \"\"\"\n",
    "digraph \"[stackcollapse]\" {\n",
    "node [style=filled fillcolor=\"#f8f8f8\"]\n",
    "\"\"\"\n",
    "\n",
    "edge_def = \"\"\n",
    "\n",
    "# workflow template gv format\n",
    "\n",
    "header = \"\"\"\n",
    "/* Start of top-level graph */\n",
    "digraph Workflow {\n",
    "rankdir=LR\n",
    "\n",
    "\"\"\"\n",
    "\n",
    "sub_graph_workflow_step = \"\"\"\n",
    "subgraph cluster_0 { label=\"workflow_step\"; color=\"blue\";\n",
    "\"\"\"\n",
    "\n",
    "end_sub_graph_workflow_step = \"\"\"\n",
    "}\n",
    "\"\"\"\n",
    "\n",
    "sub_graph_process = \"\"\"\n",
    "subgraph cluster_1 { label=\"process_signature\"; color=\"gray\";\n",
    "\"\"\"\n",
    "\n",
    "end_sub_graph_process = \"\"\"\n",
    "}\n",
    "\"\"\"\n",
    "\n",
    "single_process = \"\"\"\n",
    "/* Style for nodes representing atomic programs in workflow */\n",
    "node[shape=box style=filled fillcolor=\"#CCFFCC\" peripheries=1 fontname=Helvetica]\n",
    "\n",
    "/* Nodes representing atomic programs in workflow */\n",
    "\"\"\"\n",
    "#state_4 [shape=record rankdir=LR label=\"{<f0> step 4 (to_date) | grel\\:value.replace(/\\\\/i,'') | 16492 cells changed}\"];\n",
    "\n",
    "\n",
    "side_b_process = \"\"\"\n",
    "node[shape=box style=filled fillcolor=\"#CCCCFF\" peripheries=1 fontname=Helvetica]\n",
    "\"\"\"\n",
    "#state_5 [shape=record rankdir=LR label=\"{<f0> state_5 |<f1> core/mass-edit\\nclustering\\ngroup clustering 4 processes}\"];\n",
    "\n",
    "side_b_data = \"\"\"\n",
    "node[shape=box style=\"rounded,filled\" fillcolor=\"#FFDDDD\" peripheries=1 fontname=Helvetica]\n",
    "\"\"\"\n",
    "\n",
    "side_a_data = \"\"\"\n",
    "node[shape=box style=\"rounded,filled\" fillcolor=\"#CCFFFF\" peripheries=1 fontname=Helvetica]\n",
    "\"\"\"\n",
    "\n",
    "\n",
    "freq_pattern_nodes = \"\"\"\n",
    "node[shape=box style=filled fillcolor=\"#CCFFFF\" peripheries=1 fontname=Helvetica]\n",
    "\"\"\"\n",
    "#state_5 [shape=record rankdir=LR label=\"{<f0> state_5 |<f1> core/mass-edit\\nclustering\\ngroup clustering 4 processes}\"];\n",
    "\n",
    "column_nodes = \"\"\"\n",
    "/* Style for nodes representing non-parameter data channels in workflow */\n",
    "node[shape=box style=\"rounded,filled\" fillcolor=\"#FFFFCC\" peripheries=1 fontname=Helvetica]\n",
    "\n",
    "/* Nodes for non-parameter data channels in workflow */\n",
    "\"\"\"\n",
    "#\"col12_0-date\" [shape=record rankdir=LR label=\"{<f0> date_0 }\"]\n",
    "\n",
    "column_schema_nodes = \"\"\"\n",
    "/* Style for nodes representing non-parameter data channels in workflow */\n",
    "node[shape=box style=\"rounded,filled,dashed\" fillcolor=\"#FFFFCC\" peripheries=1 fontname=Helvetica]\n",
    "\"\"\"\n",
    "\n",
    "parameters_nodes = \"\"\"\n",
    "/* Style for nodes representing parameter channels in workflow */\n",
    "node[shape=box style=\"rounded,filled,dashed\" fillcolor=\"#FCFCFC\" peripheries=1 fontname=Helvetica]\n",
    "\n",
    "/* Nodes representing parameter channels in workflow */\n",
    "\"\"\"\n",
    "\n",
    "edges = \"\"\"\n",
    "/* Edges representing connections between programs and channels */\n",
    "\"\"\"\n",
    "#\"col12_0-date\" -> state_4\n",
    "\n",
    "\n",
    "footer = \"\"\"\n",
    "\n",
    "/* End of top-level graph */\n",
    "}\n",
    "\"\"\"\n",
    "\n",
    "# process nodes\n",
    "for p in df_output_str[(\"process\",2)]:\n",
    "    freq_pattern_nodes+='''\n",
    "    \"{pid}\" [shape=record rankdir=LR label=\"{{<f0> {pid} ({process_name}) }}\"];\n",
    "    '''.format(pid=p[1],process_name=p[2])\n",
    "\n",
    "# schema nodes\n",
    "for cs in df_output_str[(\"column_schema\",3)]:    \n",
    "    column_schema_nodes+=\"\"\"\n",
    "    \"{node_name}\" [shape=record rankdir=LR label=\"{{<f0> {label} }}\"]\n",
    "    \"\"\".format(node_name=cs[1],label=cs[1])\n",
    "    parameters_nodes+=\"\"\"\n",
    "    \"{node_name}\" [shape=record rankdir=LR label=\"{{<f0> {label} }}\"]\n",
    "    \"\"\".format(node_name=cs[1]+\"_\"+cs[2],label=cs[3])\n",
    "    edges+=\"\"\"\n",
    "        {input} -> {output} [label=\"{data}\" weight=14 color=\"#b26e37\" tooltip=\"\" labeltooltip=\"\"]    \n",
    "    \"\"\".format(input=cs[1],output=cs[1]+\"_\"+cs[2],data=cs[2])   \n",
    "\n",
    "# edge input output\n",
    "for inp in df_output_str[(\"input_process\",3)]:                    \n",
    "    edges+=\"\"\"\n",
    "        {input} -> {output} [label=\"{data}\" weight=14 color=\"#b26e37\" tooltip=\"\" labeltooltip=\"\"]    \n",
    "    \"\"\".format(input=inp[3],output=inp[1],data=\"\")            \n",
    "\n",
    "for out in df_output_str[(\"output_process\",3)]:                    \n",
    "    edges+=\"\"\"\n",
    "        {input} -> {output} [label=\"{data}\" weight=14 color=\"#b26e37\" tooltip=\"\" labeltooltip=\"\"]    \n",
    "    \"\"\".format(input=out[1],output=out[3],data=\"\")            \n",
    "\n",
    "\n",
    "node_col = set()\n",
    "node_step = set()\n",
    "node_edges = set()\n",
    "\n",
    "cl_sc_map = {}\n",
    "for cl in df_output_str[(\"column\",4)]:\n",
    "    cl_sc_map[cl[1]] = cl[3]\n",
    "\n",
    "for s,fn in zip(df_output_str[(\"workflow_step\",4)],df_output[(\"workflow_step\",4)]):\n",
    "    if s[2] not in node_col:\n",
    "        column_nodes+=\"\"\"\n",
    "        \"{node_name}\" [shape=record rankdir=LR label=\"{{<f0> {label} }}\"]\n",
    "        \"\"\".format(node_name=s[2],label=s[2])\n",
    "        node_col.add(s[2])\n",
    "        \n",
    "        #print(fn.)\n",
    "        edges+=\"\"\"\n",
    "            \"{input}\" -> \"{output}\" [label=\"{data}\" weight=14 color=\"#b26e37\" tooltip=\"\" labeltooltip=\"\" style=\"dashed\"]    \n",
    "        \"\"\".format(input=s[2],output=cl_sc_map[fn.arguments[1].arguments[0].name],data=\"associatedWith\")\n",
    "        node_edges.add(s[2]+\"_\"+cl_sc_map[fn.arguments[1].arguments[0].name])\n",
    "        \n",
    "    if s[4] not in node_col:\n",
    "        column_nodes+=\"\"\"\n",
    "        \"{node_name}\" [shape=record rankdir=LR label=\"{{<f0> {label} }}\"]\n",
    "        \"\"\".format(node_name=s[4],label=s[4])\n",
    "        node_col.add(s[4])\n",
    "        \n",
    "        edges+=\"\"\"\n",
    "            \"{input}\" -> \"{output}\" [label=\"{data}\" weight=14 color=\"#b26e37\" tooltip=\"\" labeltooltip=\"\" style=\"dashed\"]    \n",
    "        \"\"\".format(input=s[4],output=cl_sc_map[fn.arguments[3].arguments[0].name],data=\"associatedWith\")\n",
    "        node_edges.add(s[4]+\"_\"+cl_sc_map[fn.arguments[3].arguments[0].name])\n",
    "        \n",
    "    if s[1]+\"_\"+s[3] not in node_step:\n",
    "        single_process+='''\n",
    "        \"{pid}\" [shape=record rankdir=LR label=\"{{<f0> step {step_id} ({process_name}) }}\"];\n",
    "        '''.format(pid=s[1]+\"_\"+s[3],step_id=s[1],process_name=s[3])\n",
    "        node_step.add(s[1]+\"_\"+s[3])\n",
    "        \n",
    "        edges+=\"\"\"\n",
    "        \"{input}\" -> \"{output}\" [label=\"{data}\" weight=14 color=\"#b26e37\" tooltip=\"\" labeltooltip=\"\" style=\"dashed\"]    \n",
    "        \"\"\".format(input=s[1]+\"_\"+s[3],output=s[3],data=\"associatedWith\")\n",
    "        node_edges.add(s[1]+\"_\"+s[3]+\"_\"+s[3])\n",
    "    \n",
    "    if s[2]+\"_\"+s[1]+\"_\"+s[3] not in node_edges:\n",
    "        edges+=\"\"\"\n",
    "            \"{input}\" -> \"{output}\" [label=\"{data}\" weight=14 color=\"#b26e37\" tooltip=\"\" labeltooltip=\"\"]    \n",
    "        \"\"\".format(input=s[2],output=s[1]+\"_\"+s[3],data=\"\")\n",
    "        node_edges.add(s[2]+\"_\"+s[1]+\"_\"+s[3])\n",
    "    \n",
    "    if s[1]+\"_\"+s[3]+\"_\"+s[4] not in node_edges:\n",
    "        edges+=\"\"\"\n",
    "            \"{input}\" -> \"{output}\" [label=\"{data}\" weight=14 color=\"#b26e37\" tooltip=\"\" labeltooltip=\"\"]    \n",
    "        \"\"\".format(input=s[1]+\"_\"+s[3],output=s[4],data=\"\") \n",
    "        node_edges.add(s[1]+\"_\"+s[3]+\"_\"+s[4])\n",
    "            \n",
    "            \n",
    "            \n",
    "#gv_string = header+single_process+column_nodes+parameters_nodes+side_b_process+side_a_data+side_b_data+freq_pattern_nodes+edges+footer\n",
    "\n",
    "gv_string = header+sub_graph_workflow_step+single_process+column_nodes+end_sub_graph_workflow_step+sub_graph_process+parameters_nodes+side_b_process+side_a_data+side_b_data+column_schema_nodes+freq_pattern_nodes+end_sub_graph_process+edges+footer\n"
   ]
  },
  {
   "cell_type": "code",
   "execution_count": 37,
   "id": "fa49b9d5",
   "metadata": {},
   "outputs": [
    {
     "name": "stdout",
     "output_type": "stream",
     "text": [
      "\n",
      "/* Start of top-level graph */\n",
      "digraph Workflow {\n",
      "rankdir=LR\n",
      "\n",
      "\n",
      "subgraph cluster_0 { label=\"workflow_step\"; color=\"blue\";\n",
      "\n",
      "/* Style for nodes representing atomic programs in workflow */\n",
      "node[shape=box style=filled fillcolor=\"#CCFFCC\" peripheries=1 fontname=Helvetica]\n",
      "\n",
      "/* Nodes representing atomic programs in workflow */\n",
      "\n",
      "        \"1_p1\" [shape=record rankdir=LR label=\"{<f0> step 1 (p1) }\"];\n",
      "        \n",
      "        \"2_p2\" [shape=record rankdir=LR label=\"{<f0> step 2 (p2) }\"];\n",
      "        \n",
      "/* Style for nodes representing non-parameter data channels in workflow */\n",
      "node[shape=box style=\"rounded,filled\" fillcolor=\"#FFFFCC\" peripheries=1 fontname=Helvetica]\n",
      "\n",
      "/* Nodes for non-parameter data channels in workflow */\n",
      "\n",
      "        \"column_state(c1,1)\" [shape=record rankdir=LR label=\"{<f0> column_state(c1,1) }\"]\n",
      "        \n",
      "        \"column_state(c1,2)\" [shape=record rankdir=LR label=\"{<f0> column_state(c1,2) }\"]\n",
      "        \n",
      "        \"column_state(c1,3)\" [shape=record rankdir=LR label=\"{<f0> column_state(c1,3) }\"]\n",
      "        \n",
      "}\n",
      "\n",
      "subgraph cluster_1 { label=\"process_signature\"; color=\"gray\";\n",
      "\n",
      "/* Style for nodes representing parameter channels in workflow */\n",
      "node[shape=box style=\"rounded,filled,dashed\" fillcolor=\"#FCFCFC\" peripheries=1 fontname=Helvetica]\n",
      "\n",
      "/* Nodes representing parameter channels in workflow */\n",
      "\n",
      "    \"cs1_name\" [shape=record rankdir=LR label=\"{<f0> full_name }\"]\n",
      "    \n",
      "    \"cs1_data_type\" [shape=record rankdir=LR label=\"{<f0> text }\"]\n",
      "    \n",
      "node[shape=box style=filled fillcolor=\"#CCCCFF\" peripheries=1 fontname=Helvetica]\n",
      "\n",
      "node[shape=box style=\"rounded,filled\" fillcolor=\"#CCFFFF\" peripheries=1 fontname=Helvetica]\n",
      "\n",
      "node[shape=box style=\"rounded,filled\" fillcolor=\"#FFDDDD\" peripheries=1 fontname=Helvetica]\n",
      "\n",
      "/* Style for nodes representing non-parameter data channels in workflow */\n",
      "node[shape=box style=\"rounded,filled,dashed\" fillcolor=\"#FFFFCC\" peripheries=1 fontname=Helvetica]\n",
      "\n",
      "    \"cs1\" [shape=record rankdir=LR label=\"{<f0> cs1 }\"]\n",
      "    \n",
      "    \"cs1\" [shape=record rankdir=LR label=\"{<f0> cs1 }\"]\n",
      "    \n",
      "node[shape=box style=filled fillcolor=\"#CCFFFF\" peripheries=1 fontname=Helvetica]\n",
      "\n",
      "    \"p1\" [shape=record rankdir=LR label=\"{<f0> p1 (lower_case) }\"];\n",
      "    \n",
      "    \"p2\" [shape=record rankdir=LR label=\"{<f0> p2 (lemmatize_char) }\"];\n",
      "    \n",
      "}\n",
      "\n",
      "/* Edges representing connections between programs and channels */\n",
      "\n",
      "        cs1 -> cs1_name [label=\"name\" weight=14 color=\"#b26e37\" tooltip=\"\" labeltooltip=\"\"]    \n",
      "    \n",
      "        cs1 -> cs1_data_type [label=\"data_type\" weight=14 color=\"#b26e37\" tooltip=\"\" labeltooltip=\"\"]    \n",
      "    \n",
      "        cs1 -> p1 [label=\"\" weight=14 color=\"#b26e37\" tooltip=\"\" labeltooltip=\"\"]    \n",
      "    \n",
      "        cs1 -> p2 [label=\"\" weight=14 color=\"#b26e37\" tooltip=\"\" labeltooltip=\"\"]    \n",
      "    \n",
      "        p1 -> cs1 [label=\"\" weight=14 color=\"#b26e37\" tooltip=\"\" labeltooltip=\"\"]    \n",
      "    \n",
      "        p2 -> cs1 [label=\"\" weight=14 color=\"#b26e37\" tooltip=\"\" labeltooltip=\"\"]    \n",
      "    \n",
      "            \"column_state(c1,1)\" -> \"cs1\" [label=\"associatedWith\" weight=14 color=\"#b26e37\" tooltip=\"\" labeltooltip=\"\" style=\"dashed\"]    \n",
      "        \n",
      "            \"column_state(c1,2)\" -> \"cs1\" [label=\"associatedWith\" weight=14 color=\"#b26e37\" tooltip=\"\" labeltooltip=\"\" style=\"dashed\"]    \n",
      "        \n",
      "        \"1_p1\" -> \"p1\" [label=\"associatedWith\" weight=14 color=\"#b26e37\" tooltip=\"\" labeltooltip=\"\" style=\"dashed\"]    \n",
      "        \n",
      "            \"column_state(c1,1)\" -> \"1_p1\" [label=\"\" weight=14 color=\"#b26e37\" tooltip=\"\" labeltooltip=\"\"]    \n",
      "        \n",
      "            \"1_p1\" -> \"column_state(c1,2)\" [label=\"\" weight=14 color=\"#b26e37\" tooltip=\"\" labeltooltip=\"\"]    \n",
      "        \n",
      "            \"column_state(c1,3)\" -> \"cs1\" [label=\"associatedWith\" weight=14 color=\"#b26e37\" tooltip=\"\" labeltooltip=\"\" style=\"dashed\"]    \n",
      "        \n",
      "        \"2_p2\" -> \"p2\" [label=\"associatedWith\" weight=14 color=\"#b26e37\" tooltip=\"\" labeltooltip=\"\" style=\"dashed\"]    \n",
      "        \n",
      "            \"column_state(c1,2)\" -> \"2_p2\" [label=\"\" weight=14 color=\"#b26e37\" tooltip=\"\" labeltooltip=\"\"]    \n",
      "        \n",
      "            \"2_p2\" -> \"column_state(c1,3)\" [label=\"\" weight=14 color=\"#b26e37\" tooltip=\"\" labeltooltip=\"\"]    \n",
      "        \n",
      "\n",
      "/* End of top-level graph */\n",
      "}\n",
      "\n"
     ]
    }
   ],
   "source": [
    "print(gv_string)"
   ]
  },
  {
   "cell_type": "code",
   "execution_count": 38,
   "id": "a7037474",
   "metadata": {},
   "outputs": [
    {
     "data": {
      "image/png": "[encoded data removed]",
      "text/plain": [
       "<IPython.core.display.Image object>"
      ]
     },
     "execution_count": 38,
     "metadata": {},
     "output_type": "execute_result"
    }
   ],
   "source": [
    "generate_pdf(gv_string,\"workflow_step_2\")"
   ]
  },
  {
   "cell_type": "code",
   "execution_count": 39,
   "id": "e24ba1b9",
   "metadata": {},
   "outputs": [],
   "source": [
    "import pandas as pd\n",
    "pd.DataFrame(df_output_str[(\"accumulated_dq_problem\",2)])\n",
    "accumulated_dq = {}\n",
    "for p,fp in zip(df_output_str[(\"accumulated_dq_problem\",2)],df_output[(\"accumulated_dq_problem\",2)]):\n",
    "    #pp = [str(x) for x in fp.arguments[0].arguments]\n",
    "    try:\n",
    "        accumulated_dq[p[1]]\n",
    "    except:\n",
    "        accumulated_dq[p[1]] = []\n",
    "    accumulated_dq[p[1]].append(p[2])"
   ]
  },
  {
   "cell_type": "code",
   "execution_count": 40,
   "id": "c96fcae7",
   "metadata": {},
   "outputs": [
    {
     "data": {
      "text/html": [
       "<div>\n",
       "<style scoped>\n",
       "    .dataframe tbody tr th:only-of-type {\n",
       "        vertical-align: middle;\n",
       "    }\n",
       "\n",
       "    .dataframe tbody tr th {\n",
       "        vertical-align: top;\n",
       "    }\n",
       "\n",
       "    .dataframe thead th {\n",
       "        text-align: right;\n",
       "    }\n",
       "</style>\n",
       "<table border=\"1\" class=\"dataframe\">\n",
       "  <thead>\n",
       "    <tr style=\"text-align: right;\">\n",
       "      <th></th>\n",
       "      <th>0</th>\n",
       "      <th>1</th>\n",
       "      <th>2</th>\n",
       "    </tr>\n",
       "  </thead>\n",
       "  <tbody>\n",
       "    <tr>\n",
       "      <th>0</th>\n",
       "      <td>process</td>\n",
       "      <td>p1</td>\n",
       "      <td>lower_case</td>\n",
       "    </tr>\n",
       "    <tr>\n",
       "      <th>1</th>\n",
       "      <td>process</td>\n",
       "      <td>p2</td>\n",
       "      <td>lemmatize_char</td>\n",
       "    </tr>\n",
       "  </tbody>\n",
       "</table>\n",
       "</div>"
      ],
      "text/plain": [
       "         0   1               2\n",
       "0  process  p1      lower_case\n",
       "1  process  p2  lemmatize_char"
      ]
     },
     "execution_count": 40,
     "metadata": {},
     "output_type": "execute_result"
    }
   ],
   "source": [
    "pd.DataFrame(df_output_str[(\"process\",2)])\n"
   ]
  },
  {
   "cell_type": "code",
   "execution_count": 41,
   "id": "acdeb1dd",
   "metadata": {},
   "outputs": [
    {
     "data": {
      "text/plain": [
       "{'column_state(c1,2)': ['lemmatize_char'],\n",
       " 'column_state(c1,1)': ['lower_case', 'lemmatize_char']}"
      ]
     },
     "execution_count": 41,
     "metadata": {},
     "output_type": "execute_result"
    }
   ],
   "source": [
    "accumulated_dq"
   ]
  },
  {
   "cell_type": "code",
   "execution_count": 42,
   "id": "b3f534c3",
   "metadata": {},
   "outputs": [],
   "source": [
    "import pandas as pd\n",
    "workflow_input_violation = {}\n",
    "for p,fp in zip(df_output_str[(\"workflow_input_violation\",4)],df_output[(\"workflow_input_violation\",4)]):\n",
    "    if p[2] == \"unexpected\":\n",
    "        #workflow_input_violation[(p[1],p[4])] = [x.name for x in fp.arguments[2].arguments]\n",
    "        #workflow_input_violation[(p[4],p[1],p[3])] = (p[4],p[1],p[3])\n",
    "        pass\n",
    "    if p[2] == \"missing\":\n",
    "        workflow_input_violation[(p[1],p[3])] = [x.name for x in fp.arguments[3].arguments]"
   ]
  },
  {
   "cell_type": "code",
   "execution_count": 43,
   "id": "27e0c785",
   "metadata": {},
   "outputs": [],
   "source": [
    "import pandas as pd\n",
    "workflow_output_violation = {}\n",
    "for p,fp in zip(df_output_str[(\"workflow_output_violation\",4)],df_output[(\"workflow_output_violation\",4)]):\n",
    "    if p[2] == \"unexpected\":\n",
    "        #workflow_input_violation[(p[1],p[4])] = [x.name for x in fp.arguments[2].arguments]\n",
    "        #workflow_input_violation[(p[4],p[1],p[3])] = (p[4],p[1],p[3])\n",
    "        pass\n",
    "    if p[2] == \"missing\":\n",
    "        workflow_output_violation[(p[1],p[3])] = [x.name for x in fp.arguments[3].arguments]"
   ]
  },
  {
   "cell_type": "code",
   "execution_count": 44,
   "id": "fa955e88",
   "metadata": {},
   "outputs": [],
   "source": [
    "process_name = {}\n",
    "for p in df_output_str[(\"process\",2)]:\n",
    "    process_name[p[1]] = p[2]\n"
   ]
  },
  {
   "cell_type": "code",
   "execution_count": 45,
   "id": "cf0111e5",
   "metadata": {},
   "outputs": [],
   "source": [
    "column_schema = {}\n",
    "for p in df_output_str[(\"column\",4)]:\n",
    "    column_schema[p[1]] = p[3]"
   ]
  },
  {
   "cell_type": "code",
   "execution_count": 46,
   "id": "16c1d8fc",
   "metadata": {},
   "outputs": [
    {
     "data": {
      "text/plain": [
       "{}"
      ]
     },
     "execution_count": 46,
     "metadata": {},
     "output_type": "execute_result"
    }
   ],
   "source": [
    "workflow_input_violation"
   ]
  },
  {
   "cell_type": "code",
   "execution_count": 47,
   "id": "fbb58039",
   "metadata": {},
   "outputs": [
    {
     "data": {
      "text/plain": [
       "{}"
      ]
     },
     "execution_count": 47,
     "metadata": {},
     "output_type": "execute_result"
    }
   ],
   "source": [
    "workflow_output_violation"
   ]
  },
  {
   "cell_type": "code",
   "execution_count": null,
   "id": "ebb5b975",
   "metadata": {},
   "outputs": [],
   "source": []
  },
  {
   "cell_type": "code",
   "execution_count": 62,
   "id": "8fbc5bf7",
   "metadata": {},
   "outputs": [],
   "source": [
    "# visualize using graphviz yw layout\n",
    "\n",
    "nodes_def = \"\"\"\n",
    "digraph \"[stackcollapse]\" {\n",
    "node [style=filled fillcolor=\"#f8f8f8\"]\n",
    "\"\"\"\n",
    "\n",
    "edge_def = \"\"\n",
    "\n",
    "# workflow template gv format\n",
    "\n",
    "header = \"\"\"\n",
    "/* Start of top-level graph */\n",
    "digraph Workflow {\n",
    "rankdir=TB\n",
    "\n",
    "\"\"\"\n",
    "\n",
    "sub_graph_workflow_step = \"\"\"\n",
    "subgraph cluster_0 { label=\"workflow_step\"; color=\"green\";\n",
    "\"\"\"\n",
    "\n",
    "end_sub_graph_workflow_step = \"\"\"\n",
    "}\n",
    "\"\"\"\n",
    "\n",
    "sub_graph_process = \"\"\"\n",
    "subgraph cluster_1 { label=\"process_signature\"; color=\"blue\";\n",
    "\"\"\"\n",
    "\n",
    "end_sub_graph_process = \"\"\"\n",
    "}\n",
    "\"\"\"\n",
    "\n",
    "single_process = \"\"\"\n",
    "/* Style for nodes representing atomic programs in workflow */\n",
    "node[shape=box style=filled fillcolor=\"#CCFFCC\" peripheries=1 fontname=Helvetica]\n",
    "\n",
    "/* Nodes representing atomic programs in workflow */\n",
    "\"\"\"\n",
    "#state_4 [shape=record rankdir=LR label=\"{<f0> step 4 (to_date) | grel\\:value.replace(/\\\\/i,'') | 16492 cells changed}\"];\n",
    "\n",
    "process_violation = \"\"\"\n",
    "/* Style for violation of process because of missing parameter  */\n",
    "node[shape=box style=filled fillcolor=\"#FFCCCC\" peripheries=1 fontname=Helvetica]\n",
    "\n",
    "/* Nodes representing atomic programs in workflow */\n",
    "\"\"\"\n",
    "\n",
    "\n",
    "side_b_process = \"\"\"\n",
    "node[shape=box style=filled fillcolor=\"#CCCCFF\" peripheries=1 fontname=Helvetica]\n",
    "\"\"\"\n",
    "#state_5 [shape=record rankdir=LR label=\"{<f0> state_5 |<f1> core/mass-edit\\nclustering\\ngroup clustering 4 processes}\"];\n",
    "\n",
    "side_b_data = \"\"\"\n",
    "node[shape=box style=\"rounded,filled\" fillcolor=\"#FFDDDD\" peripheries=1 fontname=Helvetica]\n",
    "\"\"\"\n",
    "\n",
    "side_a_data = \"\"\"\n",
    "node[shape=box style=\"rounded,filled\" fillcolor=\"#CCFFFF\" peripheries=1 fontname=Helvetica]\n",
    "\"\"\"\n",
    "\n",
    "\n",
    "freq_pattern_nodes = \"\"\"\n",
    "node[shape=box style=filled fillcolor=\"#CCFFFF\" peripheries=1 fontname=Helvetica]\n",
    "\"\"\"\n",
    "#state_5 [shape=record rankdir=LR label=\"{<f0> state_5 |<f1> core/mass-edit\\nclustering\\ngroup clustering 4 processes}\"];\n",
    "\n",
    "column_nodes = \"\"\"\n",
    "/* Style for nodes representing non-parameter data channels in workflow */\n",
    "node[shape=box style=\"rounded,filled\" fillcolor=\"#FFFFCC\" peripheries=1 fontname=Helvetica]\n",
    "\n",
    "/* Nodes for non-parameter data channels in workflow */\n",
    "\"\"\"\n",
    "#\"col12_0-date\" [shape=record rankdir=LR label=\"{<f0> date_0 }\"]\n",
    "\n",
    "column_schema_nodes = \"\"\"\n",
    "/* Style for nodes representing non-parameter data channels in workflow */\n",
    "node[shape=box style=\"rounded,filled,dashed\" fillcolor=\"#FFFFCC\" peripheries=1 fontname=Helvetica]\n",
    "\"\"\"\n",
    "\n",
    "parameters_nodes = \"\"\"\n",
    "/* Style for nodes representing parameter channels in workflow */\n",
    "node[shape=box style=\"rounded,filled,dashed\" fillcolor=\"#FCFCFC\" peripheries=1 fontname=Helvetica]\n",
    "\n",
    "/* Nodes representing parameter channels in workflow */\n",
    "\"\"\"\n",
    "\n",
    "parameters_dqproblem = \"\"\"\n",
    "/* Style for nodes representing parameter channels in workflow */\n",
    "node[shape=box style=\"rounded,filled,dashed\" fillcolor=\"#FCFCFC\" peripheries=1 fontname=Helvetica]\n",
    "\n",
    "/* Nodes representing parameter channels in workflow */\n",
    "\"\"\"\n",
    "\n",
    "\n",
    "edges = \"\"\"\n",
    "/* Edges representing connections between programs and channels */\n",
    "\"\"\"\n",
    "#\"col12_0-date\" -> state_4\n",
    "\n",
    "\n",
    "footer = \"\"\"\n",
    "\n",
    "/* End of top-level graph */\n",
    "}\n",
    "\"\"\"\n",
    "\n",
    "# process nodes\n",
    "for p in df_output_str[(\"process\",2)]:\n",
    "    freq_pattern_nodes+='''\n",
    "    \"{pid}\" [shape=record rankdir=LR label=\"{{<f0> {pid} ({process_name}) }}\"];\n",
    "    '''.format(pid=p[1],process_name=p[2])\n",
    "\n",
    "# schema nodes\n",
    "for cs in df_output_str[(\"column_schema\",3)]:    \n",
    "    column_schema_nodes+=\"\"\"\n",
    "    \"{node_name}\" [shape=record rankdir=LR label=\"{{<f0> {label} }}\"]\n",
    "    \"\"\".format(node_name=cs[1],label=cs[1])\n",
    "    parameters_nodes+=\"\"\"\n",
    "    \"{node_name}\" [shape=record rankdir=LR label=\"{{<f0> {label} }}\"]\n",
    "    \"\"\".format(node_name=cs[1]+\"_\"+cs[2],label=cs[3])\n",
    "    edges+=\"\"\"\n",
    "        {input} -> {output} [label=\"{data}\" weight=14 color=\"#b26e37\" tooltip=\"\" labeltooltip=\"\"]    \n",
    "    \"\"\".format(input=cs[1],output=cs[1]+\"_\"+cs[2],data=cs[2])   \n",
    "\n",
    "# edge input output\n",
    "for inp in df_output_str[(\"input_process\",3)]:                    \n",
    "    edges+=\"\"\"\n",
    "        {input} -> {output} [label=\"{data}\" weight=14 color=\"#b26e37\" tooltip=\"\" labeltooltip=\"\"]    \n",
    "    \"\"\".format(input=inp[3],output=inp[1],data=\"\")            \n",
    "\n",
    "for out in df_output_str[(\"output_process\",3)]:                    \n",
    "    edges+=\"\"\"\n",
    "        {input} -> {output} [label=\"{data}\" weight=14 color=\"#b26e37\" tooltip=\"\" labeltooltip=\"\"]    \n",
    "    \"\"\".format(input=out[1],output=out[3],data=\"\")            \n",
    "\n",
    "\n",
    "node_col = set()\n",
    "node_step = set()\n",
    "node_edges = set()\n",
    "\n",
    "cl_sc_map = {}\n",
    "for cl in df_output_str[(\"column\",4)]:\n",
    "    cl_sc_map[cl[1]] = cl[3]\n",
    "\n",
    "for s,fn in zip(df_output_str[(\"workflow_step\",4)],df_output[(\"workflow_step\",4)]):\n",
    "    if s[2] not in node_col:\n",
    "        cl = fn.arguments[1].arguments[0].name\n",
    "        column_nodes+=\"\"\"\n",
    "        \"{node_name}\" [shape=record rankdir=LR label=\"{{<f0> {label} ({schema}) }}\"]\n",
    "        \"\"\".format(node_name=s[2],label=s[2],schema=column_schema[cl])\n",
    "        node_col.add(s[2])\n",
    "        \n",
    "        #print(fn.)\n",
    "        edges+=\"\"\"\n",
    "            \"{input}\" -> \"{output}\" [label=\"{data}\" weight=14 color=\"#b26e37\" tooltip=\"\" labeltooltip=\"\" style=\"dashed\"]    \n",
    "        \"\"\".format(input=s[2],output=cl_sc_map[fn.arguments[1].arguments[0].name],data=\"associatedWith\")\n",
    "        node_edges.add(s[2]+\"_\"+cl_sc_map[fn.arguments[1].arguments[0].name])\n",
    "        \n",
    "        # add dq_problem parameter\n",
    "        if s[2] in accumulated_dq:\n",
    "            for nn in accumulated_dq[s[2]]:\n",
    "                #print(nn)\n",
    "                parameters_dqproblem+=\"\"\"\n",
    "                \"{node_name}\" [shape=record rankdir=LR label=\"{{<f0> {label} }}\"]\n",
    "                \"\"\".format(node_name=s[2]+\"_\"+nn,label=nn)\n",
    "                edges+=\"\"\"\n",
    "                \"{input}\" -> \"{output}\" [label=\"{data}\" weight=14 color=\"#ccccff\" tooltip=\"\" labeltooltip=\"\"]    \n",
    "                \"\"\".format(input=s[2]+\"_\"+nn,output=s[2],data=\"dq\")\n",
    "        \n",
    "        \n",
    "    if s[4] not in node_col:\n",
    "        cl = fn.arguments[3].arguments[0].name\n",
    "        column_nodes+=\"\"\"\n",
    "        \"{node_name}\" [shape=record rankdir=LR label=\"{{<f0> {label} ({schema}) }}\"]\n",
    "        \"\"\".format(node_name=s[4],label=s[4],schema=column_schema[cl])\n",
    "        node_col.add(s[4])\n",
    "        \n",
    "        edges+=\"\"\"\n",
    "            \"{input}\" -> \"{output}\" [label=\"{data}\" weight=14 color=\"#b26e37\" tooltip=\"\" labeltooltip=\"\" style=\"dashed\"]    \n",
    "        \"\"\".format(input=s[4],output=cl_sc_map[fn.arguments[3].arguments[0].name],data=\"associatedWith\")\n",
    "        node_edges.add(s[4]+\"_\"+cl_sc_map[fn.arguments[3].arguments[0].name])\n",
    "        \n",
    "        if s[4] in accumulated_dq:\n",
    "            for nn in accumulated_dq[s[4]]:\n",
    "                #print(nn)\n",
    "                parameters_dqproblem+=\"\"\"\n",
    "                \"{node_name}\" [shape=record rankdir=LR label=\"{{<f0> {label} }}\"]\n",
    "                \"\"\".format(node_name=s[4]+\"_\"+nn,label=nn)\n",
    "                edges+=\"\"\"\n",
    "                \"{input}\" -> \"{output}\" [label=\"{data}\" weight=14 color=\"#ccccff\" tooltip=\"\" labeltooltip=\"\"]    \n",
    "                \"\"\".format(input=s[4]+\"_\"+nn,output=s[4],data=\"dq\")\n",
    "        \n",
    "        \n",
    "        \n",
    "        \n",
    "    if s[1]+\"_\"+s[3] not in node_step:\n",
    "        #print(s[1],s[3]) \n",
    "        if (s[1],s[3]) in workflow_input_violation:\n",
    "            #print(\"violation\")\n",
    "            process_violation+='''\n",
    "            \"{pid}\" [shape=record rankdir=LR label=\"{{<f0> step {step_id} ({process_name}) }}\"];\n",
    "            '''.format(pid=s[1]+\"_\"+s[3],step_id=s[1],process_name=s[3]+\"-\"+process_name[s[3]])\n",
    "            node_step.add(s[1]+\"_\"+s[3])\n",
    "            \n",
    "            # missing parameter\n",
    "            missing_param = workflow_input_violation[(s[1],s[3])]\n",
    "            edges+=\"\"\"\n",
    "            \"{input}\" -> \"{output}\" [label=\"{data}\" weight=14 color=\"#ff0000\" tooltip=\"\" labeltooltip=\"\"]    \n",
    "            \"\"\".format(output=s[1]+\"_\"+s[3],input=missing_param[0]+\"_\"+missing_param[1],data=\"\",color=color)\n",
    "            node_edges.add(s[1]+\"_\"+s[3]+\"_\"+missing_param[0]+\"_\"+missing_param[1])\n",
    "        else:\n",
    "            # get common process name            \n",
    "            \n",
    "            single_process+='''\n",
    "            \"{pid}\" [shape=record rankdir=LR label=\"{{<f0> step {step_id} ({process_name}) }}\"];\n",
    "            '''.format(pid=s[1]+\"_\"+s[3],step_id=s[1],process_name=s[3]+\"-\"+process_name[s[3]])\n",
    "            node_step.add(s[1]+\"_\"+s[3])\n",
    "\n",
    "        if (s[1],s[3]) in workflow_output_violation:\n",
    "            # missing parameter\n",
    "            missing_param = workflow_output_violation[(s[1],s[3])]\n",
    "            edges+=\"\"\"\n",
    "            \"{input}\" -> \"{output}\" [label=\"{data}\" weight=14 color=\"#ff0000\" tooltip=\"\" labeltooltip=\"\"]    \n",
    "            \"\"\".format(input=s[1]+\"_\"+s[3],output=missing_param[0]+\"_\"+missing_param[1],data=\"\",color=color)\n",
    "            node_edges.add(s[1]+\"_\"+s[3]+\"_\"+missing_param[0]+\"_\"+missing_param[1])\n",
    "                                    \n",
    "        edges+=\"\"\"\n",
    "        \"{input}\" -> \"{output}\" [label=\"{data}\" weight=14 color=\"#b26e37\" tooltip=\"\" labeltooltip=\"\" style=\"dashed\"]    \n",
    "        \"\"\".format(input=s[1]+\"_\"+s[3],output=s[3],data=\"associatedWith\")\n",
    "        node_edges.add(s[1]+\"_\"+s[3]+\"_\"+s[3])\n",
    "    \n",
    "    if s[2]+\"_\"+s[1]+\"_\"+s[3] not in node_edges:\n",
    "        # check if it is an input violation error\n",
    "        #print(s[2],s[3])\n",
    "        if (s[2],s[1],s[3]) in workflow_input_violation:\n",
    "            color = \"#ff0000\"\n",
    "        else:\n",
    "            color = \"#b26e37\"\n",
    "        \n",
    "        edges+=\"\"\"\n",
    "            \"{input}\" -> \"{output}\" [label=\"{data}\" weight=14 color=\"{color}\" tooltip=\"\" labeltooltip=\"\"]    \n",
    "        \"\"\".format(input=s[2],output=s[1]+\"_\"+s[3],data=\"\",color=color)\n",
    "        node_edges.add(s[2]+\"_\"+s[1]+\"_\"+s[3])\n",
    "    \n",
    "    if s[1]+\"_\"+s[3]+\"_\"+s[4] not in node_edges:\n",
    "        edges+=\"\"\"\n",
    "            \"{input}\" -> \"{output}\" [label=\"{data}\" weight=14 color=\"#b26e37\" tooltip=\"\" labeltooltip=\"\"]    \n",
    "        \"\"\".format(input=s[1]+\"_\"+s[3],output=s[4],data=\"\") \n",
    "        node_edges.add(s[1]+\"_\"+s[3]+\"_\"+s[4])\n",
    "            \n",
    "            \n",
    "            \n",
    "#gv_string = header+single_process+column_nodes+parameters_nodes+side_b_process+side_a_data+side_b_data+freq_pattern_nodes+edges+footer\n",
    "\n",
    "gv_string = header+sub_graph_workflow_step+ \\\n",
    "    single_process+process_violation+column_nodes+parameters_dqproblem+end_sub_graph_workflow_step+ \\\n",
    "    sub_graph_process+parameters_nodes+side_b_process+side_a_data+side_b_data+ \\\n",
    "    column_schema_nodes+freq_pattern_nodes+end_sub_graph_process+edges+footer\n"
   ]
  },
  {
   "cell_type": "code",
   "execution_count": 63,
   "id": "475fe821",
   "metadata": {},
   "outputs": [
    {
     "name": "stdout",
     "output_type": "stream",
     "text": [
      "\n",
      "/* Start of top-level graph */\n",
      "digraph Workflow {\n",
      "rankdir=TB\n",
      "\n",
      "\n",
      "subgraph cluster_0 { label=\"workflow_step\"; color=\"green\";\n",
      "\n",
      "/* Style for nodes representing atomic programs in workflow */\n",
      "node[shape=box style=filled fillcolor=\"#CCFFCC\" peripheries=1 fontname=Helvetica]\n",
      "\n",
      "/* Nodes representing atomic programs in workflow */\n",
      "\n",
      "            \"1_p1\" [shape=record rankdir=LR label=\"{<f0> step 1 (p1-lower_case) }\"];\n",
      "            \n",
      "            \"2_p2\" [shape=record rankdir=LR label=\"{<f0> step 2 (p2-lemmatize_char) }\"];\n",
      "            \n",
      "/* Style for violation of process because of missing parameter  */\n",
      "node[shape=box style=filled fillcolor=\"#FFCCCC\" peripheries=1 fontname=Helvetica]\n",
      "\n",
      "/* Nodes representing atomic programs in workflow */\n",
      "\n",
      "/* Style for nodes representing non-parameter data channels in workflow */\n",
      "node[shape=box style=\"rounded,filled\" fillcolor=\"#FFFFCC\" peripheries=1 fontname=Helvetica]\n",
      "\n",
      "/* Nodes for non-parameter data channels in workflow */\n",
      "\n",
      "        \"column_state(c1,1)\" [shape=record rankdir=LR label=\"{<f0> column_state(c1,1) (cs1) }\"]\n",
      "        \n",
      "        \"column_state(c1,2)\" [shape=record rankdir=LR label=\"{<f0> column_state(c1,2) (cs1) }\"]\n",
      "        \n",
      "        \"column_state(c1,3)\" [shape=record rankdir=LR label=\"{<f0> column_state(c1,3) (cs1) }\"]\n",
      "        \n",
      "/* Style for nodes representing parameter channels in workflow */\n",
      "node[shape=box style=\"rounded,filled,dashed\" fillcolor=\"#FCFCFC\" peripheries=1 fontname=Helvetica]\n",
      "\n",
      "/* Nodes representing parameter channels in workflow */\n",
      "\n",
      "                \"column_state(c1,1)_lower_case\" [shape=record rankdir=LR label=\"{<f0> lower_case }\"]\n",
      "                \n",
      "                \"column_state(c1,1)_lemmatize_char\" [shape=record rankdir=LR label=\"{<f0> lemmatize_char }\"]\n",
      "                \n",
      "                \"column_state(c1,2)_lemmatize_char\" [shape=record rankdir=LR label=\"{<f0> lemmatize_char }\"]\n",
      "                \n",
      "}\n",
      "\n",
      "subgraph cluster_1 { label=\"process_signature\"; color=\"blue\";\n",
      "\n",
      "/* Style for nodes representing parameter channels in workflow */\n",
      "node[shape=box style=\"rounded,filled,dashed\" fillcolor=\"#FCFCFC\" peripheries=1 fontname=Helvetica]\n",
      "\n",
      "/* Nodes representing parameter channels in workflow */\n",
      "\n",
      "    \"cs1_name\" [shape=record rankdir=LR label=\"{<f0> full_name }\"]\n",
      "    \n",
      "    \"cs1_data_type\" [shape=record rankdir=LR label=\"{<f0> text }\"]\n",
      "    \n",
      "node[shape=box style=filled fillcolor=\"#CCCCFF\" peripheries=1 fontname=Helvetica]\n",
      "\n",
      "node[shape=box style=\"rounded,filled\" fillcolor=\"#CCFFFF\" peripheries=1 fontname=Helvetica]\n",
      "\n",
      "node[shape=box style=\"rounded,filled\" fillcolor=\"#FFDDDD\" peripheries=1 fontname=Helvetica]\n",
      "\n",
      "/* Style for nodes representing non-parameter data channels in workflow */\n",
      "node[shape=box style=\"rounded,filled,dashed\" fillcolor=\"#FFFFCC\" peripheries=1 fontname=Helvetica]\n",
      "\n",
      "    \"cs1\" [shape=record rankdir=LR label=\"{<f0> cs1 }\"]\n",
      "    \n",
      "    \"cs1\" [shape=record rankdir=LR label=\"{<f0> cs1 }\"]\n",
      "    \n",
      "node[shape=box style=filled fillcolor=\"#CCFFFF\" peripheries=1 fontname=Helvetica]\n",
      "\n",
      "    \"p1\" [shape=record rankdir=LR label=\"{<f0> p1 (lower_case) }\"];\n",
      "    \n",
      "    \"p2\" [shape=record rankdir=LR label=\"{<f0> p2 (lemmatize_char) }\"];\n",
      "    \n",
      "}\n",
      "\n",
      "/* Edges representing connections between programs and channels */\n",
      "\n",
      "        cs1 -> cs1_name [label=\"name\" weight=14 color=\"#b26e37\" tooltip=\"\" labeltooltip=\"\"]    \n",
      "    \n",
      "        cs1 -> cs1_data_type [label=\"data_type\" weight=14 color=\"#b26e37\" tooltip=\"\" labeltooltip=\"\"]    \n",
      "    \n",
      "        cs1 -> p1 [label=\"\" weight=14 color=\"#b26e37\" tooltip=\"\" labeltooltip=\"\"]    \n",
      "    \n",
      "        cs1 -> p2 [label=\"\" weight=14 color=\"#b26e37\" tooltip=\"\" labeltooltip=\"\"]    \n",
      "    \n",
      "        p1 -> cs1 [label=\"\" weight=14 color=\"#b26e37\" tooltip=\"\" labeltooltip=\"\"]    \n",
      "    \n",
      "        p2 -> cs1 [label=\"\" weight=14 color=\"#b26e37\" tooltip=\"\" labeltooltip=\"\"]    \n",
      "    \n",
      "            \"column_state(c1,1)\" -> \"cs1\" [label=\"associatedWith\" weight=14 color=\"#b26e37\" tooltip=\"\" labeltooltip=\"\" style=\"dashed\"]    \n",
      "        \n",
      "                \"column_state(c1,1)_lower_case\" -> \"column_state(c1,1)\" [label=\"dq\" weight=14 color=\"#ccccff\" tooltip=\"\" labeltooltip=\"\"]    \n",
      "                \n",
      "                \"column_state(c1,1)_lemmatize_char\" -> \"column_state(c1,1)\" [label=\"dq\" weight=14 color=\"#ccccff\" tooltip=\"\" labeltooltip=\"\"]    \n",
      "                \n",
      "            \"column_state(c1,2)\" -> \"cs1\" [label=\"associatedWith\" weight=14 color=\"#b26e37\" tooltip=\"\" labeltooltip=\"\" style=\"dashed\"]    \n",
      "        \n",
      "                \"column_state(c1,2)_lemmatize_char\" -> \"column_state(c1,2)\" [label=\"dq\" weight=14 color=\"#ccccff\" tooltip=\"\" labeltooltip=\"\"]    \n",
      "                \n",
      "        \"1_p1\" -> \"p1\" [label=\"associatedWith\" weight=14 color=\"#b26e37\" tooltip=\"\" labeltooltip=\"\" style=\"dashed\"]    \n",
      "        \n",
      "            \"column_state(c1,1)\" -> \"1_p1\" [label=\"\" weight=14 color=\"#b26e37\" tooltip=\"\" labeltooltip=\"\"]    \n",
      "        \n",
      "            \"1_p1\" -> \"column_state(c1,2)\" [label=\"\" weight=14 color=\"#b26e37\" tooltip=\"\" labeltooltip=\"\"]    \n",
      "        \n",
      "            \"column_state(c1,3)\" -> \"cs1\" [label=\"associatedWith\" weight=14 color=\"#b26e37\" tooltip=\"\" labeltooltip=\"\" style=\"dashed\"]    \n",
      "        \n",
      "        \"2_p2\" -> \"p2\" [label=\"associatedWith\" weight=14 color=\"#b26e37\" tooltip=\"\" labeltooltip=\"\" style=\"dashed\"]    \n",
      "        \n",
      "            \"column_state(c1,2)\" -> \"2_p2\" [label=\"\" weight=14 color=\"#b26e37\" tooltip=\"\" labeltooltip=\"\"]    \n",
      "        \n",
      "            \"2_p2\" -> \"column_state(c1,3)\" [label=\"\" weight=14 color=\"#b26e37\" tooltip=\"\" labeltooltip=\"\"]    \n",
      "        \n",
      "\n",
      "/* End of top-level graph */\n",
      "}\n",
      "\n"
     ]
    }
   ],
   "source": [
    "print(gv_string)"
   ]
  },
  {
   "cell_type": "code",
   "execution_count": 64,
   "id": "a5b79aa1",
   "metadata": {},
   "outputs": [
    {
     "data": {
      "image/png": "[encoded data removed]",
      "text/plain": [
       "<IPython.core.display.Image object>"
      ]
     },
     "execution_count": 64,
     "metadata": {},
     "output_type": "execute_result"
    }
   ],
   "source": [
    "generate_pdf(gv_string,\"workflow_step_violation\")"
   ]
  },
  {
   "cell_type": "code",
   "execution_count": null,
   "id": "eddc74d8",
   "metadata": {},
   "outputs": [],
   "source": [
    "# https://dreampuf.github.io/GraphvizOnline/#%0A%2F*%20Start%20of%20top-level%20graph%20*%2F%0Adigraph%20Workflow%20%7B%0Arankdir%3DLR%0A%0A%0Asubgraph%20cluster_0%20%7B%20label%3D%22workflow_step%22%3B%20color%3D%22green%22%3B%0A%0A%2F*%20Style%20for%20nodes%20representing%20atomic%20programs%20in%20workflow%20*%2F%0Anode%5Bshape%3Dbox%20style%3Dfilled%20fillcolor%3D%22%23CCFFCC%22%20peripheries%3D1%20fontname%3DHelvetica%5D%0A%0A%2F*%20Nodes%20representing%20atomic%20programs%20in%20workflow%20*%2F%0A%0A%20%20%20%20%20%20%20%20%20%20%20%20%221_p1%22%20%5Bshape%3Drecord%20rankdir%3DLR%20label%3D%22%7B%3Cf0%3E%20step%201%20(p1-lower_case)%20%7D%22%5D%3B%0A%20%20%20%20%20%20%20%20%20%20%20%20%0A%20%20%20%20%20%20%20%20%20%20%20%20%222_p2%22%20%5Bshape%3Drecord%20rankdir%3DLR%20label%3D%22%7B%3Cf0%3E%20step%202%20(p2-lemmatize_char)%20%7D%22%5D%3B%0A%20%20%20%20%20%20%20%20%20%20%20%20%0A%2F*%20Style%20for%20violation%20of%20process%20because%20of%20missing%20parameter%20%20*%2F%0Anode%5Bshape%3Dbox%20style%3Dfilled%20fillcolor%3D%22%23FFCCCC%22%20peripheries%3D1%20fontname%3DHelvetica%5D%0A%0A%2F*%20Nodes%20representing%20atomic%20programs%20in%20workflow%20*%2F%0A%0A%2F*%20Style%20for%20nodes%20representing%20non-parameter%20data%20channels%20in%20workflow%20*%2F%0Anode%5Bshape%3Dbox%20style%3D%22rounded%2Cfilled%22%20fillcolor%3D%22%23FFFFCC%22%20peripheries%3D1%20fontname%3DHelvetica%5D%0A%0A%2F*%20Nodes%20for%20non-parameter%20data%20channels%20in%20workflow%20*%2F%0A%0A%20%20%20%20%20%20%20%20%22column_state(c1%2C1)%22%20%5Bshape%3Drecord%20rankdir%3DLR%20label%3D%22%7B%3Cf0%3E%20column_state(c1%2C1)%20(cs1)%20%7D%22%5D%0A%20%20%20%20%20%20%20%20%0A%20%20%20%20%20%20%20%20%22column_state(c1%2C2)%22%20%5Bshape%3Drecord%20rankdir%3DLR%20label%3D%22%7B%3Cf0%3E%20column_state(c1%2C2)%20(cs1)%20%7D%22%5D%0A%20%20%20%20%20%20%20%20%0A%20%20%20%20%20%20%20%20%22column_state(c1%2C3)%22%20%5Bshape%3Drecord%20rankdir%3DLR%20label%3D%22%7B%3Cf0%3E%20column_state(c1%2C3)%20(cs1)%20%7D%22%5D%0A%20%20%20%20%20%20%20%20%0A%2F*%20Style%20for%20nodes%20representing%20parameter%20channels%20in%20workflow%20*%2F%0Anode%5Bshape%3Dbox%20style%3D%22rounded%2Cfilled%2Cdashed%22%20fillcolor%3D%22%23FCFCFC%22%20peripheries%3D1%20fontname%3DHelvetica%5D%0A%0A%2F*%20Nodes%20representing%20parameter%20channels%20in%20workflow%20*%2F%0A%0A%20%20%20%20%20%20%20%20%20%20%20%20%20%20%20%20%22column_state(c1%2C1)_lower_case%22%20%5Bshape%3Drecord%20rankdir%3DLR%20label%3D%22%7B%3Cf0%3E%20lower_case%20%7D%22%5D%0A%20%20%20%20%20%20%20%20%20%20%20%20%20%20%20%20%0A%20%20%20%20%20%20%20%20%20%20%20%20%20%20%20%20%22column_state(c1%2C1)_lemmatize_char%22%20%5Bshape%3Drecord%20rankdir%3DLR%20label%3D%22%7B%3Cf0%3E%20lemmatize_char%20%7D%22%5D%0A%20%20%20%20%20%20%20%20%20%20%20%20%20%20%20%20%0A%20%20%20%20%20%20%20%20%20%20%20%20%20%20%20%20%22column_state(c1%2C2)_lemmatize_char%22%20%5Bshape%3Drecord%20rankdir%3DLR%20label%3D%22%7B%3Cf0%3E%20lemmatize_char%20%7D%22%5D%0A%20%20%20%20%20%20%20%20%20%20%20%20%20%20%20%20%0A%7D%0A%0Asubgraph%20cluster_1%20%7B%20label%3D%22process_lower_case%22%3B%20color%3D%22blue%22%3B%0A%0A%2F*%20Style%20for%20nodes%20representing%20parameter%20channels%20in%20workflow%20*%2F%0Anode%5Bshape%3Dbox%20style%3D%22rounded%2Cfilled%2Cdashed%22%20fillcolor%3D%22%23FCFCFC%22%20peripheries%3D1%20fontname%3DHelvetica%5D%0A%0A%2F*%20Nodes%20representing%20parameter%20channels%20in%20workflow%20*%2F%0A%0A%0A%20%20%20%20%0Anode%5Bshape%3Dbox%20style%3Dfilled%20fillcolor%3D%22%23CCCCFF%22%20peripheries%3D1%20fontname%3DHelvetica%5D%0A%0Anode%5Bshape%3Dbox%20style%3D%22rounded%2Cfilled%22%20fillcolor%3D%22%23CCFFFF%22%20peripheries%3D1%20fontname%3DHelvetica%5D%0A%0Anode%5Bshape%3Dbox%20style%3D%22rounded%2Cfilled%22%20fillcolor%3D%22%23FFDDDD%22%20peripheries%3D1%20fontname%3DHelvetica%5D%0A%0A%2F*%20Style%20for%20nodes%20representing%20non-parameter%20data%20channels%20in%20workflow%20*%2F%0Anode%5Bshape%3Dbox%20style%3D%22rounded%2Cfilled%2Cdashed%22%20fillcolor%3D%22%23FFFFCC%22%20peripheries%3D1%20fontname%3DHelvetica%5D%0A%0A%0A%20%20%20%20%22cs1_lower_case%22%20%5Bshape%3Drecord%20rankdir%3DLR%20label%3D%22%7B%3Cf0%3E%20cs1%20%7D%22%5D%0A%20%20%20%20%0A%20%20%20%20%22cs1_lower_case_min%22%20%5Bshape%3Drecord%20rankdir%3DLR%20label%3D%22%7B%3Cf0%3E%20cs1%20%7D%22%5D%0A%20%20%20%20%0A%20%20%20%20%0Anode%5Bshape%3Dbox%20style%3Dfilled%20fillcolor%3D%22%23CCFFFF%22%20peripheries%3D1%20fontname%3DHelvetica%5D%0A%0A%20%20%20%20%22p1%22%20%5Bshape%3Drecord%20rankdir%3DLR%20label%3D%22%7B%3Cf0%3E%20p1%20(lower_case)%20%7D%22%5D%3B%0A%20%20%20%20%0A%20%20%20%20%0A%7D%0A%0Asubgraph%20cluster_2%20%7B%20label%3D%22process_lem_char%22%3B%20color%3D%22blue%22%3B%0A%0A%2F*%20Style%20for%20nodes%20representing%20parameter%20channels%20in%20workflow%20*%2F%0Anode%5Bshape%3Dbox%20style%3D%22rounded%2Cfilled%2Cdashed%22%20fillcolor%3D%22%23FCFCFC%22%20peripheries%3D1%20fontname%3DHelvetica%5D%0A%0A%2F*%20Nodes%20representing%20parameter%20channels%20in%20workflow%20*%2F%0A%0A%0A%20%20%20%20%0Anode%5Bshape%3Dbox%20style%3Dfilled%20fillcolor%3D%22%23CCCCFF%22%20peripheries%3D1%20fontname%3DHelvetica%5D%0A%0Anode%5Bshape%3Dbox%20style%3D%22rounded%2Cfilled%22%20fillcolor%3D%22%23CCFFFF%22%20peripheries%3D1%20fontname%3DHelvetica%5D%0A%0Anode%5Bshape%3Dbox%20style%3D%22rounded%2Cfilled%22%20fillcolor%3D%22%23FFDDDD%22%20peripheries%3D1%20fontname%3DHelvetica%5D%0A%0A%2F*%20Style%20for%20nodes%20representing%20non-parameter%20data%20channels%20in%20workflow%20*%2F%0Anode%5Bshape%3Dbox%20style%3D%22rounded%2Cfilled%2Cdashed%22%20fillcolor%3D%22%23FFFFCC%22%20peripheries%3D1%20fontname%3DHelvetica%5D%0A%0A%20%20%20%20%22cs1_lem_char%22%20%5Bshape%3Drecord%20rankdir%3DLR%20label%3D%22%7B%3Cf0%3E%20cs1%20%7D%22%5D%0A%0A%20%20%20%20%22cs1_lem_char_min%22%20%5Bshape%3Drecord%20rankdir%3DLR%20label%3D%22%7B%3Cf0%3E%20cs1%20%7D%22%5D%0A%0A%20%20%20%20%0Anode%5Bshape%3Dbox%20style%3Dfilled%20fillcolor%3D%22%23CCFFFF%22%20peripheries%3D1%20fontname%3DHelvetica%5D%0A%0A%0A%20%20%20%20%22p2%22%20%5Bshape%3Drecord%20rankdir%3DLR%20label%3D%22%7B%3Cf0%3E%20p2%20(lemmatize_char)%20%7D%22%5D%3B%0A%20%20%20%20%0A%7D%0A%0A%0A%0A%2F*%20Edges%20representing%20connections%20between%20programs%20and%20channels%20*%2F%0A%0A%0A%20%20%20%20%20%20%20%20cs1_lower_case%20-%3E%20p1%20%5Blabel%3D%22%22%20weight%3D14%20color%3D%22%23b26e37%22%20tooltip%3D%22%22%20labeltooltip%3D%22%22%5D%20%20%20%20%0A%20%20%20%20%0A%20%20%20%20%20%20%20%20cs1_lem_char%20-%3E%20p2%20%5Blabel%3D%22%22%20weight%3D14%20color%3D%22%23b26e37%22%20tooltip%3D%22%22%20labeltooltip%3D%22%22%5D%20%20%20%20%0A%20%20%20%20%0A%20%20%20%20%20%20%20%20p1%20-%3E%20cs1_lower_case_min%20%5Blabel%3D%22%22%20weight%3D14%20color%3D%22%23b26e37%22%20tooltip%3D%22%22%20labeltooltip%3D%22%22%5D%20%20%20%20%0A%20%20%20%20%0A%20%20%20%20%20%20%20%20p2%20-%3E%20cs1_lem_char_min%20%5Blabel%3D%22%22%20weight%3D14%20color%3D%22%23b26e37%22%20tooltip%3D%22%22%20labeltooltip%3D%22%22%5D%20%20%20%20%0A%20%20%20%20%0A%20%20%20%20%20%20%20%20%20%20%20%20%22column_state(c1%2C1)%22%20-%3E%20%22cs1_lower_case%22%20%5Blabel%3D%22associatedWith%22%20weight%3D14%20color%3D%22%23b26e37%22%20tooltip%3D%22%22%20labeltooltip%3D%22%22%20style%3D%22dashed%22%5D%20%20%20%20%0A%20%20%20%20%20%20%20%20%0A%20%20%20%20%20%20%20%20%20%20%20%20%20%20%20%20%22column_state(c1%2C1)_lower_case%22%20-%3E%20%22column_state(c1%2C1)%22%20%5Blabel%3D%22dq%22%20weight%3D14%20color%3D%22%23ccccff%22%20tooltip%3D%22%22%20labeltooltip%3D%22%22%5D%20%20%20%20%0A%20%20%20%20%20%20%20%20%20%20%20%20%20%20%20%20%0A%20%20%20%20%20%20%20%20%20%20%20%20%20%20%20%20%22column_state(c1%2C1)_lemmatize_char%22%20-%3E%20%22column_state(c1%2C1)%22%20%5Blabel%3D%22dq%22%20weight%3D14%20color%3D%22%23ccccff%22%20tooltip%3D%22%22%20labeltooltip%3D%22%22%5D%20%20%20%20%0A%20%20%20%20%20%20%20%20%20%20%20%20%20%20%20%20%0A%20%20%20%20%20%20%20%20%20%20%20%20%22column_state(c1%2C2)%22%20-%3E%20%22cs1_lower_case_min%22%20%5Blabel%3D%22associatedWith%22%20weight%3D14%20color%3D%22%23b26e37%22%20tooltip%3D%22%22%20labeltooltip%3D%22%22%20style%3D%22dashed%22%5D%20%20%20%20%0A%20%20%20%20%20%20%20%20%20%20%20%0A%20%20%20%20%20%20%20%20%20%20%20%20%22column_state(c1%2C2)%22%20-%3E%20%22cs1_lem_char%22%20%5Blabel%3D%22associatedWith%22%20weight%3D14%20color%3D%22%23b26e37%22%20tooltip%3D%22%22%20labeltooltip%3D%22%22%20style%3D%22dashed%22%5D%20%20%20%20%0A%0A%20%20%20%20%20%20%20%20%20%20%20%20%20%20%20%20%22column_state(c1%2C2)_lemmatize_char%22%20-%3E%20%22column_state(c1%2C2)%22%20%5Blabel%3D%22dq%22%20weight%3D14%20color%3D%22%23ccccff%22%20tooltip%3D%22%22%20labeltooltip%3D%22%22%5D%20%20%20%20%0A%20%20%20%20%20%20%20%20%20%20%20%20%20%20%20%20%0A%20%20%20%20%20%20%20%20%221_p1%22%20-%3E%20%22p1%22%20%5Blabel%3D%22associatedWith%22%20weight%3D14%20color%3D%22%23b26e37%22%20tooltip%3D%22%22%20labeltooltip%3D%22%22%20style%3D%22dashed%22%5D%20%20%20%20%0A%20%20%20%20%20%20%20%20%0A%20%20%20%20%20%20%20%20%20%20%20%20%22column_state(c1%2C1)%22%20-%3E%20%221_p1%22%20%5Blabel%3D%22%22%20weight%3D14%20color%3D%22%23b26e37%22%20tooltip%3D%22%22%20labeltooltip%3D%22%22%5D%20%20%20%20%0A%20%20%20%20%20%20%20%20%0A%20%20%20%20%20%20%20%20%20%20%20%20%221_p1%22%20-%3E%20%22column_state(c1%2C2)%22%20%5Blabel%3D%22%22%20weight%3D14%20color%3D%22%23b26e37%22%20tooltip%3D%22%22%20labeltooltip%3D%22%22%5D%20%20%20%20%0A%20%20%20%20%20%20%20%20%0A%20%20%20%20%20%20%20%20%20%20%20%20%22column_state(c1%2C3)%22%20-%3E%20%22cs1_lem_char_min%22%20%5Blabel%3D%22associatedWith%22%20weight%3D14%20color%3D%22%23b26e37%22%20tooltip%3D%22%22%20labeltooltip%3D%22%22%20style%3D%22dashed%22%5D%20%20%20%20%0A%20%20%20%20%20%20%20%20%0A%20%20%20%20%20%20%20%20%222_p2%22%20-%3E%20%22p2%22%20%5Blabel%3D%22associatedWith%22%20weight%3D14%20color%3D%22%23b26e37%22%20tooltip%3D%22%22%20labeltooltip%3D%22%22%20style%3D%22dashed%22%5D%20%20%20%20%0A%20%20%20%20%20%20%20%20%0A%20%20%20%20%20%20%20%20%20%20%20%20%22column_state(c1%2C2)%22%20-%3E%20%222_p2%22%20%5Blabel%3D%22%22%20weight%3D14%20color%3D%22%23b26e37%22%20tooltip%3D%22%22%20labeltooltip%3D%22%22%5D%20%20%20%20%0A%20%20%20%20%20%20%20%20%0A%20%20%20%20%20%20%20%20%20%20%20%20%222_p2%22%20-%3E%20%22column_state(c1%2C3)%22%20%5Blabel%3D%22%22%20weight%3D14%20color%3D%22%23b26e37%22%20tooltip%3D%22%22%20labeltooltip%3D%22%22%5D%20%20%20%20%0A%20%20%20%20%20%20%20%20%0A%0A%0A%20%20%20%20%2F%2F%7Brank%20%3D%20same%3B%20%22column_state(c1%2C1)%22%20%3B%20cs1_lower_case%3B%7D%0A%0A%0A%0A%0A%2F*%20End%20of%20top-level%20graph%20*%2F%0A%7D%0A%0A\n",
    "\n",
    "# https://dreampuf.github.io/GraphvizOnline/#%0A%2F*%20Start%20of%20top-level%20graph%20*%2F%0Adigraph%20Workflow%20%7B%0Arankdir%3DLR%0A%0A%0Asubgraph%20cluster_0%20%7B%20label%3D%22workflow_step%22%3B%20color%3D%22green%22%3B%0A%0A%2F*%20Style%20for%20nodes%20representing%20atomic%20programs%20in%20workflow%20*%2F%0Anode%5Bshape%3Dbox%20style%3Dfilled%20fillcolor%3D%22%23CCFFCC%22%20peripheries%3D1%20fontname%3DHelvetica%5D%0A%0A%2F*%20Nodes%20representing%20atomic%20programs%20in%20workflow%20*%2F%0A%0A%20%20%20%20%20%20%20%20%20%20%20%20%221_p1%22%20%5Bshape%3Dbox%20rankdir%3DLR%20label%3D%22step%201%20(p1-lower_case)%22%5D%3B%0A%20%20%20%20%20%20%20%20%20%20%20%20%0A%20%20%20%20%20%20%20%20%20%20%20%20%222_p2%22%20%5Bshape%3Dbox%20rankdir%3DLR%20label%3D%22step%202%20(p2-lemmatize_char)%22%5D%3B%0A%20%20%20%20%20%20%20%20%20%20%20%20%0A%2F*%20Style%20for%20violation%20of%20process%20because%20of%20missing%20parameter%20%20*%2F%0Anode%5Bshape%3Dbox%20style%3Dfilled%20fillcolor%3D%22%23FFCCCC%22%20peripheries%3D1%20fontname%3DHelvetica%5D%0A%0A%2F*%20Nodes%20representing%20atomic%20programs%20in%20workflow%20*%2F%0A%0A%2F*%20Style%20for%20nodes%20representing%20non-parameter%20data%20channels%20in%20workflow%20*%2F%0Anode%5Bshape%3Dbox%20style%3D%22rounded%2Cfilled%22%20fillcolor%3D%22%23FFFFCC%22%20peripheries%3D1%20fontname%3DHelvetica%5D%0A%0A%2F*%20Nodes%20for%20non-parameter%20data%20channels%20in%20workflow%20*%2F%0A%0A%20%20%20%20%20%20%20%20%22column_state(c1%2C1)%22%20%5Bshape%3Dbox%20rankdir%3DLR%20label%3D%22column_state(c1%2C1)%20(cs1)%22%5D%0A%20%20%20%20%20%20%20%20%0A%20%20%20%20%20%20%20%20%22column_state(c1%2C2)%22%20%5Bshape%3Dbox%20rankdir%3DLR%20label%3D%22column_state(c1%2C2)%20(cs1)%22%5D%0A%20%20%20%20%20%20%20%20%0A%20%20%20%20%20%20%20%20%22column_state(c1%2C3)%22%20%5Bshape%3Dbox%20rankdir%3DLR%20label%3D%22column_state(c1%2C3)%20(cs1)%22%5D%0A%20%20%20%20%20%20%20%20%0A%2F*%20Style%20for%20nodes%20representing%20parameter%20channels%20in%20workflow%20*%2F%0Anode%5Bshape%3Dbox%20style%3D%22rounded%2Cfilled%2Cdashed%22%20fillcolor%3D%22%23FCFCFC%22%20peripheries%3D1%20fontname%3DHelvetica%5D%0A%0A%2F*%20Nodes%20representing%20parameter%20channels%20in%20workflow%20*%2F%0A%0A%20%20%20%20%20%20%20%20%20%20%20%20%20%20%20%20%22column_state(c1%2C1)_lower_case%22%20%5Bshape%3Dbox%20rankdir%3DLR%20label%3D%22lower_case%22%5D%0A%20%20%20%20%20%20%20%20%20%20%20%20%20%20%20%20%0A%20%20%20%20%20%20%20%20%20%20%20%20%20%20%20%20%22column_state(c1%2C1)_lemmatize_char%22%20%5Bshape%3Dbox%20rankdir%3DLR%20label%3D%22lemmatize_char%22%5D%0A%20%20%20%20%20%20%20%20%20%20%20%20%20%20%20%20%0A%20%20%20%20%20%20%20%20%20%20%20%20%20%20%20%20%22column_state(c1%2C2)_lemmatize_char%22%20%5Bshape%3Dbox%20rankdir%3DLR%20label%3D%22lemmatize_char%22%5D%0A%20%20%20%20%0A%20%20%20%20%20%20%20%20%20%20%20%20%20%20%20%20%22lower_case_cs1%22%20%5Bshape%3Dbox%20rankdir%3DLR%20label%3D%22lower_case%22%5D%0A%20%20%20%20%20%20%20%20%20%20%20%20%20%20%20%20%0A%20%20%20%20%20%20%20%20%20%20%20%20%20%20%20%20%22lematize_char_cs2%22%20%5Bshape%3Dbox%20rankdir%3DLR%20label%3D%22lemmatize_char%22%5D%0A%20%20%20%20%20%20%20%20%20%20%20%20%20%20%20%20%0A%7D%0A%0Asubgraph%20cluster_1%20%7B%20label%3D%22process_lower_case%22%3B%20color%3D%22blue%22%3B%0A%0A%2F*%20Style%20for%20nodes%20representing%20parameter%20channels%20in%20workflow%20*%2F%0Anode%5Bshape%3Dbox%20style%3D%22rounded%2Cfilled%2Cdashed%22%20fillcolor%3D%22%23FCFCFC%22%20peripheries%3D1%20fontname%3DHelvetica%5D%0A%0A%2F*%20Nodes%20representing%20parameter%20channels%20in%20workflow%20*%2F%0A%0A%0A%20%20%20%20%0Anode%5Bshape%3Dbox%20style%3Dfilled%20fillcolor%3D%22%23CCCCFF%22%20peripheries%3D1%20fontname%3DHelvetica%5D%0A%0Anode%5Bshape%3Dbox%20style%3D%22rounded%2Cfilled%22%20fillcolor%3D%22%23CCFFFF%22%20peripheries%3D1%20fontname%3DHelvetica%5D%0A%0Anode%5Bshape%3Dbox%20style%3D%22rounded%2Cfilled%22%20fillcolor%3D%22%23FFDDDD%22%20peripheries%3D1%20fontname%3DHelvetica%5D%0A%0A%2F*%20Style%20for%20nodes%20representing%20non-parameter%20data%20channels%20in%20workflow%20*%2F%0Anode%5Bshape%3Dbox%20style%3D%22rounded%2Cfilled%2Cdashed%22%20fillcolor%3D%22%23FFFFCC%22%20peripheries%3D1%20fontname%3DHelvetica%5D%0A%0A%0A%20%20%20%20%22cs1_lower_case%22%20%5Bshape%3Dbox%20rankdir%3DLR%20label%3D%22cs1%22%5D%0A%20%20%20%20%0A%20%20%20%20%22cs1_lower_case_min%22%20%5Bshape%3Dbox%20rankdir%3DLR%20label%3D%22cs1%22%5D%0A%20%20%20%20%0A%20%20%20%20%0A%20%20%20%20%0A%20%20%20%20%0Anode%5Bshape%3Dbox%20style%3Dfilled%20fillcolor%3D%22%23CCFFFF%22%20peripheries%3D1%20fontname%3DHelvetica%5D%0A%0A%20%20%20%20%22p1%22%20%5Bshape%3Dbox%20rankdir%3DLR%20label%3D%22p1%20(lower_case)%22%5D%3B%0A%20%20%20%20%0A%20%20%20%20%0A%7D%0A%0Asubgraph%20cluster_2%20%7B%20label%3D%22process_lem_char%22%3B%20color%3D%22blue%22%3B%0A%0A%2F*%20Style%20for%20nodes%20representing%20parameter%20channels%20in%20workflow%20*%2F%0Anode%5Bshape%3Dbox%20style%3D%22rounded%2Cfilled%2Cdashed%22%20fillcolor%3D%22%23FCFCFC%22%20peripheries%3D1%20fontname%3DHelvetica%5D%0A%0A%2F*%20Nodes%20representing%20parameter%20channels%20in%20workflow%20*%2F%0A%0A%0A%20%20%20%20%0Anode%5Bshape%3Dbox%20style%3Dfilled%20fillcolor%3D%22%23CCCCFF%22%20peripheries%3D1%20fontname%3DHelvetica%5D%0A%0Anode%5Bshape%3Dbox%20style%3D%22rounded%2Cfilled%22%20fillcolor%3D%22%23CCFFFF%22%20peripheries%3D1%20fontname%3DHelvetica%5D%0A%0Anode%5Bshape%3Dbox%20style%3D%22rounded%2Cfilled%22%20fillcolor%3D%22%23FFDDDD%22%20peripheries%3D1%20fontname%3DHelvetica%5D%0A%0A%2F*%20Style%20for%20nodes%20representing%20non-parameter%20data%20channels%20in%20workflow%20*%2F%0Anode%5Bshape%3Dbox%20style%3D%22rounded%2Cfilled%2Cdashed%22%20fillcolor%3D%22%23FFFFCC%22%20peripheries%3D1%20fontname%3DHelvetica%5D%0A%0A%20%20%20%20%22cs1_lem_char%22%20%5Bshape%3Dbox%20rankdir%3DLR%20label%3D%22cs1%22%5D%0A%0A%20%20%20%20%22cs1_lem_char_min%22%20%5Bshape%3Dbox%20rankdir%3DLR%20label%3D%22cs1%22%5D%0A%0A%20%20%20%20%0Anode%5Bshape%3Dbox%20style%3Dfilled%20fillcolor%3D%22%23CCFFFF%22%20peripheries%3D1%20fontname%3DHelvetica%5D%0A%0A%0A%20%20%20%20%22p2%22%20%5Bshape%3Dbox%20rankdir%3DLR%20label%3D%22p2%20(lemmatize_char)%22%5D%3B%0A%20%20%20%20%0A%7D%0A%0A%0A%0A%2F*%20Edges%20representing%20connections%20between%20programs%20and%20channels%20*%2F%0A%0A%0A%20%20%20%20%20%20%20%20cs1_lower_case%20-%3E%20p1%20%5Blabel%3D%22%22%20weight%3D14%20color%3D%22%23b26e37%22%20tooltip%3D%22%22%20labeltooltip%3D%22%22%5D%20%20%20%20%0A%20%20%20%20%0A%20%20%20%20%20%20%20%20cs1_lem_char%20-%3E%20p2%20%5Blabel%3D%22%22%20weight%3D14%20color%3D%22%23b26e37%22%20tooltip%3D%22%22%20labeltooltip%3D%22%22%5D%20%20%20%20%0A%20%20%20%20%0A%20%20%20%20%20%20%20%20p1%20-%3E%20cs1_lower_case_min%20%5Blabel%3D%22%22%20weight%3D14%20color%3D%22%23b26e37%22%20tooltip%3D%22%22%20labeltooltip%3D%22%22%5D%20%20%20%20%0A%20%20%20%20%0A%20%20%20%20%20%20%20%20p2%20-%3E%20cs1_lem_char_min%20%5Blabel%3D%22%22%20weight%3D14%20color%3D%22%23b26e37%22%20tooltip%3D%22%22%20labeltooltip%3D%22%22%5D%20%20%20%20%0A%20%20%20%20%0A%20%20%20%20%20%20%20%20%20%20%20%20%22column_state(c1%2C1)%22%20-%3E%20%22cs1_lower_case%22%20%5Blabel%3D%22associatedWith%22%20weight%3D14%20color%3D%22%23b26e37%22%20tooltip%3D%22%22%20labeltooltip%3D%22%22%20style%3D%22dashed%22%5D%20%20%20%20%0A%20%20%20%20%20%20%20%20%0A%20%20%20%20%20%20%20%20%20%20%20%20%20%20%20%20%22column_state(c1%2C1)_lower_case%22%20-%3E%20%22column_state(c1%2C1)%22%20%5Blabel%3D%22dq%22%20weight%3D14%20color%3D%22%23ccccff%22%20tooltip%3D%22%22%20labeltooltip%3D%22%22%5D%20%20%20%20%0A%20%20%20%20%20%20%20%20%20%20%20%20%20%20%20%20%0A%20%20%20%20%20%20%20%20%20%20%20%20%20%20%20%20%22column_state(c1%2C1)_lemmatize_char%22%20-%3E%20%22column_state(c1%2C1)%22%20%5Blabel%3D%22dq%22%20weight%3D14%20color%3D%22%23ccccff%22%20tooltip%3D%22%22%20labeltooltip%3D%22%22%5D%20%20%20%20%0A%20%20%20%20%20%20%20%20%20%20%20%20%20%20%20%20%0A%20%20%20%20%20%20%20%20%20%20%20%20%22column_state(c1%2C2)%22%20-%3E%20%22cs1_lower_case_min%22%20%5Blabel%3D%22associatedWith%22%20weight%3D14%20color%3D%22%23b26e37%22%20tooltip%3D%22%22%20labeltooltip%3D%22%22%20style%3D%22dashed%22%5D%20%20%20%20%0A%20%20%20%20%20%20%20%20%20%20%20%0A%20%20%20%20%20%20%20%20%20%20%20%20%22column_state(c1%2C2)%22%20-%3E%20%22cs1_lem_char%22%20%5Blabel%3D%22associatedWith%22%20weight%3D14%20color%3D%22%23b26e37%22%20tooltip%3D%22%22%20labeltooltip%3D%22%22%20style%3D%22dashed%22%5D%20%20%20%20%0A%0A%20%20%20%20%20%20%20%20%20%20%20%20%20%20%20%20%22column_state(c1%2C2)_lemmatize_char%22%20-%3E%20%22column_state(c1%2C2)%22%20%5Blabel%3D%22dq%22%20weight%3D14%20color%3D%22%23ccccff%22%20tooltip%3D%22%22%20labeltooltip%3D%22%22%5D%20%20%20%20%0A%20%20%20%20%20%20%20%20%20%20%20%20%20%20%20%20%0A%20%20%20%20%20%20%20%20%221_p1%22%20-%3E%20%22p1%22%20%5Blabel%3D%22associatedWith%22%20weight%3D14%20color%3D%22%23b26e37%22%20tooltip%3D%22%22%20labeltooltip%3D%22%22%20style%3D%22dashed%22%5D%20%20%20%20%0A%20%20%20%20%20%20%20%20%0A%20%20%20%20%20%20%20%20%20%20%20%20%22column_state(c1%2C1)%22%20-%3E%20%221_p1%22%20%5Blabel%3D%22%22%20weight%3D14%20color%3D%22%23b26e37%22%20tooltip%3D%22%22%20labeltooltip%3D%22%22%5D%20%20%20%20%0A%20%20%20%20%20%20%20%20%0A%20%20%20%20%20%20%20%20%20%20%20%20%221_p1%22%20-%3E%20%22column_state(c1%2C2)%22%20%5Blabel%3D%22%22%20weight%3D14%20color%3D%22%23b26e37%22%20tooltip%3D%22%22%20labeltooltip%3D%22%22%5D%20%20%20%20%0A%20%20%20%20%20%20%20%20%0A%20%20%20%20%20%20%20%20%20%20%20%20%22column_state(c1%2C3)%22%20-%3E%20%22cs1_lem_char_min%22%20%5Blabel%3D%22associatedWith%22%20weight%3D14%20color%3D%22%23b26e37%22%20tooltip%3D%22%22%20labeltooltip%3D%22%22%20style%3D%22dashed%22%5D%20%20%20%20%0A%20%20%20%20%20%20%20%20%0A%20%20%20%20%20%20%20%20%222_p2%22%20-%3E%20%22p2%22%20%5Blabel%3D%22associatedWith%22%20weight%3D14%20color%3D%22%23b26e37%22%20tooltip%3D%22%22%20labeltooltip%3D%22%22%20style%3D%22dashed%22%5D%20%20%20%20%0A%20%20%20%20%20%20%20%20%0A%20%20%20%20%20%20%20%20%20%20%20%20%22column_state(c1%2C2)%22%20-%3E%20%222_p2%22%20%5Blabel%3D%22%22%20weight%3D14%20color%3D%22%23b26e37%22%20tooltip%3D%22%22%20labeltooltip%3D%22%22%5D%20%20%20%20%0A%20%20%20%20%20%20%20%20%0A%20%20%20%20%20%20%20%20%20%20%20%20%222_p2%22%20-%3E%20%22column_state(c1%2C3)%22%20%5Blabel%3D%22%22%20weight%3D14%20color%3D%22%23b26e37%22%20tooltip%3D%22%22%20labeltooltip%3D%22%22%5D%20%20%20%20%0A%20%20%20%20%20%20%20%20%0A%20%20%20%20%20%20%20%20%22lower_case_cs1%22%20-%3E%20%22cs1_lower_case%22%20%5Blabel%3D%22dq%22%20weight%3D14%20color%3D%22%23b26e37%22%20tooltip%3D%22%22%20labeltooltip%3D%22%22%20style%3D%22dashed%22%5D%20%0A%20%20%20%20%20%20%20%20%0A%20%20%20%20%20%20%20%20%22lematize_char_cs2%22%20-%3E%20%22cs1_lem_char%22%20%5Blabel%3D%22dq%22%20weight%3D14%20color%3D%22%23b26e37%22%20tooltip%3D%22%22%20labeltooltip%3D%22%22%20style%3D%22dashed%22%5D%20%0A%0A%0A%20%20%20%20%7Brank%20%3D%20same%3B%20%22column_state(c1%2C1)%22%3B%20%22cs1_lower_case%22%3B%20%22column_state(c1%2C1)_lemmatize_char%22%3B%20%22column_state(c1%2C1)_lower_case%22%2C%20%22lower_case_cs1%22%7D%0A%20%20%20%20%0A%20%20%20%20%7Brank%20%3D%20same%3B%20p1%3B%20%221_p1%22%3B%7D%0A%0A%20%20%20%20%7Brank%20%3D%20same%3B%20%22column_state(c1%2C2)%22%3B%20%22cs1_lower_case_min%22%3B%20%22lematize_char_cs2%22%7D%0A%20%20%20%20%0A%20%20%20%20%7Brank%20%3D%20same%3B%20p2%3B%20%222_p2%22%3B%7D%0A%20%20%20%20%0A%20%20%20%20%7Brank%20%3D%20same%3B%20%22column_state(c1%2C2)%22%3B%20%22cs1_lem_char%22%3B%22column_state(c1%2C2)_lemmatize_char%22%7D%0A%20%20%20%20%0A%20%20%20%20%7Brank%20%3D%20same%3B%20%22column_state(c1%2C3)%22%3B%20%22cs1_lem_char_min%22%3B%7D%20%20%20%20%0A%0A%0A%0A%0A%2F*%20End%20of%20top-level%20graph%20*%2F%0A%7D%0A%0A\n",
    "\n",
    "# https://dreampuf.github.io/GraphvizOnline/#%0A%2F*%20Start%20of%20top-level%20graph%20*%2F%0Adigraph%20Workflow%20%7B%0Arankdir%3DLR%0A%0A%0A%2F*%20Style%20for%20nodes%20representing%20atomic%20programs%20in%20workflow%20*%2F%0Anode%5Bshape%3Dbox%20style%3Dfilled%20fillcolor%3D%22%23CCFFCC%22%20peripheries%3D1%20fontname%3DHelvetica%5D%0A%0A%2F*%20Nodes%20representing%20atomic%20programs%20in%20workflow%20*%2F%0A%0A%20%20%20%20%20%20%20%20%20%20%20%20%221_p1%22%20%5Bshape%3Dbox%20rankdir%3DLR%20label%3D%22step%201%20(p1-lower_case)%22%5D%3B%0A%20%20%20%20%20%20%20%20%20%20%20%20%0A%20%20%20%20%20%20%20%20%20%20%20%20%222_p2%22%20%5Bshape%3Dbox%20rankdir%3DLR%20label%3D%22step%202%20(p2-lemmatize_char)%22%5D%3B%0A%20%20%20%20%20%20%20%20%20%20%20%20%0A%2F*%20Style%20for%20violation%20of%20process%20because%20of%20missing%20parameter%20%20*%2F%0Anode%5Bshape%3Dbox%20style%3Dfilled%20fillcolor%3D%22%23FFCCCC%22%20peripheries%3D1%20fontname%3DHelvetica%5D%0A%0A%2F*%20Nodes%20representing%20atomic%20programs%20in%20workflow%20*%2F%0A%0A%2F*%20Style%20for%20nodes%20representing%20non-parameter%20data%20channels%20in%20workflow%20*%2F%0Anode%5Bshape%3Dbox%20style%3D%22rounded%2Cfilled%22%20fillcolor%3D%22%23FFFFCC%22%20peripheries%3D1%20fontname%3DHelvetica%5D%0A%0A%2F*%20Nodes%20for%20non-parameter%20data%20channels%20in%20workflow%20*%2F%0A%0A%20%20%20%20%20%20%20%20%22column_state(c1%2C1)%22%20%5Bshape%3Dbox%20rankdir%3DLR%20label%3D%22column_state(c1%2C1)%20(cs1)%22%5D%0A%20%20%20%20%20%20%20%20%0A%20%20%20%20%20%20%20%20%22column_state(c1%2C2)%22%20%5Bshape%3Dbox%20rankdir%3DLR%20label%3D%22column_state(c1%2C2)%20(cs1)%22%5D%0A%20%20%20%20%20%20%20%20%0A%20%20%20%20%20%20%20%20%22column_state(c1%2C3)%22%20%5Bshape%3Dbox%20rankdir%3DLR%20label%3D%22column_state(c1%2C3)%20(cs1)%22%5D%0A%20%20%20%20%20%20%20%20%0A%2F*%20Style%20for%20nodes%20representing%20parameter%20channels%20in%20workflow%20*%2F%0Anode%5Bshape%3Dbox%20style%3D%22rounded%2Cfilled%2Cdashed%22%20fillcolor%3D%22%23FCFCFC%22%20peripheries%3D1%20fontname%3DHelvetica%5D%0A%0A%2F*%20Nodes%20representing%20parameter%20channels%20in%20workflow%20*%2F%0A%0A%20%20%20%20%20%20%20%20%20%20%20%20%20%20%20%20%22column_state(c1%2C1)_lower_case%22%20%5Bshape%3Dbox%20rankdir%3DLR%20label%3D%22lower_case%22%5D%0A%20%20%20%20%20%20%20%20%20%20%20%20%20%20%20%20%0A%20%20%20%20%20%20%20%20%20%20%20%20%20%20%20%20%22column_state(c1%2C1)_lemmatize_char%22%20%5Bshape%3Dbox%20rankdir%3DLR%20label%3D%22lemmatize_char%22%5D%0A%20%20%20%20%20%20%20%20%20%20%20%20%20%20%20%20%0A%20%20%20%20%20%20%20%20%20%20%20%20%20%20%20%20%22column_state(c1%2C2)_lemmatize_char%22%20%5Bshape%3Dbox%20rankdir%3DLR%20label%3D%22lemmatize_char%22%5D%0A%20%20%20%20%0A%20%20%20%20%20%20%20%20%20%20%20%20%20%20%20%20%22lower_case_cs1%22%20%5Bshape%3Dbox%20rankdir%3DLR%20label%3D%22lower_case%22%5D%0A%20%20%20%20%20%20%20%20%20%20%20%20%20%20%20%20%0A%20%20%20%20%20%20%20%20%20%20%20%20%20%20%20%20%22lematize_char_cs2%22%20%5Bshape%3Dbox%20rankdir%3DLR%20label%3D%22lemmatize_char%22%5D%0A%20%20%20%20%20%20%20%20%20%20%20%20%20%20%20%20%0A%0A%0A%2F*%20Style%20for%20nodes%20representing%20parameter%20channels%20in%20workflow%20*%2F%0Anode%5Bshape%3Dbox%20style%3D%22rounded%2Cfilled%2Cdashed%22%20fillcolor%3D%22%23FCFCFC%22%20peripheries%3D1%20fontname%3DHelvetica%5D%0A%0A%2F*%20Nodes%20representing%20parameter%20channels%20in%20workflow%20*%2F%0A%0A%0A%20%20%20%20%0Anode%5Bshape%3Dbox%20style%3Dfilled%20fillcolor%3D%22%23CCCCFF%22%20peripheries%3D1%20fontname%3DHelvetica%5D%0A%0Anode%5Bshape%3Dbox%20style%3D%22rounded%2Cfilled%22%20fillcolor%3D%22%23CCFFFF%22%20peripheries%3D1%20fontname%3DHelvetica%5D%0A%0Anode%5Bshape%3Dbox%20style%3D%22rounded%2Cfilled%22%20fillcolor%3D%22%23FFDDDD%22%20peripheries%3D1%20fontname%3DHelvetica%5D%0A%0A%2F*%20Style%20for%20nodes%20representing%20non-parameter%20data%20channels%20in%20workflow%20*%2F%0Anode%5Bshape%3Dbox%20style%3D%22rounded%2Cfilled%2Cdashed%22%20fillcolor%3D%22%23FFFFCC%22%20peripheries%3D1%20fontname%3DHelvetica%5D%0A%0A%0A%20%20%20%20%22cs1_lower_case%22%20%5Bshape%3Dbox%20rankdir%3DLR%20label%3D%22cs1%22%5D%0A%20%20%20%20%0A%20%20%20%20%22cs1_lower_case_min%22%20%5Bshape%3Dbox%20rankdir%3DLR%20label%3D%22cs1%22%5D%0A%20%20%20%20%0A%20%20%20%20%0A%20%20%20%20%0A%20%20%20%20%0Anode%5Bshape%3Dbox%20style%3Dfilled%20fillcolor%3D%22%23CCFFFF%22%20peripheries%3D1%20fontname%3DHelvetica%5D%0A%0A%20%20%20%20%22p1%22%20%5Bshape%3Dbox%20rankdir%3DLR%20label%3D%22p1%20(lower_case)%22%5D%3B%0A%20%20%20%20%0A%20%20%20%20%0A%0A%2F*%20Style%20for%20nodes%20representing%20parameter%20channels%20in%20workflow%20*%2F%0Anode%5Bshape%3Dbox%20style%3D%22rounded%2Cfilled%2Cdashed%22%20fillcolor%3D%22%23FCFCFC%22%20peripheries%3D1%20fontname%3DHelvetica%5D%0A%0A%2F*%20Nodes%20representing%20parameter%20channels%20in%20workflow%20*%2F%0A%0A%0A%20%20%20%20%0Anode%5Bshape%3Dbox%20style%3Dfilled%20fillcolor%3D%22%23CCCCFF%22%20peripheries%3D1%20fontname%3DHelvetica%5D%0A%0Anode%5Bshape%3Dbox%20style%3D%22rounded%2Cfilled%22%20fillcolor%3D%22%23CCFFFF%22%20peripheries%3D1%20fontname%3DHelvetica%5D%0A%0Anode%5Bshape%3Dbox%20style%3D%22rounded%2Cfilled%22%20fillcolor%3D%22%23FFDDDD%22%20peripheries%3D1%20fontname%3DHelvetica%5D%0A%0A%2F*%20Style%20for%20nodes%20representing%20non-parameter%20data%20channels%20in%20workflow%20*%2F%0Anode%5Bshape%3Dbox%20style%3D%22rounded%2Cfilled%2Cdashed%22%20fillcolor%3D%22%23FFFFCC%22%20peripheries%3D1%20fontname%3DHelvetica%5D%0A%0A%20%20%20%20%22cs1_lem_char%22%20%5Bshape%3Dbox%20rankdir%3DLR%20label%3D%22cs1%22%5D%0A%0A%20%20%20%20%22cs1_lem_char_min%22%20%5Bshape%3Dbox%20rankdir%3DLR%20label%3D%22cs1%22%5D%0A%0A%20%20%20%20%0Anode%5Bshape%3Dbox%20style%3Dfilled%20fillcolor%3D%22%23CCFFFF%22%20peripheries%3D1%20fontname%3DHelvetica%5D%0A%0A%0A%20%20%20%20%22p2%22%20%5Bshape%3Dbox%20rankdir%3DLR%20label%3D%22p2%20(lemmatize_char)%22%5D%3B%0A%20%20%20%20%0A%0A%0A%0A%0A%2F*%20Edges%20representing%20connections%20between%20programs%20and%20channels%20*%2F%0A%0A%0A%20%20%20%20%20%20%20%20cs1_lower_case%20-%3E%20p1%20%5Blabel%3D%22%22%20weight%3D14%20color%3D%22%23b26e37%22%20tooltip%3D%22%22%20labeltooltip%3D%22%22%5D%20%20%20%20%0A%20%20%20%20%0A%20%20%20%20%20%20%20%20cs1_lem_char%20-%3E%20p2%20%5Blabel%3D%22%22%20weight%3D14%20color%3D%22%23b26e37%22%20tooltip%3D%22%22%20labeltooltip%3D%22%22%5D%20%20%20%20%0A%20%20%20%20%0A%20%20%20%20%20%20%20%20p1%20-%3E%20cs1_lower_case_min%20%5Blabel%3D%22%22%20weight%3D14%20color%3D%22%23b26e37%22%20tooltip%3D%22%22%20labeltooltip%3D%22%22%5D%20%20%20%20%0A%20%20%20%20%0A%20%20%20%20%20%20%20%20p2%20-%3E%20cs1_lem_char_min%20%5Blabel%3D%22%22%20weight%3D14%20color%3D%22%23b26e37%22%20tooltip%3D%22%22%20labeltooltip%3D%22%22%5D%20%20%20%20%0A%20%20%20%20%0A%20%20%20%20%20%20%20%20%20%20%20%20%22column_state(c1%2C1)%22%20-%3E%20%22cs1_lower_case%22%20%5Blabel%3D%22associatedWith%22%20weight%3D14%20color%3D%22%23b26e37%22%20tooltip%3D%22%22%20labeltooltip%3D%22%22%20style%3D%22dashed%22%5D%20%20%20%20%0A%20%20%20%20%20%20%20%20%0A%20%20%20%20%20%20%20%20%20%20%20%20%20%20%20%20%22column_state(c1%2C1)_lower_case%22%20-%3E%20%22column_state(c1%2C1)%22%20%5Blabel%3D%22dq%22%20weight%3D14%20color%3D%22%23ccccff%22%20tooltip%3D%22%22%20labeltooltip%3D%22%22%5D%20%20%20%20%0A%20%20%20%20%20%20%20%20%20%20%20%20%20%20%20%20%0A%20%20%20%20%20%20%20%20%20%20%20%20%20%20%20%20%22column_state(c1%2C1)_lemmatize_char%22%20-%3E%20%22column_state(c1%2C1)%22%20%5Blabel%3D%22dq%22%20weight%3D14%20color%3D%22%23ccccff%22%20tooltip%3D%22%22%20labeltooltip%3D%22%22%5D%20%20%20%20%0A%20%20%20%20%20%20%20%20%20%20%20%20%20%20%20%20%0A%20%20%20%20%20%20%20%20%20%20%20%20%22column_state(c1%2C2)%22%20-%3E%20%22cs1_lower_case_min%22%20%5Blabel%3D%22associatedWith%22%20weight%3D14%20color%3D%22%23b26e37%22%20tooltip%3D%22%22%20labeltooltip%3D%22%22%20style%3D%22dashed%22%5D%20%20%20%20%0A%20%20%20%20%20%20%20%20%20%20%20%0A%20%20%20%20%20%20%20%20%20%20%20%20%22column_state(c1%2C2)%22%20-%3E%20%22cs1_lem_char%22%20%5Blabel%3D%22associatedWith%22%20weight%3D14%20color%3D%22%23b26e37%22%20tooltip%3D%22%22%20labeltooltip%3D%22%22%20style%3D%22dashed%22%5D%20%20%20%20%0A%0A%20%20%20%20%20%20%20%20%20%20%20%20%20%20%20%20%22column_state(c1%2C2)_lemmatize_char%22%20-%3E%20%22column_state(c1%2C2)%22%20%5Blabel%3D%22dq%22%20weight%3D14%20color%3D%22%23ccccff%22%20tooltip%3D%22%22%20labeltooltip%3D%22%22%5D%20%20%20%20%0A%20%20%20%20%20%20%20%20%20%20%20%20%20%20%20%20%0A%20%20%20%20%20%20%20%20%221_p1%22%20-%3E%20%22p1%22%20%5Blabel%3D%22associatedWith%22%20weight%3D14%20color%3D%22%23b26e37%22%20tooltip%3D%22%22%20labeltooltip%3D%22%22%20style%3D%22dashed%22%5D%20%20%20%20%0A%20%20%20%20%20%20%20%20%0A%20%20%20%20%20%20%20%20%20%20%20%20%22column_state(c1%2C1)%22%20-%3E%20%221_p1%22%20%5Blabel%3D%22%22%20weight%3D14%20color%3D%22%23b26e37%22%20tooltip%3D%22%22%20labeltooltip%3D%22%22%5D%20%20%20%20%0A%20%20%20%20%20%20%20%20%0A%20%20%20%20%20%20%20%20%20%20%20%20%221_p1%22%20-%3E%20%22column_state(c1%2C2)%22%20%5Blabel%3D%22%22%20weight%3D14%20color%3D%22%23b26e37%22%20tooltip%3D%22%22%20labeltooltip%3D%22%22%5D%20%20%20%20%0A%20%20%20%20%20%20%20%20%0A%20%20%20%20%20%20%20%20%20%20%20%20%22column_state(c1%2C3)%22%20-%3E%20%22cs1_lem_char_min%22%20%5Blabel%3D%22associatedWith%22%20weight%3D14%20color%3D%22%23b26e37%22%20tooltip%3D%22%22%20labeltooltip%3D%22%22%20style%3D%22dashed%22%5D%20%20%20%20%0A%20%20%20%20%20%20%20%20%0A%20%20%20%20%20%20%20%20%222_p2%22%20-%3E%20%22p2%22%20%5Blabel%3D%22associatedWith%22%20weight%3D14%20color%3D%22%23b26e37%22%20tooltip%3D%22%22%20labeltooltip%3D%22%22%20style%3D%22dashed%22%5D%20%20%20%20%0A%20%20%20%20%20%20%20%20%0A%20%20%20%20%20%20%20%20%20%20%20%20%22column_state(c1%2C2)%22%20-%3E%20%222_p2%22%20%5Blabel%3D%22%22%20weight%3D14%20color%3D%22%23b26e37%22%20tooltip%3D%22%22%20labeltooltip%3D%22%22%5D%20%20%20%20%0A%20%20%20%20%20%20%20%20%0A%20%20%20%20%20%20%20%20%20%20%20%20%222_p2%22%20-%3E%20%22column_state(c1%2C3)%22%20%5Blabel%3D%22%22%20weight%3D14%20color%3D%22%23b26e37%22%20tooltip%3D%22%22%20labeltooltip%3D%22%22%5D%20%20%20%20%0A%20%20%20%20%20%20%20%20%0A%20%20%20%20%20%20%20%20%22lower_case_cs1%22%20-%3E%20%22cs1_lower_case%22%20%5Blabel%3D%22dq%22%20weight%3D14%20color%3D%22%23b26e37%22%20tooltip%3D%22%22%20labeltooltip%3D%22%22%20style%3D%22dashed%22%5D%20%0A%20%20%20%20%20%20%20%20%0A%20%20%20%20%20%20%20%20%22lematize_char_cs2%22%20-%3E%20%22cs1_lem_char%22%20%5Blabel%3D%22dq%22%20weight%3D14%20color%3D%22%23b26e37%22%20tooltip%3D%22%22%20labeltooltip%3D%22%22%20style%3D%22dashed%22%5D%20%0A%0A%0A%20%20%20%20%7Brank%20%3D%20same%3B%20%22column_state(c1%2C1)%22%3B%20%22cs1_lower_case%22%3B%20%7D%0A%20%20%20%20%0A%20%20%20%20%7Brank%20%3D%20same%3B%20p1%3B%20%221_p1%22%3B%7D%0A%0A%20%20%20%20%7Brank%20%3D%20same%3B%20p2%3B%20%222_p2%22%3B%7D%0A%20%20%20%20%0A%20%20%20%20%7Brank%20%3D%20same%3B%20%22column_state(c1%2C2)%22%3B%20%20%22cs1_lower_case_min%22%3B%20%22cs1_lem_char%22%3B%22column_state(c1%2C2)_lemmatize_char%22%7D%0A%20%20%20%20%0A%20%20%20%20%7Brank%20%3D%20same%3B%20%22column_state(c1%2C3)%22%3B%20%22cs1_lem_char_min%22%3B%7D%20%20%20%20%0A%0A%0A%2F*%0A%22column_state(c1%2C1)_lemmatize_char%22%3B%20%22column_state(c1%2C1)_lower_case%22%2C%20%22lower_case_cs1%22%0A*%2F%0A%0A%2F*%20End%20of%20top-level%20graph%20*%2F%0A%7D%0A%0A\n",
    "\n",
    "# https://edotor.net/?engine=dot?engine=dot#%0A%2F*%20Start%20of%20top-level%20graph%20*%2F%0Adigraph%20Workflow%20%7B%0Arankdir%3DLR%0A%0A%0A%2F*%20Style%20for%20nodes%20representing%20atomic%20programs%20in%20workflow%20*%2F%0Anode%5Bshape%3Dbox%20style%3Dfilled%20fillcolor%3D%22%23CCFFCC%22%20peripheries%3D1%20fontname%3DHelvetica%5D%0A%0A%2F*%20Nodes%20representing%20atomic%20programs%20in%20workflow%20*%2F%0A%0A%20%20%20%20%20%20%20%20%20%20%20%20%221_p1%22%20%5Bshape%3Dbox%20rankdir%3DLR%20label%3D%22step%201%20(p1-lower_case)%22%5D%3B%0A%20%20%20%20%20%20%20%20%20%20%20%20%0A%20%20%20%20%20%20%20%20%20%20%20%20%222_p2%22%20%5Bshape%3Dbox%20rankdir%3DLR%20label%3D%22step%202%20(p2-lemmatize_char)%22%5D%3B%0A%20%20%20%20%20%20%20%20%20%20%20%20%0A%2F*%20Style%20for%20violation%20of%20process%20because%20of%20missing%20parameter%20%20*%2F%0Anode%5Bshape%3Dbox%20style%3Dfilled%20fillcolor%3D%22%23FFCCCC%22%20peripheries%3D1%20fontname%3DHelvetica%5D%0A%0A%2F*%20Nodes%20representing%20atomic%20programs%20in%20workflow%20*%2F%0A%0A%2F*%20Style%20for%20nodes%20representing%20non-parameter%20data%20channels%20in%20workflow%20*%2F%0Anode%5Bshape%3Dbox%20style%3D%22rounded%2Cfilled%22%20fillcolor%3D%22%23FFFFCC%22%20peripheries%3D1%20fontname%3DHelvetica%5D%0A%0A%2F*%20Nodes%20for%20non-parameter%20data%20channels%20in%20workflow%20*%2F%0A%0A%20%20%20%20%20%20%20%20%22column_state(c1%2C1)%22%20%5Bshape%3Dbox%20rankdir%3DLR%20label%3D%22col%20c1%401%22%5D%0A%20%20%20%20%20%20%20%20%0A%20%20%20%20%20%20%20%20%22column_state(c1%2C2)%22%20%5Bshape%3Dbox%20rankdir%3DLR%20label%3D%22col%20c1%402%22%5D%0A%20%20%20%20%20%20%20%20%0A%20%20%20%20%20%20%20%20%22column_state(c1%2C3)%22%20%5Bshape%3Dbox%20rankdir%3DLR%20label%3D%22col%20c1%403%22%5D%0A%20%20%20%20%20%20%20%20%0A%2F*%20Style%20for%20nodes%20representing%20parameter%20channels%20in%20workflow%20*%2F%0Anode%5Bshape%3Dbox%20style%3D%22rounded%2Cfilled%2Cdashed%22%20fillcolor%3D%22%23FCFCFC%22%20peripheries%3D1%20fontname%3DHelvetica%5D%0A%0A%2F*%20Nodes%20representing%20parameter%20channels%20in%20workflow%20*%2F%0A%0A%20%20%20%20%20%20%20%20%20%20%20%20%20%20%20%20%22column_state(c1%2C1)_lower_case%22%20%5Bshape%3Dbox%20rankdir%3DLR%20label%3D%22mixed_case%22%5D%0A%20%20%20%20%20%20%20%20%20%20%20%20%20%20%20%20%0A%20%20%20%20%20%20%20%20%20%20%20%20%20%20%20%20%22column_state(c1%2C1)_lemmatize_char%22%20%5Bshape%3Dbox%20rankdir%3DLR%20label%3D%22non-standardize%20words%22%5D%0A%20%20%20%20%20%20%20%20%20%20%20%20%20%20%20%20%0A%20%20%20%20%20%20%20%20%20%20%20%20%20%20%20%20%22column_state(c1%2C2)_lemmatize_char%22%20%5Bshape%3Dbox%20rankdir%3DLR%20label%3D%22non-standardize%20words%22%5D%0A%20%20%20%20%0A%20%20%20%20%20%20%20%20%20%20%20%20%20%20%20%20%22lower_case_cs1%22%20%5Bshape%3Dbox%20rankdir%3DLR%20label%3D%22mixed_case%22%5D%0A%20%20%20%20%20%20%20%20%20%20%20%20%20%20%20%20%0A%20%20%20%20%20%20%20%20%20%20%20%20%20%20%20%20%22lematize_char_cs2%22%20%5Bshape%3Dbox%20rankdir%3DLR%20label%3D%22non-standardize%20word%22%5D%0A%20%20%20%20%20%20%20%20%20%20%20%20%20%20%20%20%0A%0A%0A%2F*%20Style%20for%20nodes%20representing%20parameter%20channels%20in%20workflow%20*%2F%0Anode%5Bshape%3Dbox%20style%3D%22rounded%2Cfilled%2Cdashed%22%20fillcolor%3D%22%23FCFCFC%22%20peripheries%3D1%20fontname%3DHelvetica%5D%0A%0A%2F*%20Nodes%20representing%20parameter%20channels%20in%20workflow%20*%2F%0A%0A%0A%20%20%20%20%0Anode%5Bshape%3Dbox%20style%3Dfilled%20fillcolor%3D%22%23CCCCFF%22%20peripheries%3D1%20fontname%3DHelvetica%5D%0A%0Anode%5Bshape%3Dbox%20style%3D%22rounded%2Cfilled%22%20fillcolor%3D%22%23CCFFFF%22%20peripheries%3D1%20fontname%3DHelvetica%5D%0A%0Anode%5Bshape%3Dbox%20style%3D%22rounded%2Cfilled%22%20fillcolor%3D%22%23FFDDDD%22%20peripheries%3D1%20fontname%3DHelvetica%5D%0A%0A%2F*%20Style%20for%20nodes%20representing%20non-parameter%20data%20channels%20in%20workflow%20*%2F%0Anode%5Bshape%3Dbox%20style%3D%22rounded%2Cfilled%2Cdashed%22%20fillcolor%3D%22%23FFFFCC%22%20peripheries%3D1%20fontname%3DHelvetica%5D%0A%0A%0A%20%20%20%20%22cs1_lower_case%22%20%5Bshape%3Dbox%20rankdir%3DLR%20label%3D%22cs1%22%5D%0A%20%20%20%20%0A%20%20%20%20%22cs1_lower_case_min%22%20%5Bshape%3Dbox%20rankdir%3DLR%20label%3D%22cs1%22%5D%0A%20%20%20%20%0A%20%20%20%20%0A%20%20%20%20%0A%20%20%20%20%0Anode%5Bshape%3Dbox%20style%3Dfilled%20fillcolor%3D%22%23CCFFFF%22%20peripheries%3D1%20fontname%3DHelvetica%5D%0A%0A%20%20%20%20%22p1%22%20%5Bshape%3Dbox%20rankdir%3DLR%20label%3D%22p1%20(lower_case)%22%5D%3B%0A%20%20%20%20%0A%20%20%20%20%0A%0A%2F*%20Style%20for%20nodes%20representing%20parameter%20channels%20in%20workflow%20*%2F%0Anode%5Bshape%3Dbox%20style%3D%22rounded%2Cfilled%2Cdashed%22%20fillcolor%3D%22%23FCFCFC%22%20peripheries%3D1%20fontname%3DHelvetica%5D%0A%0A%2F*%20Nodes%20representing%20parameter%20channels%20in%20workflow%20*%2F%0A%0A%0A%20%20%20%20%0Anode%5Bshape%3Dbox%20style%3Dfilled%20fillcolor%3D%22%23CCCCFF%22%20peripheries%3D1%20fontname%3DHelvetica%5D%0A%0Anode%5Bshape%3Dbox%20style%3D%22rounded%2Cfilled%22%20fillcolor%3D%22%23CCFFFF%22%20peripheries%3D1%20fontname%3DHelvetica%5D%0A%0Anode%5Bshape%3Dbox%20style%3D%22rounded%2Cfilled%22%20fillcolor%3D%22%23FFDDDD%22%20peripheries%3D1%20fontname%3DHelvetica%5D%0A%0A%2F*%20Style%20for%20nodes%20representing%20non-parameter%20data%20channels%20in%20workflow%20*%2F%0Anode%5Bshape%3Dbox%20style%3D%22rounded%2Cfilled%2Cdashed%22%20fillcolor%3D%22%23FFFFCC%22%20peripheries%3D1%20fontname%3DHelvetica%5D%0A%0A%20%20%20%20%22cs1_lem_char%22%20%5Bshape%3Dbox%20rankdir%3DLR%20label%3D%22cs1%22%5D%0A%0A%20%20%20%20%22cs1_lem_char_min%22%20%5Bshape%3Dbox%20rankdir%3DLR%20label%3D%22cs1%22%5D%0A%0A%20%20%20%20%0Anode%5Bshape%3Dbox%20style%3Dfilled%20fillcolor%3D%22%23CCFFFF%22%20peripheries%3D1%20fontname%3DHelvetica%5D%0A%0A%0A%20%20%20%20%22p2%22%20%5Bshape%3Dbox%20rankdir%3DLR%20label%3D%22p2%20(lemmatize_char)%22%5D%3B%0A%20%20%20%20%0A%0A%0A%0A%0A%2F*%20Edges%20representing%20connections%20between%20programs%20and%20channels%20*%2F%0A%0A%0A%20%20%20%20%20%20%20%20cs1_lower_case%20-%3E%20p1%20%5Blabel%3D%22%22%20weight%3D14%20color%3D%22%23b26e37%22%20tooltip%3D%22%22%20labeltooltip%3D%22%22%5D%20%20%20%20%0A%20%20%20%20%0A%20%20%20%20%20%20%20%20cs1_lem_char%20-%3E%20p2%20%5Blabel%3D%22%22%20weight%3D14%20color%3D%22%23b26e37%22%20tooltip%3D%22%22%20labeltooltip%3D%22%22%5D%20%20%20%20%0A%20%20%20%20%0A%20%20%20%20%20%20%20%20p1%20-%3E%20cs1_lower_case_min%20%5Blabel%3D%22%22%20weight%3D14%20color%3D%22%23b26e37%22%20tooltip%3D%22%22%20labeltooltip%3D%22%22%5D%20%20%20%20%0A%20%20%20%20%0A%20%20%20%20%20%20%20%20p2%20-%3E%20cs1_lem_char_min%20%5Blabel%3D%22%22%20weight%3D14%20color%3D%22%23b26e37%22%20tooltip%3D%22%22%20labeltooltip%3D%22%22%5D%20%20%20%20%0A%20%20%20%20%0A%20%20%20%20%20%20%20%20%20%20%20%20%22column_state(c1%2C1)%22%20-%3E%20%22cs1_lower_case%22%20%5Blabel%3D%22associatedWith%22%20weight%3D14%20color%3D%22%23b26e37%22%20tooltip%3D%22%22%20labeltooltip%3D%22%22%20style%3D%22dashed%22%5D%20%20%20%20%0A%20%20%20%20%20%20%20%20%0A%20%20%20%20%20%20%20%20%20%20%20%20%20%20%20%20%22column_state(c1%2C1)_lower_case%22%20-%3E%20%22column_state(c1%2C1)%22%20%5Blabel%3D%22dq%22%20weight%3D14%20color%3D%22%23ccccff%22%20tooltip%3D%22%22%20labeltooltip%3D%22%22%5D%20%20%20%20%0A%20%20%20%20%20%20%20%20%20%20%20%20%20%20%20%20%0A%20%20%20%20%20%20%20%20%20%20%20%20%20%20%20%20%22column_state(c1%2C1)_lemmatize_char%22%20-%3E%20%22column_state(c1%2C1)%22%20%5Blabel%3D%22dq%22%20weight%3D14%20color%3D%22%23ccccff%22%20tooltip%3D%22%22%20labeltooltip%3D%22%22%5D%20%20%20%20%0A%20%20%20%20%20%20%20%20%20%20%20%20%20%20%20%20%0A%20%20%20%20%20%20%20%20%20%20%20%20%22column_state(c1%2C2)%22%20-%3E%20%22cs1_lower_case_min%22%20%5Blabel%3D%22associatedWith%22%20weight%3D14%20color%3D%22%23b26e37%22%20tooltip%3D%22%22%20labeltooltip%3D%22%22%20style%3D%22dashed%22%5D%20%20%20%20%0A%20%20%20%20%20%20%20%20%20%20%20%0A%20%20%20%20%20%20%20%20%20%20%20%20%22column_state(c1%2C2)%22%20-%3E%20%22cs1_lem_char%22%20%5Blabel%3D%22associatedWith%22%20weight%3D14%20color%3D%22%23b26e37%22%20tooltip%3D%22%22%20labeltooltip%3D%22%22%20style%3D%22dashed%22%5D%20%20%20%20%0A%0A%20%20%20%20%20%20%20%20%20%20%20%20%20%20%20%20%22column_state(c1%2C2)_lemmatize_char%22%20-%3E%20%22column_state(c1%2C2)%22%20%5Blabel%3D%22dq%22%20weight%3D14%20color%3D%22%23ccccff%22%20tooltip%3D%22%22%20labeltooltip%3D%22%22%5D%20%20%20%20%0A%20%20%20%20%20%20%20%20%20%20%20%20%20%20%20%20%0A%20%20%20%20%20%20%20%20%221_p1%22%20-%3E%20%22p1%22%20%5Blabel%3D%22associatedWith%22%20weight%3D14%20color%3D%22%23b26e37%22%20tooltip%3D%22%22%20labeltooltip%3D%22%22%20style%3D%22dashed%22%5D%20%20%20%20%0A%20%20%20%20%20%20%20%20%0A%20%20%20%20%20%20%20%20%20%20%20%20%22column_state(c1%2C1)%22%20-%3E%20%221_p1%22%20%5Blabel%3D%22%22%20weight%3D14%20color%3D%22%23b26e37%22%20tooltip%3D%22%22%20labeltooltip%3D%22%22%5D%20%20%20%20%0A%20%20%20%20%20%20%20%20%0A%20%20%20%20%20%20%20%20%20%20%20%20%221_p1%22%20-%3E%20%22column_state(c1%2C2)%22%20%5Blabel%3D%22%22%20weight%3D14%20color%3D%22%23b26e37%22%20tooltip%3D%22%22%20labeltooltip%3D%22%22%5D%20%20%20%20%0A%20%20%20%20%20%20%20%20%0A%20%20%20%20%20%20%20%20%20%20%20%20%22column_state(c1%2C3)%22%20-%3E%20%22cs1_lem_char_min%22%20%5Blabel%3D%22associatedWith%22%20weight%3D14%20color%3D%22%23b26e37%22%20tooltip%3D%22%22%20labeltooltip%3D%22%22%20style%3D%22dashed%22%5D%20%20%20%20%0A%20%20%20%20%20%20%20%20%0A%20%20%20%20%20%20%20%20%222_p2%22%20-%3E%20%22p2%22%20%5Blabel%3D%22associatedWith%22%20weight%3D14%20color%3D%22%23b26e37%22%20tooltip%3D%22%22%20labeltooltip%3D%22%22%20style%3D%22dashed%22%5D%20%20%20%20%0A%20%20%20%20%20%20%20%20%0A%20%20%20%20%20%20%20%20%20%20%20%20%22column_state(c1%2C2)%22%20-%3E%20%222_p2%22%20%5Blabel%3D%22%22%20weight%3D14%20color%3D%22%23b26e37%22%20tooltip%3D%22%22%20labeltooltip%3D%22%22%5D%20%20%20%20%0A%20%20%20%20%20%20%20%20%0A%20%20%20%20%20%20%20%20%20%20%20%20%222_p2%22%20-%3E%20%22column_state(c1%2C3)%22%20%5Blabel%3D%22%22%20weight%3D14%20color%3D%22%23b26e37%22%20tooltip%3D%22%22%20labeltooltip%3D%22%22%5D%20%20%20%20%0A%20%20%20%20%20%20%20%20%0A%20%20%20%20%20%20%20%20%22lower_case_cs1%22%20-%3E%20%22cs1_lower_case%22%20%5Blabel%3D%22dq%22%20weight%3D14%20color%3D%22%23b26e37%22%20tooltip%3D%22%22%20labeltooltip%3D%22%22%20style%3D%22dashed%22%5D%20%0A%20%20%20%20%20%20%20%20%0A%20%20%20%20%20%20%20%20%22lematize_char_cs2%22%20-%3E%20%22cs1_lem_char%22%20%5Blabel%3D%22dq%22%20weight%3D14%20color%3D%22%23b26e37%22%20tooltip%3D%22%22%20labeltooltip%3D%22%22%20style%3D%22dashed%22%5D%20%0A%0A%0A%20%20%20%20%7Brank%20%3D%20same%3B%20%22column_state(c1%2C1)%22%3B%20%22cs1_lower_case%22%3B%20%7D%0A%20%20%20%20%0A%20%20%20%20%7Brank%20%3D%20same%3B%20p1%3B%20%221_p1%22%3B%7D%0A%0A%20%20%20%20%7Brank%20%3D%20same%3B%20p2%3B%20%222_p2%22%3B%7D%0A%20%20%20%20%0A%20%20%20%20%7Brank%20%3D%20same%3B%20%22column_state(c1%2C2)%22%3B%20%20%22cs1_lower_case_min%22%3B%20%22cs1_lem_char%22%3B%22column_state(c1%2C2)_lemmatize_char%22%7D%0A%20%20%20%20%0A%20%20%20%20%7Brank%20%3D%20same%3B%20%22column_state(c1%2C3)%22%3B%20%22cs1_lem_char_min%22%3B%7D%20%20%20%20%0A%0A%0A%2F*%0A%22column_state(c1%2C1)_lemmatize_char%22%3B%20%22column_state(c1%2C1)_lower_case%22%2C%20%22lower_case_cs1%22%0A*%2F%0A%0A%2F*%20End%20of%20top-level%20graph%20*%2F%0A%7D%0A%0A"
   ]
  },
  {
   "cell_type": "code",
   "execution_count": 65,
   "id": "04d3374b",
   "metadata": {},
   "outputs": [],
   "source": [
    "from clorm.clingo import Control\n",
    "from clorm import Predicate, ConstantField, IntegerField\n",
    "\n",
    "ctrl = Control()\n",
    "ctrl.load(\"recipe_model_v4.pl\")\n",
    "#ctrl.add_facts(db)"
   ]
  },
  {
   "cell_type": "code",
   "execution_count": 52,
   "id": "0e2b8b99",
   "metadata": {},
   "outputs": [],
   "source": [
    "class Process(Predicate):\n",
    "    pid=ConstantField\n",
    "    name=ConstantField"
   ]
  },
  {
   "cell_type": "code",
   "execution_count": 53,
   "id": "4493fafb",
   "metadata": {},
   "outputs": [],
   "source": [
    "ctrl = Control(unifier=[Process])\n",
    "ctrl.load(\"recipe_model_v4.pl\")"
   ]
  },
  {
   "cell_type": "code",
   "execution_count": 92,
   "id": "2637d709",
   "metadata": {},
   "outputs": [
    {
     "name": "stderr",
     "output_type": "stream",
     "text": [
      "recipe_model_v4.pl:314:16-19: info: global variable in tuple of aggregate element:\n",
      "  RId\n",
      "\n"
     ]
    }
   ],
   "source": [
    "ctrl.ground([(\"base\",[])])"
   ]
  },
  {
   "cell_type": "code",
   "execution_count": 23,
   "id": "3075b3c4",
   "metadata": {},
   "outputs": [],
   "source": [
    "from clorm import FactBase\n",
    "\n",
    "class Driver(Predicate):\n",
    "    name=ConstantField\n",
    "\n",
    "class Item(Predicate):\n",
    "    name=ConstantField\n",
    "\n",
    "class Assignment(Predicate):\n",
    "    item=ConstantField\n",
    "    driver=ConstantField\n",
    "    time=IntegerField\n",
    "\n",
    "ctrl = Control(unifier=[Driver,Item,Assignment])\n",
    "ctrl.load(\"quickstart.pl\")\n",
    "    \n",
    "    \n",
    "drivers = [ Driver(name=n) for n in [\"dave\", \"morri\", \"michael\" ] ]\n",
    "items = [ Item(name=\"item{}\".format(i)) for i in range(1,6) ]\n",
    "instance = FactBase(drivers + items)"
   ]
  },
  {
   "cell_type": "code",
   "execution_count": 25,
   "id": "e10ed38b",
   "metadata": {},
   "outputs": [],
   "source": [
    "ctrl.add_facts(instance)\n",
    "ctrl.ground([(\"base\",[])])"
   ]
  },
  {
   "cell_type": "code",
   "execution_count": 26,
   "id": "6dadc421",
   "metadata": {},
   "outputs": [],
   "source": [
    "solution=None\n",
    "def on_model(model):\n",
    "    global solution     # Note: use `nonlocal` keyword depending on scope\n",
    "    solution = model.facts(atoms=True)\n",
    "\n",
    "ctrl.solve(on_model=on_model)\n",
    "if not solution:\n",
    "    raise ValueError(\"No solution found\")\n"
   ]
  },
  {
   "cell_type": "code",
   "execution_count": 27,
   "id": "59389271",
   "metadata": {},
   "outputs": [],
   "source": [
    "from clorm import ph1_\n",
    "\n",
    "query=solution.query(Assignment)\\\n",
    "              .where(Assignment.driver == ph1_)\\\n",
    "              .order_by(Assignment.time)\n"
   ]
  },
  {
   "cell_type": "code",
   "execution_count": 28,
   "id": "ecd19b96",
   "metadata": {},
   "outputs": [
    {
     "name": "stdout",
     "output_type": "stream",
     "text": [
      "Driver dave must deliver: \n",
      "\t Item item5 at time 1\n",
      "\t Item item4 at time 2\n",
      "Driver morri must deliver: \n",
      "\t Item item1 at time 1\n",
      "\t Item item2 at time 2\n",
      "\t Item item3 at time 3\n",
      "Driver michael is not working today\n"
     ]
    }
   ],
   "source": [
    "for d in drivers:\n",
    "    assignments = list(query.bind(d.name).all())\n",
    "    if not assignments:\n",
    "        print(\"Driver {} is not working today\".format(d.name))\n",
    "    else:\n",
    "        print(\"Driver {} must deliver: \".format(d.name))\n",
    "        for a in assignments:\n",
    "            print(\"\\t Item {} at time {}\".format(a.item, a.time))\n"
   ]
  },
  {
   "cell_type": "code",
   "execution_count": 29,
   "id": "3af91a80",
   "metadata": {},
   "outputs": [],
   "source": [
    "import pandas as pd"
   ]
  },
  {
   "cell_type": "code",
   "execution_count": 31,
   "id": "58d3642e",
   "metadata": {},
   "outputs": [],
   "source": [
    "import pyparsing as pp"
   ]
  },
  {
   "cell_type": "code",
   "execution_count": 32,
   "id": "f9366798",
   "metadata": {},
   "outputs": [],
   "source": [
    "#relationship will refer to 'track' in all of your examples\n",
    "relationship = pp.Word(pp.alphas).setResultsName('relationship')\n",
    "\n",
    "number = pp.Word(pp.nums + '.')\n",
    "variable = pp.Word(pp.alphas)\n",
    "# an argument to a relationship can be either a number or a variable\n",
    "argument = number | variable\n",
    "\n",
    "# arguments are a delimited list of 'argument' surrounded by parenthesis\n",
    "arguments= (pp.Suppress('(') + pp.delimitedList(argument) +\n",
    "            pp.Suppress(')')).setResultsName('arguments')\n",
    "\n",
    "# a fact is composed of a relationship and it's arguments \n",
    "# (I'm aware it's actually more complicated than this\n",
    "# it's just a simplifying assumption)\n",
    "fact = (relationship + arguments).setResultsName('facts', listAllMatches=True)\n",
    "\n",
    "# a sentence is a fact plus a period\n",
    "sentence = fact + pp.Suppress('.')\n",
    "\n",
    "# self explanatory\n",
    "prolog_sentences = pp.OneOrMore(sentence)\n"
   ]
  },
  {
   "cell_type": "code",
   "execution_count": 23,
   "id": "2f0ff906",
   "metadata": {},
   "outputs": [
    {
     "name": "stdout",
     "output_type": "stream",
     "text": [
      "Error: workflow_step.gv: syntax error in line 71 near '('\r\n"
     ]
    },
    {
     "ename": "FileNotFoundError",
     "evalue": "[Errno 2] No such file or directory: 'workflow_step.png'",
     "output_type": "error",
     "traceback": [
      "\u001b[0;31m---------------------------------------------------------------------------\u001b[0m",
      "\u001b[0;31mFileNotFoundError\u001b[0m                         Traceback (most recent call last)",
      "\u001b[0;32m/tmp/ipykernel_10494/4027189535.py\u001b[0m in \u001b[0;36m<module>\u001b[0;34m\u001b[0m\n\u001b[0;32m----> 1\u001b[0;31m \u001b[0mgenerate_pdf\u001b[0m\u001b[0;34m(\u001b[0m\u001b[0mgv_string\u001b[0m\u001b[0;34m,\u001b[0m\u001b[0;34m\"workflow_step\"\u001b[0m\u001b[0;34m)\u001b[0m\u001b[0;34m\u001b[0m\u001b[0;34m\u001b[0m\u001b[0m\n\u001b[0m",
      "\u001b[0;32m/tmp/ipykernel_10494/1047901914.py\u001b[0m in \u001b[0;36mgenerate_pdf\u001b[0;34m(gv_string, filename)\u001b[0m\n\u001b[1;32m      6\u001b[0m     \u001b[0moutput\u001b[0m \u001b[0;34m=\u001b[0m \u001b[0mfilename\u001b[0m\u001b[0;34m+\u001b[0m\u001b[0;34m\".png\"\u001b[0m\u001b[0;34m\u001b[0m\u001b[0;34m\u001b[0m\u001b[0m\n\u001b[1;32m      7\u001b[0m     \u001b[0mget_ipython\u001b[0m\u001b[0;34m(\u001b[0m\u001b[0;34m)\u001b[0m\u001b[0;34m.\u001b[0m\u001b[0msystem\u001b[0m\u001b[0;34m(\u001b[0m\u001b[0;34m'dot -Tpng -o $output $input'\u001b[0m\u001b[0;34m)\u001b[0m\u001b[0;34m\u001b[0m\u001b[0;34m\u001b[0m\u001b[0m\n\u001b[0;32m----> 8\u001b[0;31m     \u001b[0;32mreturn\u001b[0m \u001b[0mImage\u001b[0m\u001b[0;34m(\u001b[0m\u001b[0mfilename\u001b[0m\u001b[0;34m=\u001b[0m\u001b[0moutput\u001b[0m\u001b[0;34m)\u001b[0m\u001b[0;34m\u001b[0m\u001b[0;34m\u001b[0m\u001b[0m\n\u001b[0m",
      "\u001b[0;32m~/anaconda3/envs/jupyter/lib/python3.7/site-packages/IPython/core/display.py\u001b[0m in \u001b[0;36m__init__\u001b[0;34m(self, data, url, filename, format, embed, width, height, retina, unconfined, metadata)\u001b[0m\n\u001b[1;32m   1230\u001b[0m         \u001b[0mself\u001b[0m\u001b[0;34m.\u001b[0m\u001b[0munconfined\u001b[0m \u001b[0;34m=\u001b[0m \u001b[0munconfined\u001b[0m\u001b[0;34m\u001b[0m\u001b[0;34m\u001b[0m\u001b[0m\n\u001b[1;32m   1231\u001b[0m         super(Image, self).__init__(data=data, url=url, filename=filename, \n\u001b[0;32m-> 1232\u001b[0;31m                 metadata=metadata)\n\u001b[0m\u001b[1;32m   1233\u001b[0m \u001b[0;34m\u001b[0m\u001b[0m\n\u001b[1;32m   1234\u001b[0m         \u001b[0;32mif\u001b[0m \u001b[0mself\u001b[0m\u001b[0;34m.\u001b[0m\u001b[0mwidth\u001b[0m \u001b[0;32mis\u001b[0m \u001b[0;32mNone\u001b[0m \u001b[0;32mand\u001b[0m \u001b[0mself\u001b[0m\u001b[0;34m.\u001b[0m\u001b[0mmetadata\u001b[0m\u001b[0;34m.\u001b[0m\u001b[0mget\u001b[0m\u001b[0;34m(\u001b[0m\u001b[0;34m'width'\u001b[0m\u001b[0;34m,\u001b[0m \u001b[0;34m{\u001b[0m\u001b[0;34m}\u001b[0m\u001b[0;34m)\u001b[0m\u001b[0;34m:\u001b[0m\u001b[0;34m\u001b[0m\u001b[0;34m\u001b[0m\u001b[0m\n",
      "\u001b[0;32m~/anaconda3/envs/jupyter/lib/python3.7/site-packages/IPython/core/display.py\u001b[0m in \u001b[0;36m__init__\u001b[0;34m(self, data, url, filename, metadata)\u001b[0m\n\u001b[1;32m    635\u001b[0m             \u001b[0mself\u001b[0m\u001b[0;34m.\u001b[0m\u001b[0mmetadata\u001b[0m \u001b[0;34m=\u001b[0m \u001b[0;34m{\u001b[0m\u001b[0;34m}\u001b[0m\u001b[0;34m\u001b[0m\u001b[0;34m\u001b[0m\u001b[0m\n\u001b[1;32m    636\u001b[0m \u001b[0;34m\u001b[0m\u001b[0m\n\u001b[0;32m--> 637\u001b[0;31m         \u001b[0mself\u001b[0m\u001b[0;34m.\u001b[0m\u001b[0mreload\u001b[0m\u001b[0;34m(\u001b[0m\u001b[0;34m)\u001b[0m\u001b[0;34m\u001b[0m\u001b[0;34m\u001b[0m\u001b[0m\n\u001b[0m\u001b[1;32m    638\u001b[0m         \u001b[0mself\u001b[0m\u001b[0;34m.\u001b[0m\u001b[0m_check_data\u001b[0m\u001b[0;34m(\u001b[0m\u001b[0;34m)\u001b[0m\u001b[0;34m\u001b[0m\u001b[0;34m\u001b[0m\u001b[0m\n\u001b[1;32m    639\u001b[0m \u001b[0;34m\u001b[0m\u001b[0m\n",
      "\u001b[0;32m~/anaconda3/envs/jupyter/lib/python3.7/site-packages/IPython/core/display.py\u001b[0m in \u001b[0;36mreload\u001b[0;34m(self)\u001b[0m\n\u001b[1;32m   1261\u001b[0m         \u001b[0;34m\"\"\"Reload the raw data from file or URL.\"\"\"\u001b[0m\u001b[0;34m\u001b[0m\u001b[0;34m\u001b[0m\u001b[0m\n\u001b[1;32m   1262\u001b[0m         \u001b[0;32mif\u001b[0m \u001b[0mself\u001b[0m\u001b[0;34m.\u001b[0m\u001b[0membed\u001b[0m\u001b[0;34m:\u001b[0m\u001b[0;34m\u001b[0m\u001b[0;34m\u001b[0m\u001b[0m\n\u001b[0;32m-> 1263\u001b[0;31m             \u001b[0msuper\u001b[0m\u001b[0;34m(\u001b[0m\u001b[0mImage\u001b[0m\u001b[0;34m,\u001b[0m\u001b[0mself\u001b[0m\u001b[0;34m)\u001b[0m\u001b[0;34m.\u001b[0m\u001b[0mreload\u001b[0m\u001b[0;34m(\u001b[0m\u001b[0;34m)\u001b[0m\u001b[0;34m\u001b[0m\u001b[0;34m\u001b[0m\u001b[0m\n\u001b[0m\u001b[1;32m   1264\u001b[0m             \u001b[0;32mif\u001b[0m \u001b[0mself\u001b[0m\u001b[0;34m.\u001b[0m\u001b[0mretina\u001b[0m\u001b[0;34m:\u001b[0m\u001b[0;34m\u001b[0m\u001b[0;34m\u001b[0m\u001b[0m\n\u001b[1;32m   1265\u001b[0m                 \u001b[0mself\u001b[0m\u001b[0;34m.\u001b[0m\u001b[0m_retina_shape\u001b[0m\u001b[0;34m(\u001b[0m\u001b[0;34m)\u001b[0m\u001b[0;34m\u001b[0m\u001b[0;34m\u001b[0m\u001b[0m\n",
      "\u001b[0;32m~/anaconda3/envs/jupyter/lib/python3.7/site-packages/IPython/core/display.py\u001b[0m in \u001b[0;36mreload\u001b[0;34m(self)\u001b[0m\n\u001b[1;32m    660\u001b[0m         \u001b[0;34m\"\"\"Reload the raw data from file or URL.\"\"\"\u001b[0m\u001b[0;34m\u001b[0m\u001b[0;34m\u001b[0m\u001b[0m\n\u001b[1;32m    661\u001b[0m         \u001b[0;32mif\u001b[0m \u001b[0mself\u001b[0m\u001b[0;34m.\u001b[0m\u001b[0mfilename\u001b[0m \u001b[0;32mis\u001b[0m \u001b[0;32mnot\u001b[0m \u001b[0;32mNone\u001b[0m\u001b[0;34m:\u001b[0m\u001b[0;34m\u001b[0m\u001b[0;34m\u001b[0m\u001b[0m\n\u001b[0;32m--> 662\u001b[0;31m             \u001b[0;32mwith\u001b[0m \u001b[0mopen\u001b[0m\u001b[0;34m(\u001b[0m\u001b[0mself\u001b[0m\u001b[0;34m.\u001b[0m\u001b[0mfilename\u001b[0m\u001b[0;34m,\u001b[0m \u001b[0mself\u001b[0m\u001b[0;34m.\u001b[0m\u001b[0m_read_flags\u001b[0m\u001b[0;34m)\u001b[0m \u001b[0;32mas\u001b[0m \u001b[0mf\u001b[0m\u001b[0;34m:\u001b[0m\u001b[0;34m\u001b[0m\u001b[0;34m\u001b[0m\u001b[0m\n\u001b[0m\u001b[1;32m    663\u001b[0m                 \u001b[0mself\u001b[0m\u001b[0;34m.\u001b[0m\u001b[0mdata\u001b[0m \u001b[0;34m=\u001b[0m \u001b[0mf\u001b[0m\u001b[0;34m.\u001b[0m\u001b[0mread\u001b[0m\u001b[0;34m(\u001b[0m\u001b[0;34m)\u001b[0m\u001b[0;34m\u001b[0m\u001b[0;34m\u001b[0m\u001b[0m\n\u001b[1;32m    664\u001b[0m         \u001b[0;32melif\u001b[0m \u001b[0mself\u001b[0m\u001b[0;34m.\u001b[0m\u001b[0murl\u001b[0m \u001b[0;32mis\u001b[0m \u001b[0;32mnot\u001b[0m \u001b[0;32mNone\u001b[0m\u001b[0;34m:\u001b[0m\u001b[0;34m\u001b[0m\u001b[0;34m\u001b[0m\u001b[0m\n",
      "\u001b[0;31mFileNotFoundError\u001b[0m: [Errno 2] No such file or directory: 'workflow_step.png'"
     ]
    }
   ],
   "source": [
    "generate_pdf(gv_string,\"workflow_step\")"
   ]
  },
  {
   "cell_type": "code",
   "execution_count": 145,
   "id": "522936c0",
   "metadata": {},
   "outputs": [
    {
     "data": {
      "text/plain": [
       "[['column_schema', 'cs11', 'name', 'full_name'],\n",
       " ['column_schema', 'cs11', 'data_type', 'text'],\n",
       " ['column_schema', 'cs12', 'name', 'first_name'],\n",
       " ['column_schema', 'cs12', 'data_type', 'text'],\n",
       " ['column_schema', 'cs13', 'name', 'last_name'],\n",
       " ['column_schema', 'cs13', 'data_type', 'text'],\n",
       " ['column_schema', 'cs13_1', 'name', 'ssn'],\n",
       " ['column_schema', 'cs13_1', 'data_type', 'number'],\n",
       " ['column_schema', 'cs14', 'data_type', 'text'],\n",
       " ['column_schema', 'cs15', 'data_type', 'number']]"
      ]
     },
     "execution_count": 145,
     "metadata": {},
     "output_type": "execute_result"
    }
   ],
   "source": [
    "df_output_str[(\"column_schema\",3)]"
   ]
  },
  {
   "cell_type": "code",
   "execution_count": 101,
   "id": "130a0b55",
   "metadata": {},
   "outputs": [
    {
     "data": {
      "text/plain": [
       "[('column_schema', 3, True),\n",
       " ('parameter', 3, True),\n",
       " ('process', 2, True),\n",
       " ('process_blueprint', 4, True),\n",
       " ('workflow_step', 3, True),\n",
       " ('step_input_schema', 3, True),\n",
       " ('workflow_input_violation', 3, True),\n",
       " ('step_output_schema', 3, True),\n",
       " ('workflow_output_violation', 3, True),\n",
       " ('dq_problem', 2, True),\n",
       " ('step_dq_problem', 3, True),\n",
       " ('dq_problem_violation', 3, True),\n",
       " ('workflow_input', 5, True),\n",
       " ('output_process', 2, True),\n",
       " ('inject_workflow_step', 1, True),\n",
       " ('inject_violation', 6, True),\n",
       " ('input_process', 2, True),\n",
       " ('recipe', 4, True),\n",
       " ('recipe_input_sink', 2, True),\n",
       " ('recipe_output_sink', 2, True),\n",
       " ('reuse_recipe', 1, True),\n",
       " ('reuse_violation', 4, True),\n",
       " ('inject_violation_checking', 6, True),\n",
       " ('select_workflow_step', 4, True),\n",
       " ('injected_parameter', 4, True),\n",
       " ('process_schema', 5, True),\n",
       " ('workflow_path', 4, True),\n",
       " ('example_flow', 4, True),\n",
       " ('column', 4, True),\n",
       " ('dataset', 2, True),\n",
       " ('array', 2, True),\n",
       " ('parameter', 4, True),\n",
       " ('update_workflow_step', 2, True)]"
      ]
     },
     "execution_count": 101,
     "metadata": {},
     "output_type": "execute_result"
    }
   ],
   "source": [
    "x.context.symbolic_atoms.signatures"
   ]
  },
  {
   "cell_type": "code",
   "execution_count": 106,
   "id": "afd3ae26",
   "metadata": {},
   "outputs": [
    {
     "name": "stdout",
     "output_type": "stream",
     "text": [
      "column_schema(cs11,name,full_name)\n",
      "column_schema(cs11,data_type,text)\n",
      "column_schema(cs12,name,first_name)\n",
      "column_schema(cs12,data_type,text)\n",
      "column_schema(cs13,name,last_name)\n",
      "column_schema(cs13,data_type,text)\n",
      "column_schema(cs13_1,name,ssn)\n",
      "column_schema(cs13_1,data_type,number)\n",
      "column_schema(cs14,data_type,text)\n",
      "column_schema(cs15,data_type,number)\n"
     ]
    }
   ],
   "source": [
    "for y in x.context.symbolic_atoms.by_signature(\"column_schema\",3):\n",
    "    print(y.symbol)"
   ]
  },
  {
   "cell_type": "code",
   "execution_count": 107,
   "id": "25b59209",
   "metadata": {},
   "outputs": [
    {
     "name": "stdout",
     "output_type": "stream",
     "text": [
      "workflow_step(column_state(c11,1),p1,column_state(c11,2))\n",
      "workflow_step(column_state(c11,1),p1,column_state(c12,1))\n",
      "workflow_step(column_state(c11,1),p1,column_state(c13,1))\n",
      "workflow_step(column_state(c12,1),p1,column_state(c12,2))\n",
      "workflow_step(column_state(c12,1),p6,column_state(c12,2))\n",
      "workflow_step(column_state(c12,1),p6,column_state(c13_1,1))\n"
     ]
    }
   ],
   "source": [
    "for y in x.context.symbolic_atoms.by_signature(\"workflow_step\",3):\n",
    "    print(y.symbol)"
   ]
  },
  {
   "cell_type": "code",
   "execution_count": 108,
   "id": "05e3f57f",
   "metadata": {},
   "outputs": [
    {
     "name": "stdout",
     "output_type": "stream",
     "text": [
      "step_input_schema(column_state(c11,1),p1,column_schema(cs11,name,full_name))\n",
      "step_input_schema(column_state(c11,1),p1,column_schema(cs11,data_type,text))\n",
      "step_input_schema(column_state(c12,1),p1,column_schema(cs12,name,first_name))\n",
      "step_input_schema(column_state(c12,1),p1,column_schema(cs12,data_type,text))\n",
      "step_input_schema(column_state(c12,1),p6,column_schema(cs12,name,first_name))\n",
      "step_input_schema(column_state(c12,1),p6,column_schema(cs12,data_type,text))\n"
     ]
    }
   ],
   "source": [
    "for y in x.context.symbolic_atoms.by_signature(\"step_input_schema\",3):\n",
    "    print(y.symbol)"
   ]
  },
  {
   "cell_type": "code",
   "execution_count": 129,
   "id": "b80059b7",
   "metadata": {},
   "outputs": [
    {
     "data": {
      "text/plain": [
       "'step_input_schema'"
      ]
     },
     "execution_count": 129,
     "metadata": {},
     "output_type": "execute_result"
    }
   ],
   "source": [
    "y.symbol.name"
   ]
  },
  {
   "cell_type": "code",
   "execution_count": 122,
   "id": "8c72c4e8",
   "metadata": {},
   "outputs": [
    {
     "data": {
      "text/plain": [
       "'column_state(c12,1)'"
      ]
     },
     "execution_count": 122,
     "metadata": {},
     "output_type": "execute_result"
    }
   ],
   "source": [
    "str(y.symbol.arguments[0])"
   ]
  },
  {
   "cell_type": "code",
   "execution_count": 123,
   "id": "b8f0a405",
   "metadata": {},
   "outputs": [
    {
     "data": {
      "text/plain": [
       "'p6'"
      ]
     },
     "execution_count": 123,
     "metadata": {},
     "output_type": "execute_result"
    }
   ],
   "source": [
    "str(y.symbol.arguments[1])"
   ]
  },
  {
   "cell_type": "code",
   "execution_count": 124,
   "id": "3f060fa5",
   "metadata": {},
   "outputs": [
    {
     "data": {
      "text/plain": [
       "'column_schema(cs12,data_type,text)'"
      ]
     },
     "execution_count": 124,
     "metadata": {},
     "output_type": "execute_result"
    }
   ],
   "source": [
    "str(y.symbol.arguments[2])"
   ]
  },
  {
   "cell_type": "code",
   "execution_count": 70,
   "id": "c24573e2",
   "metadata": {},
   "outputs": [
    {
     "name": "stdout",
     "output_type": "stream",
     "text": [
      "workflow_input_violation(column_state(c12,1),p1,column_schema(cs11,name,full_name)) workflow_output_violation(column_state(c12,1),p1,column_schema(cs11,name,full_name)) workflow_output_violation(column_state(c12,1),p1,column_schema(cs13,name,last_name)) dq_problem_violation(column_state(c11,1),p1,null_value) dq_problem_violation(column_state(c12,1),p6,date_format_error)\n"
     ]
    }
   ],
   "source": [
    "test = ctl.solve(on_model=on_model)"
   ]
  },
  {
   "cell_type": "code",
   "execution_count": 72,
   "id": "e9a618d0",
   "metadata": {},
   "outputs": [
    {
     "data": {
      "text/plain": [
       "False"
      ]
     },
     "execution_count": 72,
     "metadata": {},
     "output_type": "execute_result"
    }
   ],
   "source": [
    "test.unknown"
   ]
  },
  {
   "cell_type": "code",
   "execution_count": 44,
   "id": "ea1e69a6",
   "metadata": {},
   "outputs": [
    {
     "ename": "ParseException",
     "evalue": "Expected \")\", found '1'  (at char 9), (line:1, col:10)",
     "output_type": "error",
     "traceback": [
      "\u001b[0;31m---------------------------------------------------------------------------\u001b[0m",
      "\u001b[0;31mParseException\u001b[0m                            Traceback (most recent call last)",
      "\u001b[0;32m/tmp/ipykernel_173628/4123674497.py\u001b[0m in \u001b[0;36m<module>\u001b[0;34m\u001b[0m\n\u001b[0;32m----> 1\u001b[0;31m \u001b[0mresult\u001b[0m \u001b[0;34m=\u001b[0m \u001b[0mprolog_sentences\u001b[0m\u001b[0;34m.\u001b[0m\u001b[0mparseString\u001b[0m\u001b[0;34m(\u001b[0m\u001b[0mfacts\u001b[0m\u001b[0;34m)\u001b[0m\u001b[0;34m\u001b[0m\u001b[0;34m\u001b[0m\u001b[0m\n\u001b[0m",
      "\u001b[0;32m~/anaconda3/envs/jupyter/lib/python3.7/site-packages/pyparsing.py\u001b[0m in \u001b[0;36mparseString\u001b[0;34m(self, instring, parseAll)\u001b[0m\n\u001b[1;32m   1953\u001b[0m                 \u001b[0;32mif\u001b[0m \u001b[0mgetattr\u001b[0m\u001b[0;34m(\u001b[0m\u001b[0mexc\u001b[0m\u001b[0;34m,\u001b[0m \u001b[0;34m'__traceback__'\u001b[0m\u001b[0;34m,\u001b[0m \u001b[0;32mNone\u001b[0m\u001b[0;34m)\u001b[0m \u001b[0;32mis\u001b[0m \u001b[0;32mnot\u001b[0m \u001b[0;32mNone\u001b[0m\u001b[0;34m:\u001b[0m\u001b[0;34m\u001b[0m\u001b[0;34m\u001b[0m\u001b[0m\n\u001b[1;32m   1954\u001b[0m                     \u001b[0mexc\u001b[0m\u001b[0;34m.\u001b[0m\u001b[0m__traceback__\u001b[0m \u001b[0;34m=\u001b[0m \u001b[0mself\u001b[0m\u001b[0;34m.\u001b[0m\u001b[0m_trim_traceback\u001b[0m\u001b[0;34m(\u001b[0m\u001b[0mexc\u001b[0m\u001b[0;34m.\u001b[0m\u001b[0m__traceback__\u001b[0m\u001b[0;34m)\u001b[0m\u001b[0;34m\u001b[0m\u001b[0;34m\u001b[0m\u001b[0m\n\u001b[0;32m-> 1955\u001b[0;31m                 \u001b[0;32mraise\u001b[0m \u001b[0mexc\u001b[0m\u001b[0;34m\u001b[0m\u001b[0;34m\u001b[0m\u001b[0m\n\u001b[0m\u001b[1;32m   1956\u001b[0m         \u001b[0;32melse\u001b[0m\u001b[0;34m:\u001b[0m\u001b[0;34m\u001b[0m\u001b[0;34m\u001b[0m\u001b[0m\n\u001b[1;32m   1957\u001b[0m             \u001b[0;32mreturn\u001b[0m \u001b[0mtokens\u001b[0m\u001b[0;34m\u001b[0m\u001b[0;34m\u001b[0m\u001b[0m\n",
      "\u001b[0;32m~/anaconda3/envs/jupyter/lib/python3.7/site-packages/pyparsing.py\u001b[0m in \u001b[0;36mparseImpl\u001b[0;34m(self, instring, loc, doActions)\u001b[0m\n\u001b[1;32m   2897\u001b[0m         \u001b[0;32mif\u001b[0m \u001b[0minstring\u001b[0m\u001b[0;34m[\u001b[0m\u001b[0mloc\u001b[0m\u001b[0;34m]\u001b[0m \u001b[0;34m==\u001b[0m \u001b[0mself\u001b[0m\u001b[0;34m.\u001b[0m\u001b[0mfirstMatchChar\u001b[0m\u001b[0;34m:\u001b[0m\u001b[0;34m\u001b[0m\u001b[0;34m\u001b[0m\u001b[0m\n\u001b[1;32m   2898\u001b[0m             \u001b[0;32mreturn\u001b[0m \u001b[0mloc\u001b[0m \u001b[0;34m+\u001b[0m \u001b[0;36m1\u001b[0m\u001b[0;34m,\u001b[0m \u001b[0mself\u001b[0m\u001b[0;34m.\u001b[0m\u001b[0mmatch\u001b[0m\u001b[0;34m\u001b[0m\u001b[0;34m\u001b[0m\u001b[0m\n\u001b[0;32m-> 2899\u001b[0;31m         \u001b[0;32mraise\u001b[0m \u001b[0mParseException\u001b[0m\u001b[0;34m(\u001b[0m\u001b[0minstring\u001b[0m\u001b[0;34m,\u001b[0m \u001b[0mloc\u001b[0m\u001b[0;34m,\u001b[0m \u001b[0mself\u001b[0m\u001b[0;34m.\u001b[0m\u001b[0merrmsg\u001b[0m\u001b[0;34m,\u001b[0m \u001b[0mself\u001b[0m\u001b[0;34m)\u001b[0m\u001b[0;34m\u001b[0m\u001b[0;34m\u001b[0m\u001b[0m\n\u001b[0m\u001b[1;32m   2900\u001b[0m \u001b[0;34m\u001b[0m\u001b[0m\n\u001b[1;32m   2901\u001b[0m \u001b[0m_L\u001b[0m \u001b[0;34m=\u001b[0m \u001b[0mLiteral\u001b[0m\u001b[0;34m\u001b[0m\u001b[0;34m\u001b[0m\u001b[0m\n",
      "\u001b[0;31mParseException\u001b[0m: Expected \")\", found '1'  (at char 9), (line:1, col:10)"
     ]
    }
   ],
   "source": [
    "result = prolog_sentences.parseString(facts)"
   ]
  },
  {
   "cell_type": "code",
   "execution_count": 40,
   "id": "299bec85",
   "metadata": {},
   "outputs": [
    {
     "data": {
      "text/plain": [
       "(['track', '1', '2.0', '4000', '3', '300', 'track', '2', '1.0', '9000', '5', '500', 'track', '3', '7.0', '9000', '2', '200'], {'relationship': ['track', 'track', 'track'], 'arguments': [(['1', '2.0', '4000', '3', '300'], {}), (['2', '1.0', '9000', '5', '500'], {}), (['3', '7.0', '9000', '2', '200'], {})], 'facts': [(['track', '1', '2.0', '4000', '3', '300'], {}), (['track', '2', '1.0', '9000', '5', '500'], {}), (['track', '3', '7.0', '9000', '2', '200'], {})]})"
      ]
     },
     "execution_count": 40,
     "metadata": {},
     "output_type": "execute_result"
    }
   ],
   "source": [
    "result"
   ]
  },
  {
   "cell_type": "code",
   "execution_count": 35,
   "id": "01f9827e",
   "metadata": {},
   "outputs": [
    {
     "name": "stdout",
     "output_type": "stream",
     "text": [
      "['track', '1', '2.0', '4000', '3', '300']\n"
     ]
    },
    {
     "ename": "KeyError",
     "evalue": "'relationship'",
     "output_type": "error",
     "traceback": [
      "\u001b[0;31m---------------------------------------------------------------------------\u001b[0m",
      "\u001b[0;31mKeyError\u001b[0m                                  Traceback (most recent call last)",
      "\u001b[0;32m/tmp/ipykernel_173628/909149491.py\u001b[0m in \u001b[0;36m<module>\u001b[0;34m\u001b[0m\n\u001b[1;32m      8\u001b[0m \u001b[0;31m# outputs ['1', '2.0', '4000', '3', '300']\u001b[0m\u001b[0;34m\u001b[0m\u001b[0;34m\u001b[0m\u001b[0;34m\u001b[0m\u001b[0m\n\u001b[1;32m      9\u001b[0m \u001b[0;34m\u001b[0m\u001b[0m\n\u001b[0;32m---> 10\u001b[0;31m \u001b[0mprint\u001b[0m\u001b[0;34m(\u001b[0m\u001b[0mresult\u001b[0m\u001b[0;34m[\u001b[0m\u001b[0;34m'facts'\u001b[0m\u001b[0;34m]\u001b[0m\u001b[0;34m[\u001b[0m\u001b[0;36m1\u001b[0m\u001b[0;34m]\u001b[0m\u001b[0;34m[\u001b[0m\u001b[0;34m'relationship'\u001b[0m\u001b[0;34m]\u001b[0m\u001b[0;34m)\u001b[0m\u001b[0;34m\u001b[0m\u001b[0;34m\u001b[0m\u001b[0m\n\u001b[0m\u001b[1;32m     11\u001b[0m \u001b[0;31m# outputs 'track'\u001b[0m\u001b[0;34m\u001b[0m\u001b[0;34m\u001b[0m\u001b[0;34m\u001b[0m\u001b[0m\n\u001b[1;32m     12\u001b[0m \u001b[0;34m\u001b[0m\u001b[0m\n",
      "\u001b[0;32m~/anaconda3/envs/jupyter/lib/python3.7/site-packages/pyparsing.py\u001b[0m in \u001b[0;36m__getitem__\u001b[0;34m(self, i)\u001b[0m\n\u001b[1;32m    596\u001b[0m         \u001b[0;32melse\u001b[0m\u001b[0;34m:\u001b[0m\u001b[0;34m\u001b[0m\u001b[0;34m\u001b[0m\u001b[0m\n\u001b[1;32m    597\u001b[0m             \u001b[0;32mif\u001b[0m \u001b[0mi\u001b[0m \u001b[0;32mnot\u001b[0m \u001b[0;32min\u001b[0m \u001b[0mself\u001b[0m\u001b[0;34m.\u001b[0m\u001b[0m__accumNames\u001b[0m\u001b[0;34m:\u001b[0m\u001b[0;34m\u001b[0m\u001b[0;34m\u001b[0m\u001b[0m\n\u001b[0;32m--> 598\u001b[0;31m                 \u001b[0;32mreturn\u001b[0m \u001b[0mself\u001b[0m\u001b[0;34m.\u001b[0m\u001b[0m__tokdict\u001b[0m\u001b[0;34m[\u001b[0m\u001b[0mi\u001b[0m\u001b[0;34m]\u001b[0m\u001b[0;34m[\u001b[0m\u001b[0;34m-\u001b[0m\u001b[0;36m1\u001b[0m\u001b[0;34m]\u001b[0m\u001b[0;34m[\u001b[0m\u001b[0;36m0\u001b[0m\u001b[0;34m]\u001b[0m\u001b[0;34m\u001b[0m\u001b[0;34m\u001b[0m\u001b[0m\n\u001b[0m\u001b[1;32m    599\u001b[0m             \u001b[0;32melse\u001b[0m\u001b[0;34m:\u001b[0m\u001b[0;34m\u001b[0m\u001b[0;34m\u001b[0m\u001b[0m\n\u001b[1;32m    600\u001b[0m                 \u001b[0;32mreturn\u001b[0m \u001b[0mParseResults\u001b[0m\u001b[0;34m(\u001b[0m\u001b[0;34m[\u001b[0m\u001b[0mv\u001b[0m\u001b[0;34m[\u001b[0m\u001b[0;36m0\u001b[0m\u001b[0;34m]\u001b[0m \u001b[0;32mfor\u001b[0m \u001b[0mv\u001b[0m \u001b[0;32min\u001b[0m \u001b[0mself\u001b[0m\u001b[0;34m.\u001b[0m\u001b[0m__tokdict\u001b[0m\u001b[0;34m[\u001b[0m\u001b[0mi\u001b[0m\u001b[0;34m]\u001b[0m\u001b[0;34m]\u001b[0m\u001b[0;34m)\u001b[0m\u001b[0;34m\u001b[0m\u001b[0;34m\u001b[0m\u001b[0m\n",
      "\u001b[0;31mKeyError\u001b[0m: 'relationship'"
     ]
    }
   ],
   "source": [
    "test=\"\"\"track(1, 2.0, 4000, 3, 300).\n",
    "track(2, 1.0, 9000, 5, 500).\n",
    "track(3, 7.0, 9000, 2, 200).\"\"\"\n",
    "\n",
    "result = prolog_sentences.parseString(test)\n",
    "\n",
    "print(result['facts'][0])\n",
    "# outputs ['1', '2.0', '4000', '3', '300']\n",
    "\n",
    "print(result['facts'][1]['relationship'])\n",
    "# outputs 'track'\n",
    "\n",
    "print(result['facts'][2]['arguments'][1])\n"
   ]
  },
  {
   "cell_type": "code",
   "execution_count": null,
   "id": "711eef09",
   "metadata": {},
   "outputs": [],
   "source": []
  },
  {
   "cell_type": "code",
   "execution_count": null,
   "id": "943379f4",
   "metadata": {},
   "outputs": [],
   "source": []
  }
 ],
 "metadata": {
  "kernelspec": {
   "display_name": "Python 3 (ipykernel)",
   "language": "python",
   "name": "python3"
  },
  "language_info": {
   "codemirror_mode": {
    "name": "ipython",
    "version": 3
   },
   "file_extension": ".py",
   "mimetype": "text/x-python",
   "name": "python",
   "nbconvert_exporter": "python",
   "pygments_lexer": "ipython3",
   "version": "3.7.7"
  }
 },
 "nbformat": 4,
 "nbformat_minor": 5
}
